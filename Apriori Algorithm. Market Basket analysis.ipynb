{
 "cells": [
  {
   "cell_type": "markdown",
   "metadata": {},
   "source": [
    "# Association analysis brief overview\n",
    "\n",
    "Association analysis is relatively straightforward concept. In addition, it is an unsupervised learning tool that looks for  patterns in data so there is relatively low requirement for initial data analysis and domain expertise. \n",
    "\n",
    "Definitions (ref Stanford CS246:Mining Massive Data Sets):\n",
    "\n",
    "**Support** is the relative frequency that the rules show up. In many instances, you may want to look for high support in order to make sure it is a useful relationship. However, there may be instances where a low support is useful if you are trying to find “hidden” relationships.\n",
    "\n",
    "**Confidence** is a measure of the reliability of the rule. A confidence of .5 in the above example would mean that in 50% of the cases where Diaper and Gum were purchased, the purchase also included Beer and Chips. For product recommendation, a 50% confidence may be perfectly acceptable but in a medical situation, this level may not be high enough.\n",
    "\n",
    "**Lift** is the ratio of the observed support to that expected if the two rules were independent (see wikipedia). The basic rule of thumb is that a lift value close to 1 means the rules were completely independent. Lift values > 1 are generally more “interesting” and could be indicative of a useful rule pattern."
   ]
  },
  {
   "cell_type": "code",
   "execution_count": 2,
   "metadata": {},
   "outputs": [],
   "source": [
    "import pandas as pd\n",
    "import scipy.sparse as sparse\n",
    "import numpy as np\n",
    "from scipy.sparse.linalg import spsolve\n",
    "from IPython.display import display, HTML\n",
    "import sys\n",
    "from itertools import combinations, groupby\n",
    "from collections import Counter\n",
    "\n",
    "# in this case I am not using hand-coded a prirori, but we will code it for \n",
    "# study purposes later in the notebook (stay tuned :) )\n",
    "# update- the lib does not really work with 'large# (not really large) datasets\n",
    "# had to cut it by hand\n",
    "# from mlxtend.frequent_patterns import apriori\n",
    "# from mlxtend.frequent_patterns import association_rules"
   ]
  },
  {
   "cell_type": "code",
   "execution_count": 3,
   "metadata": {},
   "outputs": [
    {
     "data": {
      "text/html": [
       "<div>\n",
       "<style scoped>\n",
       "    .dataframe tbody tr th:only-of-type {\n",
       "        vertical-align: middle;\n",
       "    }\n",
       "\n",
       "    .dataframe tbody tr th {\n",
       "        vertical-align: top;\n",
       "    }\n",
       "\n",
       "    .dataframe thead th {\n",
       "        text-align: right;\n",
       "    }\n",
       "</style>\n",
       "<table border=\"1\" class=\"dataframe\">\n",
       "  <thead>\n",
       "    <tr style=\"text-align: right;\">\n",
       "      <th></th>\n",
       "      <th>SCM_N_ORDER_POS_NR</th>\n",
       "      <th>SCM_N_ORDER_NR</th>\n",
       "      <th>SCM_N_ORDER_NR_NC</th>\n",
       "      <th>TDT_T_KEY_ORDER_DATE</th>\n",
       "      <th>ART_N_KEY_ARTICLE</th>\n",
       "      <th>PPR_N_KEY_PHYS_PRODUCT</th>\n",
       "      <th>CUS_N_KEY_CUSTOMER</th>\n",
       "      <th>SCM_D_QUANTITY</th>\n",
       "      <th>PPR_N_PHY_ARTICLE_ID</th>\n",
       "      <th>PPR_N_PHY_PRODUCT_ID</th>\n",
       "      <th>...</th>\n",
       "      <th>ART_V_ART_DESCRIPTION</th>\n",
       "      <th>ART_V_ART_DESCRIPTION_1</th>\n",
       "      <th>ART_V_PG_LEVEL3_DESC</th>\n",
       "      <th>ART_V_PG_LEVEL4_DESC</th>\n",
       "      <th>ART_V_PG_LEVEL5_DESC</th>\n",
       "      <th>ART_V_PG_LEVEL6_DESC</th>\n",
       "      <th>ART_V_MANUFACTURER_DESC</th>\n",
       "      <th>PPR_ART_CLASS_DESC</th>\n",
       "      <th>PPR_N_LEVEL2_ID</th>\n",
       "      <th>SCM_N_ORDER_NR_1</th>\n",
       "    </tr>\n",
       "  </thead>\n",
       "  <tbody>\n",
       "    <tr>\n",
       "      <th>0</th>\n",
       "      <td>341999621</td>\n",
       "      <td>80391417</td>\n",
       "      <td>0</td>\n",
       "      <td>06-JAN-17</td>\n",
       "      <td>1311010</td>\n",
       "      <td>62776372</td>\n",
       "      <td>12378259</td>\n",
       "      <td>1.00</td>\n",
       "      <td>61312</td>\n",
       "      <td>19997</td>\n",
       "      <td>...</td>\n",
       "      <td>139428.16 Royal Canin British Shorthair Adult ...</td>\n",
       "      <td>139428.16 Royal Canin British Shorthair Adult ...</td>\n",
       "      <td>Katzenfutter trocken</td>\n",
       "      <td>Royal Canin Rasse (Breed)</td>\n",
       "      <td>British Shorthair</td>\n",
       "      <td>British Shorthair</td>\n",
       "      <td>Royal Canin</td>\n",
       "      <td>Royal Canin</td>\n",
       "      <td>3</td>\n",
       "      <td>80391417</td>\n",
       "    </tr>\n",
       "    <tr>\n",
       "      <th>1</th>\n",
       "      <td>348334117</td>\n",
       "      <td>81849313</td>\n",
       "      <td>0</td>\n",
       "      <td>02-FEB-17</td>\n",
       "      <td>2031175</td>\n",
       "      <td>111951408</td>\n",
       "      <td>2913095</td>\n",
       "      <td>1.00</td>\n",
       "      <td>70828</td>\n",
       "      <td>48693</td>\n",
       "      <td>...</td>\n",
       "      <td>523432.4 Bozita Original - 12 kg + 1,8 kg gratis</td>\n",
       "      <td>523432.4 Bozita Original - 12 kg + 1,8 kg gratis</td>\n",
       "      <td>Hundefutter trocken</td>\n",
       "      <td>Bozita</td>\n",
       "      <td>Bozita</td>\n",
       "      <td>Bozita</td>\n",
       "      <td>Doggy-Bozita</td>\n",
       "      <td>Dry Food Cat / Dog</td>\n",
       "      <td>2</td>\n",
       "      <td>81849313</td>\n",
       "    </tr>\n",
       "    <tr>\n",
       "      <th>2</th>\n",
       "      <td>348334114</td>\n",
       "      <td>81849313</td>\n",
       "      <td>0</td>\n",
       "      <td>02-FEB-17</td>\n",
       "      <td>1568093</td>\n",
       "      <td>53626549</td>\n",
       "      <td>2913095</td>\n",
       "      <td>1.00</td>\n",
       "      <td>56851</td>\n",
       "      <td>43068</td>\n",
       "      <td>...</td>\n",
       "      <td>468126.4 Sparpaket Lukullus feine Kauknochen 3...</td>\n",
       "      <td>468126.4 Sparpaket Lukullus feine Kauknochen 3...</td>\n",
       "      <td>Hundesnacks</td>\n",
       "      <td>★ Lukullus</td>\n",
       "      <td>Lukullus feine Kauknochen</td>\n",
       "      <td>Lukullus feine Kauknochen</td>\n",
       "      <td>MATINA</td>\n",
       "      <td>snacks</td>\n",
       "      <td>2</td>\n",
       "      <td>81849313</td>\n",
       "    </tr>\n",
       "    <tr>\n",
       "      <th>3</th>\n",
       "      <td>354903151</td>\n",
       "      <td>83341895</td>\n",
       "      <td>0</td>\n",
       "      <td>02-MAR-17</td>\n",
       "      <td>1910589</td>\n",
       "      <td>38614848</td>\n",
       "      <td>7097883</td>\n",
       "      <td>0.25</td>\n",
       "      <td>51010</td>\n",
       "      <td>39043</td>\n",
       "      <td>...</td>\n",
       "      <td>445245.29 Sparpaket Animonda Carny Adult 24 x ...</td>\n",
       "      <td>445245.29 Sparpaket Animonda Carny Adult 24 x ...</td>\n",
       "      <td>Katzenfutter nass</td>\n",
       "      <td>Animonda Carny</td>\n",
       "      <td>Carny Fleisch</td>\n",
       "      <td>Carny Fleisch</td>\n",
       "      <td>Animonda</td>\n",
       "      <td>Canned Food Cat / Dog</td>\n",
       "      <td>3</td>\n",
       "      <td>83341895</td>\n",
       "    </tr>\n",
       "    <tr>\n",
       "      <th>4</th>\n",
       "      <td>354903151</td>\n",
       "      <td>83341895</td>\n",
       "      <td>0</td>\n",
       "      <td>02-MAR-17</td>\n",
       "      <td>1910589</td>\n",
       "      <td>38614828</td>\n",
       "      <td>7097883</td>\n",
       "      <td>0.25</td>\n",
       "      <td>51174</td>\n",
       "      <td>39043</td>\n",
       "      <td>...</td>\n",
       "      <td>445245.29 Sparpaket Animonda Carny Adult 24 x ...</td>\n",
       "      <td>445245.29 Sparpaket Animonda Carny Adult 24 x ...</td>\n",
       "      <td>Katzenfutter nass</td>\n",
       "      <td>Animonda Carny</td>\n",
       "      <td>Carny Fleisch</td>\n",
       "      <td>Carny Fleisch</td>\n",
       "      <td>Animonda</td>\n",
       "      <td>Canned Food Cat / Dog</td>\n",
       "      <td>3</td>\n",
       "      <td>83341895</td>\n",
       "    </tr>\n",
       "  </tbody>\n",
       "</table>\n",
       "<p>5 rows × 23 columns</p>\n",
       "</div>"
      ],
      "text/plain": [
       "   SCM_N_ORDER_POS_NR  SCM_N_ORDER_NR  SCM_N_ORDER_NR_NC TDT_T_KEY_ORDER_DATE  \\\n",
       "0           341999621        80391417                  0            06-JAN-17   \n",
       "1           348334117        81849313                  0            02-FEB-17   \n",
       "2           348334114        81849313                  0            02-FEB-17   \n",
       "3           354903151        83341895                  0            02-MAR-17   \n",
       "4           354903151        83341895                  0            02-MAR-17   \n",
       "\n",
       "   ART_N_KEY_ARTICLE  PPR_N_KEY_PHYS_PRODUCT  CUS_N_KEY_CUSTOMER  \\\n",
       "0            1311010                62776372            12378259   \n",
       "1            2031175               111951408             2913095   \n",
       "2            1568093                53626549             2913095   \n",
       "3            1910589                38614848             7097883   \n",
       "4            1910589                38614828             7097883   \n",
       "\n",
       "   SCM_D_QUANTITY  PPR_N_PHY_ARTICLE_ID  PPR_N_PHY_PRODUCT_ID  \\\n",
       "0            1.00                 61312                 19997   \n",
       "1            1.00                 70828                 48693   \n",
       "2            1.00                 56851                 43068   \n",
       "3            0.25                 51010                 39043   \n",
       "4            0.25                 51174                 39043   \n",
       "\n",
       "        ...                                     ART_V_ART_DESCRIPTION  \\\n",
       "0       ...         139428.16 Royal Canin British Shorthair Adult ...   \n",
       "1       ...          523432.4 Bozita Original - 12 kg + 1,8 kg gratis   \n",
       "2       ...         468126.4 Sparpaket Lukullus feine Kauknochen 3...   \n",
       "3       ...         445245.29 Sparpaket Animonda Carny Adult 24 x ...   \n",
       "4       ...         445245.29 Sparpaket Animonda Carny Adult 24 x ...   \n",
       "\n",
       "                             ART_V_ART_DESCRIPTION_1  ART_V_PG_LEVEL3_DESC  \\\n",
       "0  139428.16 Royal Canin British Shorthair Adult ...  Katzenfutter trocken   \n",
       "1   523432.4 Bozita Original - 12 kg + 1,8 kg gratis   Hundefutter trocken   \n",
       "2  468126.4 Sparpaket Lukullus feine Kauknochen 3...           Hundesnacks   \n",
       "3  445245.29 Sparpaket Animonda Carny Adult 24 x ...     Katzenfutter nass   \n",
       "4  445245.29 Sparpaket Animonda Carny Adult 24 x ...     Katzenfutter nass   \n",
       "\n",
       "        ART_V_PG_LEVEL4_DESC       ART_V_PG_LEVEL5_DESC  \\\n",
       "0  Royal Canin Rasse (Breed)          British Shorthair   \n",
       "1                     Bozita                     Bozita   \n",
       "2                 ★ Lukullus  Lukullus feine Kauknochen   \n",
       "3             Animonda Carny              Carny Fleisch   \n",
       "4             Animonda Carny              Carny Fleisch   \n",
       "\n",
       "        ART_V_PG_LEVEL6_DESC ART_V_MANUFACTURER_DESC     PPR_ART_CLASS_DESC  \\\n",
       "0          British Shorthair             Royal Canin            Royal Canin   \n",
       "1                     Bozita            Doggy-Bozita     Dry Food Cat / Dog   \n",
       "2  Lukullus feine Kauknochen                  MATINA                 snacks   \n",
       "3              Carny Fleisch                Animonda  Canned Food Cat / Dog   \n",
       "4              Carny Fleisch                Animonda  Canned Food Cat / Dog   \n",
       "\n",
       "  PPR_N_LEVEL2_ID SCM_N_ORDER_NR_1  \n",
       "0               3         80391417  \n",
       "1               2         81849313  \n",
       "2               2         81849313  \n",
       "3               3         83341895  \n",
       "4               3         83341895  \n",
       "\n",
       "[5 rows x 23 columns]"
      ]
     },
     "execution_count": 3,
     "metadata": {},
     "output_type": "execute_result"
    }
   ],
   "source": [
    "# load the data\n",
    "raw_df = pd.read_csv('export_with_basket_2017.csv', encoding = \"utf-8\")#, nrows = 100000)\n",
    "raw_df.head()"
   ]
  },
  {
   "cell_type": "code",
   "execution_count": 4,
   "metadata": {},
   "outputs": [],
   "source": [
    "# let us remove unsued columns:\n",
    "col_list = ['ART_C_PROD_NUMBER', 'SCM_N_ORDER_NR_1']\n",
    "orders = raw_df[col_list]"
   ]
  },
  {
   "cell_type": "code",
   "execution_count": 5,
   "metadata": {
    "scrolled": true
   },
   "outputs": [],
   "source": [
    "# those column labels are way to long\n",
    "# Let us rename those\n",
    "orders = orders.rename({\"ART_C_PROD_NUMBER\": \"product_id\",\n",
    "                \"SCM_N_ORDER_NR_1\": \"order_id\"}, axis='columns')"
   ]
  },
  {
   "cell_type": "code",
   "execution_count": 6,
   "metadata": {
    "scrolled": true
   },
   "outputs": [],
   "source": [
    "# This does not work due to the bug in Pandas\n",
    "# df.groupby(['CUS_N_KEY_CUSTOMER', 'ART_C_PROD_NUMBER']).sum().reset_index()\n",
    "# df_pivot = df.pivot(index='CUS_N_KEY_CUSTOMER', columns='ART_C_PROD_NUMBER', values='SCM_D_QUANTITY')"
   ]
  },
  {
   "cell_type": "markdown",
   "metadata": {},
   "source": [
    "## Data preparation"
   ]
  },
  {
   "cell_type": "code",
   "execution_count": 7,
   "metadata": {},
   "outputs": [],
   "source": [
    "# Function that returns the size of an object in MB\n",
    "def size(obj):\n",
    "    return \"{0:.2f} MB\".format(sys.getsizeof(obj) / (1000 * 1000))"
   ]
  },
  {
   "cell_type": "code",
   "execution_count": 8,
   "metadata": {},
   "outputs": [
    {
     "name": "stdout",
     "output_type": "stream",
     "text": [
      "orders -- dimensions: (23768830, 2);   size: 380.30 MB\n"
     ]
    },
    {
     "data": {
      "text/html": [
       "<div>\n",
       "<style scoped>\n",
       "    .dataframe tbody tr th:only-of-type {\n",
       "        vertical-align: middle;\n",
       "    }\n",
       "\n",
       "    .dataframe tbody tr th {\n",
       "        vertical-align: top;\n",
       "    }\n",
       "\n",
       "    .dataframe thead th {\n",
       "        text-align: right;\n",
       "    }\n",
       "</style>\n",
       "<table border=\"1\" class=\"dataframe\">\n",
       "  <thead>\n",
       "    <tr style=\"text-align: right;\">\n",
       "      <th></th>\n",
       "      <th>product_id</th>\n",
       "      <th>order_id</th>\n",
       "    </tr>\n",
       "  </thead>\n",
       "  <tbody>\n",
       "    <tr>\n",
       "      <th>0</th>\n",
       "      <td>139428</td>\n",
       "      <td>80391417</td>\n",
       "    </tr>\n",
       "    <tr>\n",
       "      <th>1</th>\n",
       "      <td>523432</td>\n",
       "      <td>81849313</td>\n",
       "    </tr>\n",
       "    <tr>\n",
       "      <th>2</th>\n",
       "      <td>468126</td>\n",
       "      <td>81849313</td>\n",
       "    </tr>\n",
       "    <tr>\n",
       "      <th>3</th>\n",
       "      <td>445245</td>\n",
       "      <td>83341895</td>\n",
       "    </tr>\n",
       "    <tr>\n",
       "      <th>4</th>\n",
       "      <td>445245</td>\n",
       "      <td>83341895</td>\n",
       "    </tr>\n",
       "  </tbody>\n",
       "</table>\n",
       "</div>"
      ],
      "text/plain": [
       "   product_id  order_id\n",
       "0      139428  80391417\n",
       "1      523432  81849313\n",
       "2      468126  81849313\n",
       "3      445245  83341895\n",
       "4      445245  83341895"
      ]
     },
     "metadata": {},
     "output_type": "display_data"
    }
   ],
   "source": [
    "print('orders -- dimensions: {0};   size: {1}'.format(orders.shape, size(orders)))\n",
    "display(orders.head())"
   ]
  },
  {
   "cell_type": "markdown",
   "metadata": {},
   "source": [
    "#### Convert order data into format expected by the association rules function"
   ]
  },
  {
   "cell_type": "code",
   "execution_count": 9,
   "metadata": {},
   "outputs": [
    {
     "data": {
      "text/plain": [
       "order_id\n",
       "80391417    139428\n",
       "81849313    523432\n",
       "81849313    468126\n",
       "83341895    445245\n",
       "83341895    445245\n",
       "89532203    451643\n",
       "89532203    451643\n",
       "89532203    199687\n",
       "89532203    199737\n",
       "86083656    183831\n",
       "Name: item_id, dtype: int64"
      ]
     },
     "metadata": {},
     "output_type": "display_data"
    },
    {
     "data": {
      "text/plain": [
       "pandas.core.series.Series"
      ]
     },
     "execution_count": 9,
     "metadata": {},
     "output_type": "execute_result"
    }
   ],
   "source": [
    "# Convert from DataFrame to a Series, with order_id as index and item_id as value\n",
    "orders = orders.set_index('order_id')['product_id'].rename('item_id')\n",
    "display(orders.head(10))\n",
    "type(orders)"
   ]
  },
  {
   "cell_type": "markdown",
   "metadata": {},
   "source": [
    "### Display summary statistics for the order data"
   ]
  },
  {
   "cell_type": "code",
   "execution_count": 10,
   "metadata": {},
   "outputs": [
    {
     "name": "stdout",
     "output_type": "stream",
     "text": [
      "orders -- dimensions: (23768830,);   size: 380.30 MB;   unique_orders: 5044124;   unique_items: 7514\n"
     ]
    }
   ],
   "source": [
    "print('orders -- dimensions: {0};   size: {1};   unique_orders: {2};   unique_items: {3}'\n",
    "      .format(orders.shape, size(orders), len(orders.index.unique()), len(orders.value_counts())))"
   ]
  },
  {
   "cell_type": "markdown",
   "metadata": {},
   "source": [
    "## Association Rules Function"
   ]
  },
  {
   "cell_type": "markdown",
   "metadata": {},
   "source": [
    "### Helper functions to the main association rules function"
   ]
  },
  {
   "cell_type": "code",
   "execution_count": 11,
   "metadata": {},
   "outputs": [],
   "source": [
    "# Returns frequency counts for items and item pairs\n",
    "def freq(iterable):\n",
    "    if type(iterable) == pd.core.series.Series:\n",
    "        return iterable.value_counts().rename(\"freq\")\n",
    "    else: \n",
    "        return pd.Series(Counter(iterable)).rename(\"freq\")\n",
    "\n",
    "    \n",
    "# Returns number of unique orders\n",
    "def order_count(order_item):\n",
    "    return len(set(order_item.index))\n",
    "\n",
    "\n",
    "# Returns generator that yields item pairs, one at a time\n",
    "def get_item_pairs(order_item):\n",
    "    order_item = order_item.reset_index().as_matrix()\n",
    "    for order_id, order_object in groupby(order_item, lambda x: x[0]):\n",
    "        item_list = [item[1] for item in order_object]\n",
    "              \n",
    "        for item_pair in combinations(item_list, 2):\n",
    "            yield item_pair\n",
    "            \n",
    "\n",
    "# Returns frequency and support associated with item\n",
    "def merge_item_stats(item_pairs, item_stats):\n",
    "    return (item_pairs\n",
    "                .merge(item_stats.rename(columns={'freq': 'freqA', 'support': 'supportA'}), left_on='item_A', right_index=True)\n",
    "                .merge(item_stats.rename(columns={'freq': 'freqB', 'support': 'supportB'}), left_on='item_B', right_index=True))\n",
    "\n",
    "\n",
    "# Returns name associated with item\n",
    "def merge_item_name(rules, item_name):\n",
    "    columns = ['itemA','itemB','freqAB','supportAB','freqA','supportA','freqB','supportB', \n",
    "               'confidenceAtoB','confidenceBtoA','lift']\n",
    "    rules = (rules\n",
    "                .merge(item_name.rename(columns={'item_name': 'itemA'}), left_on='item_A', right_on='item_id')\n",
    "                .merge(item_name.rename(columns={'item_name': 'itemB'}), left_on='item_B', right_on='item_id'))\n",
    "    return rules[columns]               "
   ]
  },
  {
   "cell_type": "markdown",
   "metadata": {},
   "source": [
    "### Association rules function"
   ]
  },
  {
   "cell_type": "code",
   "execution_count": 12,
   "metadata": {},
   "outputs": [],
   "source": [
    "def association_rules(order_item, min_support):\n",
    "\n",
    "    print(\"Starting order_item: {:22d}\".format(len(order_item)))\n",
    "\n",
    "\n",
    "    # Calculate item frequency and support\n",
    "    item_stats             = freq(order_item).to_frame(\"freq\")\n",
    "    item_stats['support']  = item_stats['freq'] / order_count(order_item) * 100\n",
    "\n",
    "\n",
    "    # Filter from order_item items below min support \n",
    "    qualifying_items       = item_stats[item_stats['support'] >= min_support].index\n",
    "    order_item             = order_item[order_item.isin(qualifying_items)]\n",
    "\n",
    "    print(\"Items with support >= {}: {:15d}\".format(min_support, len(qualifying_items)))\n",
    "    print(\"Remaining order_item: {:21d}\".format(len(order_item)))\n",
    "\n",
    "\n",
    "    # Filter from order_item orders with less than 2 items\n",
    "    order_size             = freq(order_item.index)\n",
    "    qualifying_orders      = order_size[order_size >= 2].index\n",
    "    order_item             = order_item[order_item.index.isin(qualifying_orders)]\n",
    "\n",
    "    print(\"Remaining orders with 2+ items: {:11d}\".format(len(qualifying_orders)))\n",
    "    print(\"Remaining order_item: {:21d}\".format(len(order_item)))\n",
    "\n",
    "\n",
    "    # Recalculate item frequency and support\n",
    "    item_stats             = freq(order_item).to_frame(\"freq\")\n",
    "    item_stats['support']  = item_stats['freq'] / order_count(order_item) * 100\n",
    "\n",
    "\n",
    "    # Get item pairs generator\n",
    "    item_pair_gen          = get_item_pairs(order_item)\n",
    "\n",
    "\n",
    "    # Calculate item pair frequency and support\n",
    "    item_pairs              = freq(item_pair_gen).to_frame(\"freqAB\")\n",
    "    item_pairs['supportAB'] = item_pairs['freqAB'] / len(qualifying_orders) * 100\n",
    "\n",
    "    print(\"Item pairs: {:31d}\".format(len(item_pairs)))\n",
    "\n",
    "\n",
    "    # Filter from item_pairs those below min support\n",
    "    item_pairs              = item_pairs[item_pairs['supportAB'] >= min_support]\n",
    "\n",
    "    print(\"Item pairs with support >= {}: {:10d}\\n\".format(min_support, len(item_pairs)))\n",
    "\n",
    "\n",
    "    # Create table of association rules and compute relevant metrics\n",
    "    item_pairs = item_pairs.reset_index().rename(columns={'level_0': 'item_A', 'level_1': 'item_B'})\n",
    "    item_pairs = merge_item_stats(item_pairs, item_stats)\n",
    "    \n",
    "    item_pairs['confidenceAtoB'] = item_pairs['supportAB'] / item_pairs['supportA']\n",
    "    item_pairs['confidenceBtoA'] = item_pairs['supportAB'] / item_pairs['supportB']\n",
    "    item_pairs['lift']           = item_pairs['supportAB'] / (item_pairs['supportA'] * item_pairs['supportB'])\n",
    "   \n",
    "\n",
    "    # Return association rules sorted by lift in descending order\n",
    "    return item_pairs.sort_values('lift', ascending=False)"
   ]
  },
  {
   "cell_type": "markdown",
   "metadata": {},
   "source": [
    "## Association Rules Mining"
   ]
  },
  {
   "cell_type": "code",
   "execution_count": 13,
   "metadata": {},
   "outputs": [
    {
     "name": "stdout",
     "output_type": "stream",
     "text": [
      "Starting order_item:               23768830\n",
      "Items with support >= 0.001:            6894\n",
      "Remaining order_item:              23758584\n",
      "Remaining orders with 2+ items:     4090755\n",
      "Remaining order_item:              22806396\n",
      "Item pairs:                         5943525\n",
      "Item pairs with support >= 0.001:      81496\n",
      "\n",
      "Wall time: 1min 31s\n"
     ]
    }
   ],
   "source": [
    "%%time\n",
    "rules = association_rules(orders, 0.001)  # here it is important to get the right support, since we have relatively few items and large amount of users"
   ]
  },
  {
   "cell_type": "code",
   "execution_count": 14,
   "metadata": {},
   "outputs": [
    {
     "data": {
      "text/plain": [
       "4427"
      ]
     },
     "execution_count": 14,
     "metadata": {},
     "output_type": "execute_result"
    }
   ],
   "source": [
    "rules['item_A'].unique().size"
   ]
  },
  {
   "cell_type": "code",
   "execution_count": 15,
   "metadata": {},
   "outputs": [
    {
     "data": {
      "text/html": [
       "<div>\n",
       "<style scoped>\n",
       "    .dataframe tbody tr th:only-of-type {\n",
       "        vertical-align: middle;\n",
       "    }\n",
       "\n",
       "    .dataframe tbody tr th {\n",
       "        vertical-align: top;\n",
       "    }\n",
       "\n",
       "    .dataframe thead th {\n",
       "        text-align: right;\n",
       "    }\n",
       "</style>\n",
       "<table border=\"1\" class=\"dataframe\">\n",
       "  <thead>\n",
       "    <tr style=\"text-align: right;\">\n",
       "      <th></th>\n",
       "      <th>ART_C_PROD_NUMBER</th>\n",
       "      <th>ART_V_ART_DESCRIPTION</th>\n",
       "    </tr>\n",
       "  </thead>\n",
       "  <tbody>\n",
       "    <tr>\n",
       "      <th>0</th>\n",
       "      <td>139428</td>\n",
       "      <td>139428.16 Royal Canin British Shorthair Adult ...</td>\n",
       "    </tr>\n",
       "    <tr>\n",
       "      <th>1</th>\n",
       "      <td>523432</td>\n",
       "      <td>523432.4 Bozita Original - 12 kg + 1,8 kg gratis</td>\n",
       "    </tr>\n",
       "    <tr>\n",
       "      <th>2</th>\n",
       "      <td>468126</td>\n",
       "      <td>468126.4 Sparpaket Lukullus feine Kauknochen 3...</td>\n",
       "    </tr>\n",
       "    <tr>\n",
       "      <th>3</th>\n",
       "      <td>445245</td>\n",
       "      <td>445245.29 Sparpaket Animonda Carny Adult 24 x ...</td>\n",
       "    </tr>\n",
       "    <tr>\n",
       "      <th>4</th>\n",
       "      <td>445245</td>\n",
       "      <td>445245.29 Sparpaket Animonda Carny Adult 24 x ...</td>\n",
       "    </tr>\n",
       "  </tbody>\n",
       "</table>\n",
       "</div>"
      ],
      "text/plain": [
       "   ART_C_PROD_NUMBER                              ART_V_ART_DESCRIPTION\n",
       "0             139428  139428.16 Royal Canin British Shorthair Adult ...\n",
       "1             523432   523432.4 Bozita Original - 12 kg + 1,8 kg gratis\n",
       "2             468126  468126.4 Sparpaket Lukullus feine Kauknochen 3...\n",
       "3             445245  445245.29 Sparpaket Animonda Carny Adult 24 x ...\n",
       "4             445245  445245.29 Sparpaket Animonda Carny Adult 24 x ..."
      ]
     },
     "execution_count": 15,
     "metadata": {},
     "output_type": "execute_result"
    }
   ],
   "source": [
    "item_name = raw_df[['ART_C_PROD_NUMBER', 'ART_V_ART_DESCRIPTION']]\n",
    "item_name.head()\n",
    "#item_name = item_name.rename(columns={'ART_C_PROD_NUMBER':'item_id', 'ART_V_ART_DESCRIPTION':'item_name'})"
   ]
  },
  {
   "cell_type": "code",
   "execution_count": 16,
   "metadata": {},
   "outputs": [],
   "source": [
    "item_name = item_name.rename(columns={'ART_C_PROD_NUMBER':'item_id', 'ART_V_ART_DESCRIPTION':'item_name'})"
   ]
  },
  {
   "cell_type": "code",
   "execution_count": 17,
   "metadata": {},
   "outputs": [
    {
     "data": {
      "text/html": [
       "<div>\n",
       "<style scoped>\n",
       "    .dataframe tbody tr th:only-of-type {\n",
       "        vertical-align: middle;\n",
       "    }\n",
       "\n",
       "    .dataframe tbody tr th {\n",
       "        vertical-align: top;\n",
       "    }\n",
       "\n",
       "    .dataframe thead th {\n",
       "        text-align: right;\n",
       "    }\n",
       "</style>\n",
       "<table border=\"1\" class=\"dataframe\">\n",
       "  <thead>\n",
       "    <tr style=\"text-align: right;\">\n",
       "      <th></th>\n",
       "      <th>item_id</th>\n",
       "      <th>item_name</th>\n",
       "    </tr>\n",
       "  </thead>\n",
       "  <tbody>\n",
       "    <tr>\n",
       "      <th>0</th>\n",
       "      <td>139428</td>\n",
       "      <td>139428.16 Royal Canin British Shorthair Adult ...</td>\n",
       "    </tr>\n",
       "    <tr>\n",
       "      <th>1</th>\n",
       "      <td>523432</td>\n",
       "      <td>523432.4 Bozita Original - 12 kg + 1,8 kg gratis</td>\n",
       "    </tr>\n",
       "    <tr>\n",
       "      <th>2</th>\n",
       "      <td>468126</td>\n",
       "      <td>468126.4 Sparpaket Lukullus feine Kauknochen 3...</td>\n",
       "    </tr>\n",
       "    <tr>\n",
       "      <th>3</th>\n",
       "      <td>445245</td>\n",
       "      <td>445245.29 Sparpaket Animonda Carny Adult 24 x ...</td>\n",
       "    </tr>\n",
       "    <tr>\n",
       "      <th>4</th>\n",
       "      <td>445245</td>\n",
       "      <td>445245.29 Sparpaket Animonda Carny Adult 24 x ...</td>\n",
       "    </tr>\n",
       "  </tbody>\n",
       "</table>\n",
       "</div>"
      ],
      "text/plain": [
       "   item_id                                          item_name\n",
       "0   139428  139428.16 Royal Canin British Shorthair Adult ...\n",
       "1   523432   523432.4 Bozita Original - 12 kg + 1,8 kg gratis\n",
       "2   468126  468126.4 Sparpaket Lukullus feine Kauknochen 3...\n",
       "3   445245  445245.29 Sparpaket Animonda Carny Adult 24 x ...\n",
       "4   445245  445245.29 Sparpaket Animonda Carny Adult 24 x ..."
      ]
     },
     "execution_count": 17,
     "metadata": {},
     "output_type": "execute_result"
    }
   ],
   "source": [
    "item_name.head()"
   ]
  },
  {
   "cell_type": "code",
   "execution_count": 18,
   "metadata": {},
   "outputs": [],
   "source": [
    "# not enough memory :O\n",
    "# rules_final = merge_item_name(rules, item_name).sort_values('lift', ascending=False)"
   ]
  },
  {
   "cell_type": "markdown",
   "metadata": {},
   "source": [
    "## Frequently bought together\n",
    "> based on the mined association rules"
   ]
  },
  {
   "cell_type": "code",
   "execution_count": 19,
   "metadata": {},
   "outputs": [],
   "source": [
    "rules_final = rules.sort_values(['lift'], ascending=False)"
   ]
  },
  {
   "cell_type": "code",
   "execution_count": 20,
   "metadata": {},
   "outputs": [
    {
     "data": {
      "text/html": [
       "<div>\n",
       "<style scoped>\n",
       "    .dataframe tbody tr th:only-of-type {\n",
       "        vertical-align: middle;\n",
       "    }\n",
       "\n",
       "    .dataframe tbody tr th {\n",
       "        vertical-align: top;\n",
       "    }\n",
       "\n",
       "    .dataframe thead th {\n",
       "        text-align: right;\n",
       "    }\n",
       "</style>\n",
       "<table border=\"1\" class=\"dataframe\">\n",
       "  <thead>\n",
       "    <tr style=\"text-align: right;\">\n",
       "      <th></th>\n",
       "      <th>item_A</th>\n",
       "      <th>item_B</th>\n",
       "      <th>freqAB</th>\n",
       "      <th>supportAB</th>\n",
       "      <th>freqA</th>\n",
       "      <th>supportA</th>\n",
       "      <th>freqB</th>\n",
       "      <th>supportB</th>\n",
       "      <th>confidenceAtoB</th>\n",
       "      <th>confidenceBtoA</th>\n",
       "      <th>lift</th>\n",
       "    </tr>\n",
       "  </thead>\n",
       "  <tbody>\n",
       "    <tr>\n",
       "      <th>81466</th>\n",
       "      <td>657901</td>\n",
       "      <td>657900</td>\n",
       "      <td>54</td>\n",
       "      <td>0.001320</td>\n",
       "      <td>344</td>\n",
       "      <td>0.008409</td>\n",
       "      <td>379</td>\n",
       "      <td>0.009265</td>\n",
       "      <td>0.156977</td>\n",
       "      <td>0.142480</td>\n",
       "      <td>16.943362</td>\n",
       "    </tr>\n",
       "    <tr>\n",
       "      <th>22881</th>\n",
       "      <td>225411</td>\n",
       "      <td>49164</td>\n",
       "      <td>136</td>\n",
       "      <td>0.003325</td>\n",
       "      <td>1405</td>\n",
       "      <td>0.034346</td>\n",
       "      <td>252</td>\n",
       "      <td>0.006160</td>\n",
       "      <td>0.096797</td>\n",
       "      <td>0.539683</td>\n",
       "      <td>15.713232</td>\n",
       "    </tr>\n",
       "    <tr>\n",
       "      <th>34013</th>\n",
       "      <td>366454</td>\n",
       "      <td>366891</td>\n",
       "      <td>47</td>\n",
       "      <td>0.001149</td>\n",
       "      <td>485</td>\n",
       "      <td>0.011856</td>\n",
       "      <td>257</td>\n",
       "      <td>0.006282</td>\n",
       "      <td>0.096907</td>\n",
       "      <td>0.182879</td>\n",
       "      <td>15.425046</td>\n",
       "    </tr>\n",
       "    <tr>\n",
       "      <th>81465</th>\n",
       "      <td>657900</td>\n",
       "      <td>657901</td>\n",
       "      <td>46</td>\n",
       "      <td>0.001124</td>\n",
       "      <td>379</td>\n",
       "      <td>0.009265</td>\n",
       "      <td>344</td>\n",
       "      <td>0.008409</td>\n",
       "      <td>0.121372</td>\n",
       "      <td>0.133721</td>\n",
       "      <td>14.433234</td>\n",
       "    </tr>\n",
       "    <tr>\n",
       "      <th>81131</th>\n",
       "      <td>650625</td>\n",
       "      <td>650623</td>\n",
       "      <td>58</td>\n",
       "      <td>0.001418</td>\n",
       "      <td>503</td>\n",
       "      <td>0.012296</td>\n",
       "      <td>345</td>\n",
       "      <td>0.008434</td>\n",
       "      <td>0.115308</td>\n",
       "      <td>0.168116</td>\n",
       "      <td>13.672388</td>\n",
       "    </tr>\n",
       "  </tbody>\n",
       "</table>\n",
       "</div>"
      ],
      "text/plain": [
       "       item_A  item_B  freqAB  supportAB  freqA  supportA  freqB  supportB  \\\n",
       "81466  657901  657900      54   0.001320    344  0.008409    379  0.009265   \n",
       "22881  225411   49164     136   0.003325   1405  0.034346    252  0.006160   \n",
       "34013  366454  366891      47   0.001149    485  0.011856    257  0.006282   \n",
       "81465  657900  657901      46   0.001124    379  0.009265    344  0.008409   \n",
       "81131  650625  650623      58   0.001418    503  0.012296    345  0.008434   \n",
       "\n",
       "       confidenceAtoB  confidenceBtoA       lift  \n",
       "81466        0.156977        0.142480  16.943362  \n",
       "22881        0.096797        0.539683  15.713232  \n",
       "34013        0.096907        0.182879  15.425046  \n",
       "81465        0.121372        0.133721  14.433234  \n",
       "81131        0.115308        0.168116  13.672388  "
      ]
     },
     "execution_count": 20,
     "metadata": {},
     "output_type": "execute_result"
    }
   ],
   "source": [
    "rules_final[rules_final['item_A'] != rules_final['item_B']].head()"
   ]
  },
  {
   "cell_type": "code",
   "execution_count": 25,
   "metadata": {},
   "outputs": [],
   "source": [
    "img_df = pd.read_csv('ps_id_to_img.csv', encoding = \"utf-8\")#, nrows = 100000)\n",
    "name_to_url_lambda = lambda x: 'https://media.zooplus.com/bilder/' + x[x.find('.')-1] + '/140/'+ x\n",
    "\n",
    "img_df['img_url'] = img_df['IMG_NAME'].apply(name_to_url_lambda)"
   ]
  },
  {
   "cell_type": "code",
   "execution_count": 43,
   "metadata": {},
   "outputs": [
    {
     "data": {
      "text/html": [
       "<font size=5>Item A</font>"
      ],
      "text/plain": [
       "<IPython.core.display.HTML object>"
      ]
     },
     "metadata": {},
     "output_type": "display_data"
    },
    {
     "name": "stdout",
     "output_type": "stream",
     "text": [
      "https://media.zooplus.com/bilder/5/140/22217_scherkoepfeschermaschinenoster_5.jpg\n"
     ]
    },
    {
     "data": {
      "text/html": [
       "<img style='width: 160px; margin: 0px;               float: left; border: 1px solid black;' src='https://media.zooplus.com/bilder/5/140/22217_scherkoepfeschermaschinenoster_5.jpg' />"
      ],
      "text/plain": [
       "<IPython.core.display.HTML object>"
      ]
     },
     "metadata": {},
     "output_type": "display_data"
    }
   ],
   "source": [
    "thumb_html = \"<img style='width: 160px; margin: 0px; \\\n",
    "              float: left; border: 1px solid black;' src='{}' />\"\n",
    "images = ''\n",
    "display(HTML('<font size=5>'+'Item A'+'</font>'))\n",
    "\n",
    "for code in [225411]:\n",
    "    try:\n",
    "        img_url = img_df[img_df['PS_SHOP_IDENTIFIER'] == code]['img_url'].iloc[0]\n",
    "    except:\n",
    "        img_url = ''\n",
    "    images += thumb_html.format(img_url)\n",
    "    print(img_url)\n",
    "\n",
    "display(HTML(images))"
   ]
  },
  {
   "cell_type": "code",
   "execution_count": 44,
   "metadata": {},
   "outputs": [
    {
     "data": {
      "text/html": [
       "<font size=5>Item B</font>"
      ],
      "text/plain": [
       "<IPython.core.display.HTML object>"
      ]
     },
     "metadata": {},
     "output_type": "display_data"
    },
    {
     "name": "stdout",
     "output_type": "stream",
     "text": [
      "https://media.zooplus.com/bilder/2/140/22216_PLA_Oster_Schermaschine_Golden_A5_2.jpg\n"
     ]
    },
    {
     "data": {
      "text/html": [
       "<img style='width: 160px; margin: 0px;               float: left; border: 1px solid black;' src='https://media.zooplus.com/bilder/2/140/22216_PLA_Oster_Schermaschine_Golden_A5_2.jpg' />"
      ],
      "text/plain": [
       "<IPython.core.display.HTML object>"
      ]
     },
     "metadata": {},
     "output_type": "display_data"
    }
   ],
   "source": [
    "thumb_html = \"<img style='width: 160px; margin: 0px; \\\n",
    "              float: left; border: 1px solid black;' src='{}' />\"\n",
    "images = ''\n",
    "display(HTML('<font size=5>'+'Item B'+'</font>'))\n",
    "\n",
    "for code in [49164]:\n",
    "    try:\n",
    "        img_url = img_df[img_df['PS_SHOP_IDENTIFIER'] == code]['img_url'].iloc[0]\n",
    "    except:\n",
    "        img_url = ''\n",
    "    images += thumb_html.format(img_url)\n",
    "    print(img_url)\n",
    "\n",
    "display(HTML(images))"
   ]
  },
  {
   "cell_type": "code",
   "execution_count": null,
   "metadata": {},
   "outputs": [],
   "source": []
  }
 ],
 "metadata": {
  "kernelspec": {
   "display_name": "Python 3",
   "language": "python",
   "name": "python3"
  },
  "language_info": {
   "codemirror_mode": {
    "name": "ipython",
    "version": 3
   },
   "file_extension": ".py",
   "mimetype": "text/x-python",
   "name": "python",
   "nbconvert_exporter": "python",
   "pygments_lexer": "ipython3",
   "version": "3.6.4"
  }
 },
 "nbformat": 4,
 "nbformat_minor": 2
}
