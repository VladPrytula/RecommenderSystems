{
 "cells": [
  {
   "cell_type": "markdown",
   "metadata": {},
   "source": [
    "# Implicit feedback recommender systems for Z+\n",
    "> study carried out based on the data for DE shop during 2017"
   ]
  },
  {
   "cell_type": "markdown",
   "metadata": {},
   "source": [
    "A common task of recommender systems is to improve customer experience through personalized recommendations based on prior implicit feedback. These systems passively track different sorts of user behavior, such as purchase history, watching habits and browsing activity, in order to model user preferences. Unlike the much more extensively researched explicit feedback, in case of implicit feedback we do not have any direct input from the users regarding their preferences. In particular, we lack substantial evidence on which products consumer dislike. \n",
    "\n",
    "Recommender systems rely on different types of input.Most convenient is the high quality explicit feedback, which includes explicit input by users regarding their interest in products. For example, Netflix collects star ratings for movies and TiVo users indicate their preferences for TV shows by hitting thumbs-up/down buttons. However, explicit feedback is not always vailable. Thus, recommenders can infer user preferences from the more abundant implicit feedback, which indirectly reflect opinion through observing user behavior [ref here]. Types of implicit feedback include purchase history, browsing history, search patterns, or even mouse movements. \n",
    "\n",
    "As per the famous [work Collaborative Filtering for Implicit Feedback Datasets](http://yifanhu.net/PUB/cf.pdf):\n",
    "It is crucial to identify the unique characteristics of implicit feedback, which prevent the direct use of algorithms that were designed with explicit feedback in mind. \n",
    "1. No negative feedback. By observing the users behavior, we can infer which items they probably like and thus chose to consume. However, it is hard to reliably infer which items a user did not like. For example, a user that did not watch a certain show might have done so because she dislikes the show or just because she did not know about the show or was not available to watch it. This fundamental asymmetry does not exist in explicit feedback where users tell us both what they like and what they dislike. \n",
    "2. Implicit feedback is inherently noisy. While we passively track the users behavior, we can only guess their preferences and true motives. \n",
    "3. The numerical value of explicit feedback indicates preference, whereas the numerical value of implicit feedback indicates confidence."
   ]
  },
  {
   "cell_type": "markdown",
   "metadata": {},
   "source": [
    "## Data loading and preaparation"
   ]
  },
  {
   "cell_type": "code",
   "execution_count": 1,
   "metadata": {},
   "outputs": [],
   "source": [
    "import pandas as pd\n",
    "import scipy.sparse as sparse\n",
    "import numpy as np\n",
    "from scipy.sparse.linalg import spsolve\n",
    "from IPython.display import display, HTML"
   ]
  },
  {
   "cell_type": "markdown",
   "metadata": {},
   "source": [
    "For the sake of tiem and computational resources we will be using an sample of data avalilable from the Z+ DE shop, restricted only to Cats and Dogs categories\n",
    "For the specific SQL statements used for construction of the export file please refer to [sql_export.sql](linkhere)"
   ]
  },
  {
   "cell_type": "code",
   "execution_count": 3,
   "metadata": {},
   "outputs": [],
   "source": [
    "raw_df = pd.read_csv('export_with_basket_2017.csv', encoding = \"utf-8\")#, nrows = 100000)"
   ]
  },
  {
   "cell_type": "code",
   "execution_count": 4,
   "metadata": {},
   "outputs": [
    {
     "data": {
      "text/html": [
       "<div>\n",
       "<style scoped>\n",
       "    .dataframe tbody tr th:only-of-type {\n",
       "        vertical-align: middle;\n",
       "    }\n",
       "\n",
       "    .dataframe tbody tr th {\n",
       "        vertical-align: top;\n",
       "    }\n",
       "\n",
       "    .dataframe thead th {\n",
       "        text-align: right;\n",
       "    }\n",
       "</style>\n",
       "<table border=\"1\" class=\"dataframe\">\n",
       "  <thead>\n",
       "    <tr style=\"text-align: right;\">\n",
       "      <th></th>\n",
       "      <th>SCM_N_ORDER_POS_NR</th>\n",
       "      <th>SCM_N_ORDER_NR</th>\n",
       "      <th>SCM_N_ORDER_NR_NC</th>\n",
       "      <th>TDT_T_KEY_ORDER_DATE</th>\n",
       "      <th>ART_N_KEY_ARTICLE</th>\n",
       "      <th>PPR_N_KEY_PHYS_PRODUCT</th>\n",
       "      <th>CUS_N_KEY_CUSTOMER</th>\n",
       "      <th>SCM_D_QUANTITY</th>\n",
       "      <th>PPR_N_PHY_ARTICLE_ID</th>\n",
       "      <th>PPR_N_PHY_PRODUCT_ID</th>\n",
       "      <th>...</th>\n",
       "      <th>ART_V_ART_DESCRIPTION</th>\n",
       "      <th>ART_V_ART_DESCRIPTION_1</th>\n",
       "      <th>ART_V_PG_LEVEL3_DESC</th>\n",
       "      <th>ART_V_PG_LEVEL4_DESC</th>\n",
       "      <th>ART_V_PG_LEVEL5_DESC</th>\n",
       "      <th>ART_V_PG_LEVEL6_DESC</th>\n",
       "      <th>ART_V_MANUFACTURER_DESC</th>\n",
       "      <th>PPR_ART_CLASS_DESC</th>\n",
       "      <th>PPR_N_LEVEL2_ID</th>\n",
       "      <th>SCM_N_ORDER_NR_1</th>\n",
       "    </tr>\n",
       "  </thead>\n",
       "  <tbody>\n",
       "    <tr>\n",
       "      <th>0</th>\n",
       "      <td>341999621</td>\n",
       "      <td>80391417</td>\n",
       "      <td>0</td>\n",
       "      <td>06-JAN-17</td>\n",
       "      <td>1311010</td>\n",
       "      <td>62776372</td>\n",
       "      <td>12378259</td>\n",
       "      <td>1.00</td>\n",
       "      <td>61312</td>\n",
       "      <td>19997</td>\n",
       "      <td>...</td>\n",
       "      <td>139428.16 Royal Canin British Shorthair Adult ...</td>\n",
       "      <td>139428.16 Royal Canin British Shorthair Adult ...</td>\n",
       "      <td>Katzenfutter trocken</td>\n",
       "      <td>Royal Canin Rasse (Breed)</td>\n",
       "      <td>British Shorthair</td>\n",
       "      <td>British Shorthair</td>\n",
       "      <td>Royal Canin</td>\n",
       "      <td>Royal Canin</td>\n",
       "      <td>3</td>\n",
       "      <td>80391417</td>\n",
       "    </tr>\n",
       "    <tr>\n",
       "      <th>1</th>\n",
       "      <td>348334117</td>\n",
       "      <td>81849313</td>\n",
       "      <td>0</td>\n",
       "      <td>02-FEB-17</td>\n",
       "      <td>2031175</td>\n",
       "      <td>111951408</td>\n",
       "      <td>2913095</td>\n",
       "      <td>1.00</td>\n",
       "      <td>70828</td>\n",
       "      <td>48693</td>\n",
       "      <td>...</td>\n",
       "      <td>523432.4 Bozita Original - 12 kg + 1,8 kg gratis</td>\n",
       "      <td>523432.4 Bozita Original - 12 kg + 1,8 kg gratis</td>\n",
       "      <td>Hundefutter trocken</td>\n",
       "      <td>Bozita</td>\n",
       "      <td>Bozita</td>\n",
       "      <td>Bozita</td>\n",
       "      <td>Doggy-Bozita</td>\n",
       "      <td>Dry Food Cat / Dog</td>\n",
       "      <td>2</td>\n",
       "      <td>81849313</td>\n",
       "    </tr>\n",
       "    <tr>\n",
       "      <th>2</th>\n",
       "      <td>348334114</td>\n",
       "      <td>81849313</td>\n",
       "      <td>0</td>\n",
       "      <td>02-FEB-17</td>\n",
       "      <td>1568093</td>\n",
       "      <td>53626549</td>\n",
       "      <td>2913095</td>\n",
       "      <td>1.00</td>\n",
       "      <td>56851</td>\n",
       "      <td>43068</td>\n",
       "      <td>...</td>\n",
       "      <td>468126.4 Sparpaket Lukullus feine Kauknochen 3...</td>\n",
       "      <td>468126.4 Sparpaket Lukullus feine Kauknochen 3...</td>\n",
       "      <td>Hundesnacks</td>\n",
       "      <td>★ Lukullus</td>\n",
       "      <td>Lukullus feine Kauknochen</td>\n",
       "      <td>Lukullus feine Kauknochen</td>\n",
       "      <td>MATINA</td>\n",
       "      <td>snacks</td>\n",
       "      <td>2</td>\n",
       "      <td>81849313</td>\n",
       "    </tr>\n",
       "    <tr>\n",
       "      <th>3</th>\n",
       "      <td>354903151</td>\n",
       "      <td>83341895</td>\n",
       "      <td>0</td>\n",
       "      <td>02-MAR-17</td>\n",
       "      <td>1910589</td>\n",
       "      <td>38614848</td>\n",
       "      <td>7097883</td>\n",
       "      <td>0.25</td>\n",
       "      <td>51010</td>\n",
       "      <td>39043</td>\n",
       "      <td>...</td>\n",
       "      <td>445245.29 Sparpaket Animonda Carny Adult 24 x ...</td>\n",
       "      <td>445245.29 Sparpaket Animonda Carny Adult 24 x ...</td>\n",
       "      <td>Katzenfutter nass</td>\n",
       "      <td>Animonda Carny</td>\n",
       "      <td>Carny Fleisch</td>\n",
       "      <td>Carny Fleisch</td>\n",
       "      <td>Animonda</td>\n",
       "      <td>Canned Food Cat / Dog</td>\n",
       "      <td>3</td>\n",
       "      <td>83341895</td>\n",
       "    </tr>\n",
       "    <tr>\n",
       "      <th>4</th>\n",
       "      <td>354903151</td>\n",
       "      <td>83341895</td>\n",
       "      <td>0</td>\n",
       "      <td>02-MAR-17</td>\n",
       "      <td>1910589</td>\n",
       "      <td>38614828</td>\n",
       "      <td>7097883</td>\n",
       "      <td>0.25</td>\n",
       "      <td>51174</td>\n",
       "      <td>39043</td>\n",
       "      <td>...</td>\n",
       "      <td>445245.29 Sparpaket Animonda Carny Adult 24 x ...</td>\n",
       "      <td>445245.29 Sparpaket Animonda Carny Adult 24 x ...</td>\n",
       "      <td>Katzenfutter nass</td>\n",
       "      <td>Animonda Carny</td>\n",
       "      <td>Carny Fleisch</td>\n",
       "      <td>Carny Fleisch</td>\n",
       "      <td>Animonda</td>\n",
       "      <td>Canned Food Cat / Dog</td>\n",
       "      <td>3</td>\n",
       "      <td>83341895</td>\n",
       "    </tr>\n",
       "  </tbody>\n",
       "</table>\n",
       "<p>5 rows × 23 columns</p>\n",
       "</div>"
      ],
      "text/plain": [
       "   SCM_N_ORDER_POS_NR  SCM_N_ORDER_NR  SCM_N_ORDER_NR_NC TDT_T_KEY_ORDER_DATE  \\\n",
       "0           341999621        80391417                  0            06-JAN-17   \n",
       "1           348334117        81849313                  0            02-FEB-17   \n",
       "2           348334114        81849313                  0            02-FEB-17   \n",
       "3           354903151        83341895                  0            02-MAR-17   \n",
       "4           354903151        83341895                  0            02-MAR-17   \n",
       "\n",
       "   ART_N_KEY_ARTICLE  PPR_N_KEY_PHYS_PRODUCT  CUS_N_KEY_CUSTOMER  \\\n",
       "0            1311010                62776372            12378259   \n",
       "1            2031175               111951408             2913095   \n",
       "2            1568093                53626549             2913095   \n",
       "3            1910589                38614848             7097883   \n",
       "4            1910589                38614828             7097883   \n",
       "\n",
       "   SCM_D_QUANTITY  PPR_N_PHY_ARTICLE_ID  PPR_N_PHY_PRODUCT_ID  \\\n",
       "0            1.00                 61312                 19997   \n",
       "1            1.00                 70828                 48693   \n",
       "2            1.00                 56851                 43068   \n",
       "3            0.25                 51010                 39043   \n",
       "4            0.25                 51174                 39043   \n",
       "\n",
       "        ...                                     ART_V_ART_DESCRIPTION  \\\n",
       "0       ...         139428.16 Royal Canin British Shorthair Adult ...   \n",
       "1       ...          523432.4 Bozita Original - 12 kg + 1,8 kg gratis   \n",
       "2       ...         468126.4 Sparpaket Lukullus feine Kauknochen 3...   \n",
       "3       ...         445245.29 Sparpaket Animonda Carny Adult 24 x ...   \n",
       "4       ...         445245.29 Sparpaket Animonda Carny Adult 24 x ...   \n",
       "\n",
       "                             ART_V_ART_DESCRIPTION_1  ART_V_PG_LEVEL3_DESC  \\\n",
       "0  139428.16 Royal Canin British Shorthair Adult ...  Katzenfutter trocken   \n",
       "1   523432.4 Bozita Original - 12 kg + 1,8 kg gratis   Hundefutter trocken   \n",
       "2  468126.4 Sparpaket Lukullus feine Kauknochen 3...           Hundesnacks   \n",
       "3  445245.29 Sparpaket Animonda Carny Adult 24 x ...     Katzenfutter nass   \n",
       "4  445245.29 Sparpaket Animonda Carny Adult 24 x ...     Katzenfutter nass   \n",
       "\n",
       "        ART_V_PG_LEVEL4_DESC       ART_V_PG_LEVEL5_DESC  \\\n",
       "0  Royal Canin Rasse (Breed)          British Shorthair   \n",
       "1                     Bozita                     Bozita   \n",
       "2                 ★ Lukullus  Lukullus feine Kauknochen   \n",
       "3             Animonda Carny              Carny Fleisch   \n",
       "4             Animonda Carny              Carny Fleisch   \n",
       "\n",
       "        ART_V_PG_LEVEL6_DESC ART_V_MANUFACTURER_DESC     PPR_ART_CLASS_DESC  \\\n",
       "0          British Shorthair             Royal Canin            Royal Canin   \n",
       "1                     Bozita            Doggy-Bozita     Dry Food Cat / Dog   \n",
       "2  Lukullus feine Kauknochen                  MATINA                 snacks   \n",
       "3              Carny Fleisch                Animonda  Canned Food Cat / Dog   \n",
       "4              Carny Fleisch                Animonda  Canned Food Cat / Dog   \n",
       "\n",
       "  PPR_N_LEVEL2_ID SCM_N_ORDER_NR_1  \n",
       "0               3         80391417  \n",
       "1               2         81849313  \n",
       "2               2         81849313  \n",
       "3               3         83341895  \n",
       "4               3         83341895  \n",
       "\n",
       "[5 rows x 23 columns]"
      ]
     },
     "execution_count": 4,
     "metadata": {},
     "output_type": "execute_result"
    }
   ],
   "source": [
    "raw_df.head()"
   ]
  },
  {
   "cell_type": "code",
   "execution_count": 143,
   "metadata": {},
   "outputs": [],
   "source": [
    "#raw_df.info()"
   ]
  },
  {
   "cell_type": "code",
   "execution_count": 6,
   "metadata": {},
   "outputs": [],
   "source": [
    "## should we have any missing customer data\n",
    "# fortunately this is not the case for us, but I will leave the cleaning step as must do one anyway\n",
    "cleaned_df = raw_df.loc[pd.isnull(raw_df.CUS_N_KEY_CUSTOMER) == False]"
   ]
  },
  {
   "cell_type": "code",
   "execution_count": 144,
   "metadata": {},
   "outputs": [],
   "source": [
    "#cleaned_retail.info()"
   ]
  },
  {
   "cell_type": "markdown",
   "metadata": {},
   "source": [
    "User-Items intereaction matrix will be a sparse matrix with ideces for items and users instead of real IDs. So before we make any sort of ratings matrix, we have create a lookup table that keeps track of each item ID along with a description of that item. We will do that in straightforward manner, simoply creating corresponding dictionaries"
   ]
  },
  {
   "cell_type": "code",
   "execution_count": 8,
   "metadata": {},
   "outputs": [],
   "source": [
    "item_lookup = cleaned_df[['ART_C_PROD_NUMBER', 'ART_V_ART_DESCRIPTION']].drop_duplicates() # Only get unique item/description pairs\n",
    "item_lookup['ART_C_PROD_NUMBER'] = item_lookup.ART_C_PROD_NUMBER.astype(int) # Encode as strings for future lookup ease\n",
    "item_lookup['ART_V_ART_DESCRIPTION'] = item_lookup.ART_V_ART_DESCRIPTION.astype(str) # Encode as strings for future lookup ease"
   ]
  },
  {
   "cell_type": "code",
   "execution_count": 9,
   "metadata": {},
   "outputs": [
    {
     "data": {
      "text/html": [
       "<div>\n",
       "<style scoped>\n",
       "    .dataframe tbody tr th:only-of-type {\n",
       "        vertical-align: middle;\n",
       "    }\n",
       "\n",
       "    .dataframe tbody tr th {\n",
       "        vertical-align: top;\n",
       "    }\n",
       "\n",
       "    .dataframe thead th {\n",
       "        text-align: right;\n",
       "    }\n",
       "</style>\n",
       "<table border=\"1\" class=\"dataframe\">\n",
       "  <thead>\n",
       "    <tr style=\"text-align: right;\">\n",
       "      <th></th>\n",
       "      <th>ART_C_PROD_NUMBER</th>\n",
       "      <th>ART_V_ART_DESCRIPTION</th>\n",
       "    </tr>\n",
       "  </thead>\n",
       "  <tbody>\n",
       "    <tr>\n",
       "      <th>0</th>\n",
       "      <td>139428</td>\n",
       "      <td>139428.16 Royal Canin British Shorthair Adult ...</td>\n",
       "    </tr>\n",
       "    <tr>\n",
       "      <th>1</th>\n",
       "      <td>523432</td>\n",
       "      <td>523432.4 Bozita Original - 12 kg + 1,8 kg gratis</td>\n",
       "    </tr>\n",
       "    <tr>\n",
       "      <th>2</th>\n",
       "      <td>468126</td>\n",
       "      <td>468126.4 Sparpaket Lukullus feine Kauknochen 3...</td>\n",
       "    </tr>\n",
       "    <tr>\n",
       "      <th>3</th>\n",
       "      <td>445245</td>\n",
       "      <td>445245.29 Sparpaket Animonda Carny Adult 24 x ...</td>\n",
       "    </tr>\n",
       "    <tr>\n",
       "      <th>5</th>\n",
       "      <td>451643</td>\n",
       "      <td>451643.2 Felix Häppchen in Gelee oder Leckerbi...</td>\n",
       "    </tr>\n",
       "  </tbody>\n",
       "</table>\n",
       "</div>"
      ],
      "text/plain": [
       "   ART_C_PROD_NUMBER                              ART_V_ART_DESCRIPTION\n",
       "0             139428  139428.16 Royal Canin British Shorthair Adult ...\n",
       "1             523432   523432.4 Bozita Original - 12 kg + 1,8 kg gratis\n",
       "2             468126  468126.4 Sparpaket Lukullus feine Kauknochen 3...\n",
       "3             445245  445245.29 Sparpaket Animonda Carny Adult 24 x ...\n",
       "5             451643  451643.2 Felix Häppchen in Gelee oder Leckerbi..."
      ]
     },
     "execution_count": 9,
     "metadata": {},
     "output_type": "execute_result"
    }
   ],
   "source": [
    "item_lookup.head()"
   ]
  },
  {
   "cell_type": "markdown",
   "metadata": {},
   "source": [
    "This can tell us what each item is, such as that ART_C_PROD_NUMBER 3481 is a  Dog Design Decke Hundeschar . Now that this has been created, we need to:\n",
    "\n",
    "1. Group purchase quantities together by item prod number and item ID\n",
    "2. Change any sums that equal zero to one (we can actually ommit this situation, since as far as I can tell we do not store \"returned\" type information)\n",
    "3. Only include customers with a positive purchase total to eliminate possible errors\n",
    "4. *Set up our sparse ratings matrix*\n",
    "\n",
    "This last step is especially important if you don’t want to have unnecessary memory issues! If you think about it, our matrix is going to contain thousands of items and thousands of users with a user/item value required for every possible combination. That is a LARGE matrix, so we can save a lot of memory by keeping the matrix sparse and only saving the locations and values of items that are not zero.\n",
    "\n",
    "The code below will finish the preprocessing steps necessary for our final ratings sparse matrix:"
   ]
  },
  {
   "cell_type": "code",
   "execution_count": 10,
   "metadata": {
    "scrolled": false
   },
   "outputs": [
    {
     "name": "stderr",
     "output_type": "stream",
     "text": [
      "/opt/conda/lib/python3.6/site-packages/pandas/core/indexing.py:189: SettingWithCopyWarning: \n",
      "A value is trying to be set on a copy of a slice from a DataFrame\n",
      "\n",
      "See the caveats in the documentation: http://pandas.pydata.org/pandas-docs/stable/indexing.html#indexing-view-versus-copy\n",
      "  self._setitem_with_indexer(indexer, value)\n"
     ]
    },
    {
     "data": {
      "text/html": [
       "<div>\n",
       "<style scoped>\n",
       "    .dataframe tbody tr th:only-of-type {\n",
       "        vertical-align: middle;\n",
       "    }\n",
       "\n",
       "    .dataframe tbody tr th {\n",
       "        vertical-align: top;\n",
       "    }\n",
       "\n",
       "    .dataframe thead th {\n",
       "        text-align: right;\n",
       "    }\n",
       "</style>\n",
       "<table border=\"1\" class=\"dataframe\">\n",
       "  <thead>\n",
       "    <tr style=\"text-align: right;\">\n",
       "      <th></th>\n",
       "      <th>CUS_N_KEY_CUSTOMER</th>\n",
       "      <th>ART_C_PROD_NUMBER</th>\n",
       "      <th>SCM_D_QUANTITY</th>\n",
       "    </tr>\n",
       "  </thead>\n",
       "  <tbody>\n",
       "    <tr>\n",
       "      <th>0</th>\n",
       "      <td>22</td>\n",
       "      <td>52735</td>\n",
       "      <td>5.0</td>\n",
       "    </tr>\n",
       "    <tr>\n",
       "      <th>7</th>\n",
       "      <td>22</td>\n",
       "      <td>397041</td>\n",
       "      <td>4.0</td>\n",
       "    </tr>\n",
       "    <tr>\n",
       "      <th>8</th>\n",
       "      <td>22</td>\n",
       "      <td>399251</td>\n",
       "      <td>3.0</td>\n",
       "    </tr>\n",
       "    <tr>\n",
       "      <th>12</th>\n",
       "      <td>22</td>\n",
       "      <td>447409</td>\n",
       "      <td>4.0</td>\n",
       "    </tr>\n",
       "    <tr>\n",
       "      <th>18</th>\n",
       "      <td>22</td>\n",
       "      <td>543556</td>\n",
       "      <td>3.0</td>\n",
       "    </tr>\n",
       "  </tbody>\n",
       "</table>\n",
       "</div>"
      ],
      "text/plain": [
       "    CUS_N_KEY_CUSTOMER  ART_C_PROD_NUMBER  SCM_D_QUANTITY\n",
       "0                   22              52735             5.0\n",
       "7                   22             397041             4.0\n",
       "8                   22             399251             3.0\n",
       "12                  22             447409             4.0\n",
       "18                  22             543556             3.0"
      ]
     },
     "execution_count": 10,
     "metadata": {},
     "output_type": "execute_result"
    }
   ],
   "source": [
    "cleaned_df['CUS_N_KEY_CUSTOMER '] = cleaned_df.CUS_N_KEY_CUSTOMER.astype(int) # Convert to int for customer ID\n",
    "cleaned_df = cleaned_df[['ART_C_PROD_NUMBER', 'SCM_D_QUANTITY', 'CUS_N_KEY_CUSTOMER']] # Get rid of unnecessary info\n",
    "grouped_cleaned = cleaned_df.groupby(['CUS_N_KEY_CUSTOMER', 'ART_C_PROD_NUMBER']).sum().reset_index() # Group together\n",
    "grouped_cleaned.SCM_D_QUANTITY.loc[grouped_cleaned.SCM_D_QUANTITY == 0] = 1 # Replace a sum of zero purchases with a one to\n",
    "# indicate purchased\n",
    "grouped_purchased = grouped_cleaned.query('SCM_D_QUANTITY > 2') # Only get customers where purchase totals were positive\n",
    "\n",
    "## If we look at our final resulting matrix of grouped purchases, we see the following:\n",
    "grouped_purchased.head()"
   ]
  },
  {
   "cell_type": "markdown",
   "metadata": {},
   "source": [
    "# ToDo: \n",
    "Actually here I, perhaps, do not have to filter based on the SCM_D_QUANTITY, but I have to filter the items that have less than 5 interactions, at the same time we have to remove the users that ineracted with less than 5 different items. Check for the remaining items agan, and do it untill the DF is stabilized.\n",
    "\n",
    "In the next two cells we will do exactly this and this would lead to a substantial reduction in the sparcity of the item-user interaction matrix, making it suitable for matrix factorization procedure"
   ]
  },
  {
   "cell_type": "code",
   "execution_count": 11,
   "metadata": {},
   "outputs": [],
   "source": [
    "def lower_limit(df, CUS_N_KEY_CUSTOMER_min, ART_C_PROD_NUMBER_min):\n",
    "    n_users = df.CUS_N_KEY_CUSTOMER.unique().shape[0]\n",
    "    n_items = df.ART_C_PROD_NUMBER.unique().shape[0]\n",
    "    sparsity = float(df.shape[0]) / float(n_users*n_items) * 100\n",
    "    print('Starting likes info')\n",
    "    print('Number of users: {}'.format(n_users))\n",
    "    print('Number of items: {}'.format(n_items))\n",
    "    print('Weak-Sparsity: {:4.3f}%'.format(sparsity)) # this is not exactly a sparsity. I have to change it a math correct one\n",
    "    \n",
    "    done = False\n",
    "    while not done:\n",
    "        starting_shape = df.shape[0]\n",
    "        ART_C_PROD_NUMBER_counts = df.groupby('CUS_N_KEY_CUSTOMER').ART_C_PROD_NUMBER.count()\n",
    "        df = df[~df.CUS_N_KEY_CUSTOMER.isin(ART_C_PROD_NUMBER_counts[ART_C_PROD_NUMBER_counts < ART_C_PROD_NUMBER_min].index.tolist())]\n",
    "        CUS_N_KEY_CUSTOMER_counts = df.groupby('ART_C_PROD_NUMBER').CUS_N_KEY_CUSTOMER.count()\n",
    "        df = df[~df.ART_C_PROD_NUMBER.isin(CUS_N_KEY_CUSTOMER_counts[CUS_N_KEY_CUSTOMER_counts < CUS_N_KEY_CUSTOMER_min].index.tolist())]\n",
    "        ending_shape = df.shape[0]\n",
    "        if starting_shape == ending_shape:\n",
    "            done = True\n",
    "    \n",
    "    assert(df.groupby('CUS_N_KEY_CUSTOMER').ART_C_PROD_NUMBER.count().min() >= ART_C_PROD_NUMBER_min)\n",
    "    assert(df.groupby('ART_C_PROD_NUMBER').CUS_N_KEY_CUSTOMER.count().min() >= CUS_N_KEY_CUSTOMER_min)\n",
    "    \n",
    "    n_users = df.CUS_N_KEY_CUSTOMER.unique().shape[0]\n",
    "    n_items = df.ART_C_PROD_NUMBER.unique().shape[0]\n",
    "    sparsity = float(df.shape[0]) / float(n_users*n_items) * 100\n",
    "    print('Ending likes info')\n",
    "    print('Number of users: {}'.format(n_users))\n",
    "    print('Number of items: {}'.format(n_items))\n",
    "    print('Weak-Sparsity: {:4.3f}%'.format(sparsity)) # this is not exactly a sparsity. I have to change it a math correct one\n",
    "    return df"
   ]
  },
  {
   "cell_type": "code",
   "execution_count": 12,
   "metadata": {},
   "outputs": [
    {
     "name": "stdout",
     "output_type": "stream",
     "text": [
      "Starting likes info\n",
      "Number of users: 594238\n",
      "Number of models: 6869\n",
      "Sparsity: 0.051%\n",
      "Ending likes info\n",
      "Number of users: 137953\n",
      "Number of models: 5564\n",
      "Sparsity: 0.163%\n"
     ]
    }
   ],
   "source": [
    "df_lim = lower_limit(grouped_purchased, 5, 5)"
   ]
  },
  {
   "cell_type": "code",
   "execution_count": 13,
   "metadata": {},
   "outputs": [
    {
     "name": "stdout",
     "output_type": "stream",
     "text": [
      "<class 'pandas.core.frame.DataFrame'>\n",
      "Int64Index: 1249663 entries, 0 to 11278530\n",
      "Data columns (total 3 columns):\n",
      "CUS_N_KEY_CUSTOMER    1249663 non-null int64\n",
      "ART_C_PROD_NUMBER     1249663 non-null int64\n",
      "SCM_D_QUANTITY        1249663 non-null float64\n",
      "dtypes: float64(1), int64(2)\n",
      "memory usage: 38.1 MB\n"
     ]
    }
   ],
   "source": [
    "df_lim.info()"
   ]
  },
  {
   "cell_type": "code",
   "execution_count": 14,
   "metadata": {},
   "outputs": [
    {
     "name": "stderr",
     "output_type": "stream",
     "text": [
      "/opt/conda/lib/python3.6/site-packages/ipykernel_launcher.py:5: FutureWarning: specifying 'categories' or 'ordered' in .astype() is deprecated; pass a CategoricalDtype instead\n",
      "  \"\"\"\n",
      "/opt/conda/lib/python3.6/site-packages/ipykernel_launcher.py:7: FutureWarning: specifying 'categories' or 'ordered' in .astype() is deprecated; pass a CategoricalDtype instead\n",
      "  import sys\n"
     ]
    }
   ],
   "source": [
    "customers = list(np.sort(df_lim.CUS_N_KEY_CUSTOMER.unique())) # Get our unique customers\n",
    "products = list(df_lim.ART_C_PROD_NUMBER.unique()) # Get our unique products that were purchased\n",
    "quantity = list(df_lim.SCM_D_QUANTITY) # All of our purchases\n",
    "\n",
    "rows = df_lim.CUS_N_KEY_CUSTOMER.astype('category', categories = customers).cat.codes \n",
    "# Get the associated row indices\n",
    "cols = df_lim.ART_C_PROD_NUMBER.astype('category', categories = products).cat.codes \n",
    "# Get the associated column indices\n",
    "purchases_sparse = sparse.csr_matrix((quantity, (rows, cols)), shape=(len(customers), len(products)))"
   ]
  },
  {
   "cell_type": "code",
   "execution_count": 147,
   "metadata": {},
   "outputs": [
    {
     "data": {
      "text/plain": [
       "<137953x5564 sparse matrix of type '<class 'numpy.float64'>'\n",
       "\twith 1249663 stored elements in Compressed Sparse Row format>"
      ]
     },
     "execution_count": 147,
     "metadata": {},
     "output_type": "execute_result"
    }
   ],
   "source": [
    "# sanity check\n",
    "purchases_sparse"
   ]
  },
  {
   "cell_type": "code",
   "execution_count": 16,
   "metadata": {},
   "outputs": [
    {
     "data": {
      "text/plain": [
       "99.83719241255042"
      ]
     },
     "execution_count": 16,
     "metadata": {},
     "output_type": "execute_result"
    }
   ],
   "source": [
    "matrix_size = purchases_sparse.shape[0]*purchases_sparse.shape[1] # Number of possible interactions in the matrix\n",
    "num_purchases = len(purchases_sparse.nonzero()[0]) # Number of items interacted with\n",
    "sparsity = 100*(1 - (num_purchases/matrix_size))\n",
    "sparsity"
   ]
  },
  {
   "cell_type": "markdown",
   "metadata": {},
   "source": [
    "# Creating a Training and Validation Set\n",
    "\n",
    "As per above cited [Collaborative Filtering for Implicit Feedback Dataset](http://yifanhu.net/PUB/cf.pdf), one of the main issues with implicit factorization modes is _Evaluation_\n",
    "**\"Evaluation of implicit-feedback recommender requires appropriate measures. In the traditional setting where a user is specifying a numeric score, there are clear metrics\n",
    "such as mean squared error to measure success in prediction. However with implicit models we have to take into account availability of the item, competition for the item with other items, and repeat feedback. For example, if we gather data on television viewing, it is unclear how to evaluate a show that has been watched more than once, or how to compare two shows that are\n",
    "on at the same time, and hence cannot both be watched by the user.\"**\n",
    "\n",
    "Usually split in train and test set is fairly simple: just take a random sample of the training example rows in our feature matrix and separate it away from the training set. That normally looks like this:\n",
    "\n",
    "With collaborative filtering, that’s not going to work because you need all of the user/item interactions to find the proper matrix factorization. A better method is to hide a certain percentage of the user/item interactions from the model during the training phase chosen at random. Then, check during the test phase how many of the items that were recommended the user actually ended up purchasing in the end. Ideally, you would ultimately test your recommendations with some kind of A/B test or utilizing data from a time series where all data prior to a certain point in time is used for training while data after a certain period of time is used for testing.\n",
    "\n",
    "Our test set is an exact copy of our original data. The training set, however, will mask a random percentage of user/item interactions and act as if the user never purchased the item (making it a sparse entry with a zero). We then check in the test set which items were recommended to the user that they ended up actually purchasing. If the users frequently ended up purchasing the items most recommended to them by the system, we can conclude the system seems to be working.\n",
    "\n",
    "As an additional check, we can compare our system to simply recommending the most popular items to every user (beating popularity is a bit difficult). This will be our baseline.\n",
    "\n",
    "This method of testing isn’t necessarily the “correct” answer, because it depends on how you want to use the recommender system. However, it is a practical way of testing performance I will use for this example."
   ]
  },
  {
   "cell_type": "code",
   "execution_count": 17,
   "metadata": {},
   "outputs": [],
   "source": [
    "import random"
   ]
  },
  {
   "cell_type": "code",
   "execution_count": 18,
   "metadata": {},
   "outputs": [],
   "source": [
    "def make_train(ratings, pct_test = 0.2):\n",
    "    '''\n",
    "    This function will take in the original user-item matrix and \"mask\" a percentage of the original ratings where a\n",
    "    user-item interaction has taken place for use as a test set. The test set will contain all of the original ratings, \n",
    "    while the training set replaces the specified percentage of them with a zero in the original ratings matrix. \n",
    "    \n",
    "    parameters: \n",
    "    \n",
    "    ratings - the original ratings matrix from which you want to generate a train/test set. Test is just a complete\n",
    "    copy of the original set. This is in the form of a sparse csr_matrix. \n",
    "    \n",
    "    pct_test - The percentage of user-item interactions where an interaction took place that you want to mask in the \n",
    "    training set for later comparison to the test set, which contains all of the original ratings. \n",
    "    \n",
    "    returns:\n",
    "    \n",
    "    training_set - The altered version of the original data with a certain percentage of the user-item pairs \n",
    "    that originally had interaction set back to zero.\n",
    "    \n",
    "    test_set - A copy of the original ratings matrix, unaltered, so it can be used to see how the rank order \n",
    "    compares with the actual interactions.\n",
    "    \n",
    "    user_inds - From the randomly selected user-item indices, which user rows were altered in the training data.\n",
    "    This will be necessary later when evaluating the performance via AUC.\n",
    "    '''\n",
    "    test_set = ratings.copy() # Make a copy of the original set to be the test set. \n",
    "    test_set[test_set != 0] = 1 # Store the test set as a binary preference matrix\n",
    "    training_set = ratings.copy() # Make a copy of the original data we can alter as our training set. \n",
    "    nonzero_inds = training_set.nonzero() # Find the indices in the ratings data where an interaction exists\n",
    "    nonzero_pairs = list(zip(nonzero_inds[0], nonzero_inds[1])) # Zip these pairs together of user,item index into list\n",
    "    random.seed(0) # Set the random seed to zero for reproducibility\n",
    "    num_samples = int(np.ceil(pct_test*len(nonzero_pairs))) # Round the number of samples needed to the nearest integer\n",
    "    samples = random.sample(nonzero_pairs, num_samples) # Sample a random number of user-item pairs without replacement\n",
    "    user_inds = [index[0] for index in samples] # Get the user row indices\n",
    "    item_inds = [index[1] for index in samples] # Get the item column indices\n",
    "    training_set[user_inds, item_inds] = 0 # Assign all of the randomly chosen user-item pairs to zero\n",
    "    training_set.eliminate_zeros() # Get rid of zeros in sparse array storage after update to save space\n",
    "    return training_set, test_set, list(set(user_inds)) # Output the unique list of user rows that were altered  "
   ]
  },
  {
   "cell_type": "markdown",
   "metadata": {},
   "source": [
    "This will return our training set, a test set that has been binarized to 0/1 for purchased/not purchased, and a list of which users had at least one item masked. We will test the performance of the recommender system on these users only. I am masking 20% of the user/item interactions for this example."
   ]
  },
  {
   "cell_type": "code",
   "execution_count": 19,
   "metadata": {},
   "outputs": [],
   "source": [
    "product_train, product_test, product_users_altered = make_train(purchases_sparse, pct_test = 0.2)"
   ]
  },
  {
   "cell_type": "markdown",
   "metadata": {},
   "source": [
    "# SLOW Python implementation"
   ]
  },
  {
   "cell_type": "markdown",
   "metadata": {},
   "source": [
    "### Imlementing ALS for Implicit feedback case\n",
    "\n",
    "Now that we have our training and test sets finished, we can move on to implementing the algorithm. If we look at the paper of [Hu, Koren, and Volinsky](http://yifanhu.net/PUB/cf.pdf)\n",
    "we can see that the key equations will we need to implement into the algorithm. First, we have our ratings matrix which is sparse (represented by the product_train sparse matrix object). We need to turn this into a confidence matrix (from page 4):\n",
    "$$\n",
    "C_{ui}=1+\\alpha r_{ui}\n",
    "$$\n",
    "\n",
    "Where $C_{ui}$ is the confidence matrix for our users $u$ and our items $i$. The $\\alpha$ term represents a linear scaling of the rating preferences (in our case number of purchases) and the rui term is our original matrix of purchases. The paper suggests 40 (forty, Karl!) as a good starting point.\n",
    "\n",
    "After taking the derivative of equation 3 in the paper, we can minimize the cost function for our users U:\n",
    "\n",
    "$$\n",
    "x_u=\\left(Y^TC^uY+\\lambda I\\right)^{−1}Y^TC^u p(u)\n",
    "$$\n",
    "\n",
    "The authors note you can speed up this computation through some linear algebra that changes this equation to:\n",
    "$$\n",
    "x_u=\\left(Y^TY+Y^T(C^u−I)Y+\\lambda I\\right)^{−1}Y^TC^u p(u)\n",
    "$$\n",
    "\n",
    "Notice that we can now precompute the YTY portion without having to iterate through each user u. We can derive a similar equation for our items:\n",
    "$$\n",
    "y_i=(X^TX+X^T(C^i−I)X+\\lambda I)^{−1}X^TC^i p(i)\n",
    "$$\n",
    "These will be the two equations we will iterate back and forth between until they converge. We also have a regularization term λ that can help prevent overfitting during the training stage as well, along with our binarized preference matrix p which is just 1 where there was a purchase (or interaction) and zero where there was not.\n",
    "\n",
    "!!! Shoutout to Chris Johnson’s implicit-mf code that was a helpful guide for this. The code blow is altered versino of his to make things easier to understand."
   ]
  },
  {
   "cell_type": "code",
   "execution_count": 20,
   "metadata": {},
   "outputs": [],
   "source": [
    "def implicit_weighted_ALS(training_set, lambda_val = 0.1, alpha = 40, iterations = 10, rank_size = 20, seed = 0):\n",
    "    '''\n",
    "    Implicit weighted ALS taken from Hu, Koren, and Volinsky 2008. Designed for alternating least squares and implicit\n",
    "    feedback based collaborative filtering. \n",
    "    \n",
    "    parameters:\n",
    "    \n",
    "    training_set - Our matrix of ratings with shape m x n, where m is the number of users and n is the number of items.\n",
    "    Should be a sparse csr matrix to save space. \n",
    "    \n",
    "    lambda_val - Used for regularization during alternating least squares. Increasing this value may increase bias\n",
    "    but decrease variance. Default is 0.1. \n",
    "    \n",
    "    alpha - The parameter associated with the confidence matrix discussed in the paper, where Cui = 1 + alpha*Rui. \n",
    "    The paper found a default of 40 most effective. Decreasing this will decrease the variability in confidence between\n",
    "    various ratings.\n",
    "    \n",
    "    iterations - The number of times to alternate between both user feature vector and item feature vector in\n",
    "    alternating least squares. More iterations will allow better convergence at the cost of increased computation. \n",
    "    The authors found 10 iterations was sufficient, but more may be required to converge. \n",
    "    \n",
    "    rank_size - The number of latent features in the user/item feature vectors. The paper recommends varying this \n",
    "    between 20-200. Increasing the number of features may overfit but could reduce bias. \n",
    "    \n",
    "    seed - Set the seed for reproducible results\n",
    "    \n",
    "    returns:\n",
    "    \n",
    "    The feature vectors for users and items. The dot product of these feature vectors should give you the expected \n",
    "    \"rating\" at each point in your original matrix. \n",
    "    '''\n",
    "    \n",
    "    # first set up our confidence matrix\n",
    "    \n",
    "    conf = (alpha*training_set) # To allow the matrix to stay sparse, I will add one later when each row is taken \n",
    "                                # and converted to dense. \n",
    "    num_user = conf.shape[0]\n",
    "    num_item = conf.shape[1] # Get the size of our original ratings matrix, m x n\n",
    "    \n",
    "    # initialize our X/Y feature vectors randomly with a set seed\n",
    "    rstate = np.random.RandomState(seed)\n",
    "    \n",
    "    X = sparse.csr_matrix(rstate.normal(size = (num_user, rank_size))) # Random numbers in a m x rank shape\n",
    "    Y = sparse.csr_matrix(rstate.normal(size = (num_item, rank_size))) # Normally this would be rank x n but we can \n",
    "                                                                 # transpose at the end. Makes calculation more simple.\n",
    "    X_eye = sparse.eye(num_user)\n",
    "    Y_eye = sparse.eye(num_item)\n",
    "    lambda_eye = lambda_val * sparse.eye(rank_size) # Our regularization term lambda*I. \n",
    "    \n",
    "    # We can compute this before iteration starts. \n",
    "    \n",
    "    # Begin iterations\n",
    "   \n",
    "    for iter_step in range(iterations): # Iterate back and forth between solving X given fixed Y and vice versa\n",
    "        # Compute yTy and xTx at beginning of each iteration to save computing time\n",
    "        yTy = Y.T.dot(Y)\n",
    "        xTx = X.T.dot(X)\n",
    "        # Being iteration to solve for X based on fixed Y\n",
    "        for u in range(num_user):\n",
    "            conf_samp = conf[u,:].toarray() # Grab user row from confidence matrix and convert to dense\n",
    "            pref = conf_samp.copy() \n",
    "            pref[pref != 0] = 1 # Create binarized preference vector \n",
    "            CuI = sparse.diags(conf_samp, [0]) # Get Cu - I term, don't need to subtract 1 since we never added it \n",
    "            yTCuIY = Y.T.dot(CuI).dot(Y) # This is the yT(Cu-I)Y term \n",
    "            yTCupu = Y.T.dot(CuI + Y_eye).dot(pref.T) # This is the yTCuPu term, where we add the eye back in\n",
    "                                                      # Cu - I + I = Cu\n",
    "            X[u] = spsolve(yTy + yTCuIY + lambda_eye, yTCupu) \n",
    "            # Solve for Xu = ((yTy + yT(Cu-I)Y + lambda*I)^-1)yTCuPu, equation 4 from the paper  \n",
    "        # Begin iteration to solve for Y based on fixed X \n",
    "        for i in range(num_item):\n",
    "            conf_samp = conf[:,i].T.toarray() # transpose to get it in row format and convert to dense\n",
    "            pref = conf_samp.copy()\n",
    "            pref[pref != 0] = 1 # Create binarized preference vector\n",
    "            CiI = sparse.diags(conf_samp, [0]) # Get Ci - I term, don't need to subtract 1 since we never added it\n",
    "            xTCiIX = X.T.dot(CiI).dot(X) # This is the xT(Cu-I)X term\n",
    "            xTCiPi = X.T.dot(CiI + X_eye).dot(pref.T) # This is the xTCiPi term\n",
    "            Y[i] = spsolve(xTx + xTCiIX + lambda_eye, xTCiPi)\n",
    "            # Solve for Yi = ((xTx + xT(Cu-I)X) + lambda*I)^-1)xTCiPi, equation 5 from the paper\n",
    "    # End iterations\n",
    "    return X, Y.T # Transpose at the end to make up for not being transposed at the beginning. \n",
    "                         # Y needs to be rank x n. Keep these as separate matrices for scale reasons. "
   ]
  },
  {
   "cell_type": "markdown",
   "metadata": {},
   "source": [
    "### That is slow, oh, that is slow! Do not RUN"
   ]
  },
  {
   "cell_type": "code",
   "execution_count": 212,
   "metadata": {},
   "outputs": [],
   "source": [
    "# user_vecs, item_vecs = implicit_weighted_ALS(product_train, lambda_val = 0.1, alpha = 15, iterations = 1,\n",
    "#                                             rank_size = 20)"
   ]
  },
  {
   "cell_type": "markdown",
   "metadata": {},
   "source": [
    "We can investigate ratings for a particular user by taking the dot product between the user and item vectors (U and V). Let’s look at our first user."
   ]
  },
  {
   "cell_type": "code",
   "execution_count": 148,
   "metadata": {},
   "outputs": [],
   "source": [
    "# user_vecs[0,:].dot(item_vecs).toarray()[0,:5]"
   ]
  },
  {
   "cell_type": "code",
   "execution_count": null,
   "metadata": {},
   "outputs": [],
   "source": [
    "# array([ 0.00644811, -0.0014369 ,  0.00494281,  0.00027502,  0.01275582])"
   ]
  },
  {
   "cell_type": "markdown",
   "metadata": {},
   "source": [
    "# Speeding Up ALS"
   ]
  },
  {
   "cell_type": "markdown",
   "metadata": {},
   "source": [
    "This code in its raw form is just too slow. We have to do a lot of looping, and we haven’t taken advantage of the fact that our algorithm is embarrasingly parallel, since we could do each iteration of the item and user vectors independently. Fortunately, as I was still finishing this up, Ben Frederickson at Flipboard had perfect timing and came out with a version of ALS for Python utilizing Cython and parallelizing the code among threads. One can read his blog post about using it for finding similar music artists using matrix factorization here and his implicit library here. He claims it is even faster than Quora’s C++ QMF, but I haven’t tried theirs. The implementation it is over 1000 times faster than this bare bones pure Python version \n",
    "\n",
    "First, import his library so we can utilize it for our matrix factorization."
   ]
  },
  {
   "cell_type": "code",
   "execution_count": 25,
   "metadata": {},
   "outputs": [],
   "source": [
    "import implicit"
   ]
  },
  {
   "cell_type": "code",
   "execution_count": 63,
   "metadata": {},
   "outputs": [
    {
     "data": {
      "text/plain": [
       "scipy.sparse.csr.csr_matrix"
      ]
     },
     "execution_count": 63,
     "metadata": {},
     "output_type": "execute_result"
    }
   ],
   "source": [
    "type(product_train*alpha)"
   ]
  },
  {
   "cell_type": "code",
   "execution_count": 126,
   "metadata": {},
   "outputs": [
    {
     "name": "stderr",
     "output_type": "stream",
     "text": [
      "100%|██████████| 10.0/10 [00:23<00:00,  2.01s/it, loss=0.0387]\n"
     ]
    }
   ],
   "source": [
    "alpha = 15\n",
    "\n",
    "# changing deprecated \n",
    "# user_vecs, item_vecs = implicit.alternating_least_squares((product_train*alpha).astype('double'), \n",
    "#                                                           factors=20, \n",
    "#                                                           regularization = 0.1, \n",
    "#                                                          iterations = 50)\n",
    "model = implicit.als.AlternatingLeastSquares(factors=10, \n",
    "                                             regularization = 0.1, \n",
    "                                             iterations=10, \n",
    "                                             calculate_training_loss=True)\n",
    "model.fit(((product_train*alpha).T).astype('double'))\n",
    "user_items = (product_train*alpha).tocsr()\n"
   ]
  },
  {
   "cell_type": "code",
   "execution_count": 187,
   "metadata": {},
   "outputs": [
    {
     "name": "stdout",
     "output_type": "stream",
     "text": [
      "[480811, 10346, 298490, 276086, 19401, 574037, 157079, 13912, 230350, 298495]\n"
     ]
    }
   ],
   "source": [
    "user_id = 1990\n",
    "## 123 mixed user\n",
    "## 512 mixed user\n",
    "## 712 cat specific\n",
    "customer_id = customers_arr[user_id]\n",
    "# print(customer_id)\n",
    "recommendations = model.recommend(user_id, user_items)\n",
    "# recommendations\n",
    "fast_recommended = []\n",
    "for index in recommendations:\n",
    "    code = products_arr[index[0]]\n",
    "    fast_recommended.append(code)\n",
    "print(fast_recommended)"
   ]
  },
  {
   "cell_type": "markdown",
   "metadata": {},
   "source": [
    "# Evaluating the Recommender System (I have switched to multithreaded Implict libarary, so this can be skipped for now)"
   ]
  },
  {
   "cell_type": "code",
   "execution_count": 27,
   "metadata": {},
   "outputs": [],
   "source": [
    "from sklearn import metrics"
   ]
  },
  {
   "cell_type": "code",
   "execution_count": 28,
   "metadata": {},
   "outputs": [],
   "source": [
    "def auc_score(predictions, test):\n",
    "    '''\n",
    "    This simple function will output the area under the curve using sklearn's metrics. \n",
    "    \n",
    "    parameters:\n",
    "    \n",
    "    - predictions: your prediction output\n",
    "    \n",
    "    - test: the actual target result you are comparing to\n",
    "    \n",
    "    returns:\n",
    "    \n",
    "    - AUC (area under the Receiver Operating Characterisic curve)\n",
    "    '''\n",
    "    fpr, tpr, thresholds = metrics.roc_curve(test, predictions)\n",
    "    return metrics.auc(fpr, tpr)"
   ]
  },
  {
   "cell_type": "markdown",
   "metadata": {},
   "source": [
    "Now, utilize this helper function inside of a second function that will calculate the AUC for each user in our training set that had at least one item masked. It should also calculate AUC for the most popular items for our users to compare."
   ]
  },
  {
   "cell_type": "code",
   "execution_count": 29,
   "metadata": {},
   "outputs": [],
   "source": [
    "def calc_mean_auc(training_set, altered_users, predictions, test_set):\n",
    "    '''\n",
    "    This function will calculate the mean AUC by user for any user that had their user-item matrix altered. \n",
    "    \n",
    "    parameters:\n",
    "    \n",
    "    training_set - The training set resulting from make_train, where a certain percentage of the original\n",
    "    user/item interactions are reset to zero to hide them from the model \n",
    "    \n",
    "    predictions - The matrix of your predicted ratings for each user/item pair as output from the implicit MF.\n",
    "    These should be stored in a list, with user vectors as item zero and item vectors as item one. \n",
    "    \n",
    "    altered_users - The indices of the users where at least one user/item pair was altered from make_train function\n",
    "    \n",
    "    test_set - The test set constucted earlier from make_train function\n",
    "    \n",
    "    \n",
    "    \n",
    "    returns:\n",
    "    \n",
    "    The mean AUC (area under the Receiver Operator Characteristic curve) of the test set only on user-item interactions\n",
    "    there were originally zero to test ranking ability in addition to the most popular items as a benchmark.\n",
    "    '''\n",
    "    \n",
    "    \n",
    "    store_auc = [] # An empty list to store the AUC for each user that had an item removed from the training set\n",
    "    popularity_auc = [] # To store popular AUC scores\n",
    "    pop_items = np.array(test_set.sum(axis = 0)).reshape(-1) # Get sum of item iteractions to find most popular\n",
    "    item_vecs = predictions[1]\n",
    "    for user in altered_users: # Iterate through each user that had an item altered\n",
    "        training_row = training_set[user,:].toarray().reshape(-1) # Get the training set row\n",
    "        zero_inds = np.where(training_row == 0) # Find where the interaction had not yet occurred\n",
    "        # Get the predicted values based on our user/item vectors\n",
    "        user_vec = predictions[0][user,:]\n",
    "        pred = user_vec.dot(item_vecs).toarray()[0,zero_inds].reshape(-1)\n",
    "        # Get only the items that were originally zero\n",
    "        # Select all ratings from the MF prediction for this user that originally had no iteraction\n",
    "        actual = test_set[user,:].toarray()[0,zero_inds].reshape(-1) \n",
    "        # Select the binarized yes/no interaction pairs from the original full data\n",
    "        # that align with the same pairs in training \n",
    "        pop = pop_items[zero_inds] # Get the item popularity for our chosen items\n",
    "        store_auc.append(auc_score(pred, actual)) # Calculate AUC for the given user and store\n",
    "        popularity_auc.append(auc_score(pop, actual)) # Calculate AUC using most popular and score\n",
    "    # End users iteration\n",
    "    \n",
    "    return float('%.3f'%np.mean(store_auc)), float('%.3f'%np.mean(popularity_auc))  \n",
    "   # Return the mean AUC rounded to three decimal places for both test and popularity benchmark"
   ]
  },
  {
   "cell_type": "markdown",
   "metadata": {},
   "source": [
    "We can now use this function to see how our recommender system is doing. To use this function, we will need to transform our output from the ALS function to csr_matrix format and transpose the item vectors. The original pure Python version output the user and item vectors into the correct format already."
   ]
  },
  {
   "cell_type": "code",
   "execution_count": 30,
   "metadata": {},
   "outputs": [
    {
     "data": {
      "text/plain": [
       "(0.906, 0.869)"
      ]
     },
     "execution_count": 30,
     "metadata": {},
     "output_type": "execute_result"
    }
   ],
   "source": [
    "calc_mean_auc(product_train, product_users_altered, \n",
    "              [sparse.csr_matrix(user_vecs), sparse.csr_matrix(item_vecs.T)], product_test)\n",
    "# AUC for our recommender system"
   ]
  },
  {
   "cell_type": "markdown",
   "metadata": {},
   "source": [
    "We can see that our recommender system beat popularity. Our system had a mean AUC of 0.87, while the popular item benchmark had a lower AUC of 0.869. You can go back and tune the hyperparameters if you wish to see if you can get a higher AUC score. Ideally, you would have separate train, cross-validation, and test sets so that you aren’t overfitting while tuning the hyperparameters, but this setup is adequate to demonstrate how to check that the system is working."
   ]
  },
  {
   "cell_type": "markdown",
   "metadata": {},
   "source": [
    "# A Recommendation Example"
   ]
  },
  {
   "cell_type": "code",
   "execution_count": 31,
   "metadata": {},
   "outputs": [],
   "source": [
    "customers_arr = np.array(customers) # Array of customer IDs from the ratings matrix\n",
    "products_arr = np.array(products) # Array of product IDs from the ratings matrix"
   ]
  },
  {
   "cell_type": "markdown",
   "metadata": {},
   "source": [
    "Now, we can create a function that will return a list of the item descriptions from our earlier created item lookup table."
   ]
  },
  {
   "cell_type": "code",
   "execution_count": 32,
   "metadata": {},
   "outputs": [],
   "source": [
    "def get_items_purchased(customer_id, mf_train, customers_list, products_list, item_lookup):\n",
    "    '''\n",
    "    This just tells me which items have been already purchased by a specific user in the training set. \n",
    "    \n",
    "    parameters: \n",
    "    \n",
    "    customer_id - Input the customer's id number that you want to see prior purchases of at least once\n",
    "    \n",
    "    mf_train - The initial ratings training set used (without weights applied)\n",
    "    \n",
    "    customers_list - The array of customers used in the ratings matrix\n",
    "    \n",
    "    products_list - The array of products used in the ratings matrix\n",
    "    \n",
    "    item_lookup - A simple pandas dataframe of the unique product ID/product descriptions available\n",
    "    \n",
    "    returns:\n",
    "    \n",
    "    A list of item IDs and item descriptions for a particular customer that were already purchased in the training set\n",
    "    '''\n",
    "    cust_ind = np.where(customers_list == customer_id)[0][0] # Returns the index row of our customer id\n",
    "    purchased_ind = mf_train[cust_ind,:].nonzero()[1] # Get column indices of purchased items\n",
    "    prod_codes = products_list[purchased_ind] # Get the stock codes for our purchased items\n",
    "    print(prod_codes)\n",
    "    return item_lookup.loc[item_lookup.ART_C_PROD_NUMBER.isin(prod_codes)]"
   ]
  },
  {
   "cell_type": "markdown",
   "metadata": {},
   "source": [
    "We need to look these up by a customer’s ID. Looking at the list of customers:"
   ]
  },
  {
   "cell_type": "code",
   "execution_count": 33,
   "metadata": {},
   "outputs": [
    {
     "data": {
      "text/plain": [
       "array([  610,   830,   883,   921,  1312,  1375,  1442,  1525,  1553,\n",
       "        1611,  1682,  1775,  1814,  1836,  1921,  2016,  2081,  2236,\n",
       "        2326,  2372,  2625,  2676,  2974,  3133,  3142,  3299,  3338,\n",
       "        3445,  3586,  3605,  3644,  3779,  3797,  3826,  4012,  4340,\n",
       "        4637,  4661,  4891,  4952,  5036,  5211,  5463,  5493,  5755,\n",
       "        5855,  5909,  5987,  6096,  6174,  6481,  6489,  6675,  6835,\n",
       "        6854,  6856,  6860,  6912,  7016,  7043,  7110,  7134,  7205,\n",
       "        7246,  7313,  7342,  7352,  7373,  7432,  7653,  7930,  8029,\n",
       "        8030,  8164,  8196,  8478,  8552,  8588,  8626,  8642,  8736,\n",
       "        8752,  8767,  8810,  8829,  8844,  9093,  9229,  9431,  9758,\n",
       "        9952, 10088, 10450, 10501, 10823])"
      ]
     },
     "execution_count": 33,
     "metadata": {},
     "output_type": "execute_result"
    }
   ],
   "source": [
    "customers_arr[10:105]"
   ]
  },
  {
   "cell_type": "markdown",
   "metadata": {},
   "source": [
    "we can see that the first customer listed has an ID of 12346. Let’s examine their purchases from the training set."
   ]
  },
  {
   "cell_type": "code",
   "execution_count": 34,
   "metadata": {},
   "outputs": [
    {
     "name": "stdout",
     "output_type": "stream",
     "text": [
      "[ 52735 397041 447409 543556 616867]\n"
     ]
    },
    {
     "data": {
      "text/html": [
       "<div>\n",
       "<style scoped>\n",
       "    .dataframe tbody tr th:only-of-type {\n",
       "        vertical-align: middle;\n",
       "    }\n",
       "\n",
       "    .dataframe tbody tr th {\n",
       "        vertical-align: top;\n",
       "    }\n",
       "\n",
       "    .dataframe thead th {\n",
       "        text-align: right;\n",
       "    }\n",
       "</style>\n",
       "<table border=\"1\" class=\"dataframe\">\n",
       "  <thead>\n",
       "    <tr style=\"text-align: right;\">\n",
       "      <th></th>\n",
       "      <th>ART_C_PROD_NUMBER</th>\n",
       "      <th>ART_V_ART_DESCRIPTION</th>\n",
       "    </tr>\n",
       "  </thead>\n",
       "  <tbody>\n",
       "    <tr>\n",
       "      <th>326</th>\n",
       "      <td>397041</td>\n",
       "      <td>397041.3 Felix \"So gut wie es aussieht\" Pouche...</td>\n",
       "    </tr>\n",
       "    <tr>\n",
       "      <th>536</th>\n",
       "      <td>447409</td>\n",
       "      <td>447409.2 Vitakraft Cat Stick Mini - Lachs &amp; Fo...</td>\n",
       "    </tr>\n",
       "    <tr>\n",
       "      <th>540</th>\n",
       "      <td>447409</td>\n",
       "      <td>447409.0 Vitakraft Cat Stick Mini - Ente &amp; Kan...</td>\n",
       "    </tr>\n",
       "    <tr>\n",
       "      <th>1245</th>\n",
       "      <td>447409</td>\n",
       "      <td>447409.14 Vitakraft Cat Stick Mini - Truthahn ...</td>\n",
       "    </tr>\n",
       "    <tr>\n",
       "      <th>1246</th>\n",
       "      <td>447409</td>\n",
       "      <td>447409.15 Vitakraft Cat Stick Mini - Geflügel ...</td>\n",
       "    </tr>\n",
       "    <tr>\n",
       "      <th>1541</th>\n",
       "      <td>447409</td>\n",
       "      <td>447409.13 Vitakraft Cat Stick Mini - Lachs &amp; F...</td>\n",
       "    </tr>\n",
       "    <tr>\n",
       "      <th>1620</th>\n",
       "      <td>52735</td>\n",
       "      <td>52735.12 Miamor Feine Filets 6 x 100 g - Thunf...</td>\n",
       "    </tr>\n",
       "    <tr>\n",
       "      <th>1652</th>\n",
       "      <td>447409</td>\n",
       "      <td>447409.10 Vitakraft Cat Stick Mini - Truthahn ...</td>\n",
       "    </tr>\n",
       "    <tr>\n",
       "      <th>1653</th>\n",
       "      <td>447409</td>\n",
       "      <td>447409.8 Vitakraft Cat Stick Mini - Lachs &amp; Fo...</td>\n",
       "    </tr>\n",
       "    <tr>\n",
       "      <th>1655</th>\n",
       "      <td>447409</td>\n",
       "      <td>447409.11 Vitakraft Cat Stick Mini - Geflügel ...</td>\n",
       "    </tr>\n",
       "    <tr>\n",
       "      <th>1656</th>\n",
       "      <td>447409</td>\n",
       "      <td>447409.6 Vitakraft Cat Stick Mini - Ente &amp; Kan...</td>\n",
       "    </tr>\n",
       "    <tr>\n",
       "      <th>1927</th>\n",
       "      <td>397041</td>\n",
       "      <td>397041.2 Felix \"So gut wie es aussieht\" Pouche...</td>\n",
       "    </tr>\n",
       "    <tr>\n",
       "      <th>2262</th>\n",
       "      <td>52735</td>\n",
       "      <td>52735.11 Miamor Feine Filets 6 x 100 g - Thunf...</td>\n",
       "    </tr>\n",
       "    <tr>\n",
       "      <th>2686</th>\n",
       "      <td>543556</td>\n",
       "      <td>543556.2 Felix ''So gut wie es aussieht'' Gemü...</td>\n",
       "    </tr>\n",
       "    <tr>\n",
       "      <th>3444</th>\n",
       "      <td>447409</td>\n",
       "      <td>447409.4 Vitakraft Cat Stick Mini - Truthahn &amp;...</td>\n",
       "    </tr>\n",
       "    <tr>\n",
       "      <th>3596</th>\n",
       "      <td>52735</td>\n",
       "      <td>52735.0 Miamor Feine Filets 6 x 100 g - Huhn &amp;...</td>\n",
       "    </tr>\n",
       "    <tr>\n",
       "      <th>3870</th>\n",
       "      <td>447409</td>\n",
       "      <td>447409.5 Vitakraft Cat Stick Mini - Geflügel &amp;...</td>\n",
       "    </tr>\n",
       "    <tr>\n",
       "      <th>4892</th>\n",
       "      <td>52735</td>\n",
       "      <td>52735.3 Miamor Feine Filets 6 x 100 g - Thunfi...</td>\n",
       "    </tr>\n",
       "    <tr>\n",
       "      <th>5177</th>\n",
       "      <td>52735</td>\n",
       "      <td>52735.1 Miamor Feine Filets 6 x 100 g - Thunfi...</td>\n",
       "    </tr>\n",
       "    <tr>\n",
       "      <th>7432</th>\n",
       "      <td>52735</td>\n",
       "      <td>52735.2 Miamor Feine Filets 6 x 100 g - Thunfi...</td>\n",
       "    </tr>\n",
       "    <tr>\n",
       "      <th>8105</th>\n",
       "      <td>616867</td>\n",
       "      <td>616867.0 Getreidefreies Probierpaket 3 x 400 g...</td>\n",
       "    </tr>\n",
       "    <tr>\n",
       "      <th>11801</th>\n",
       "      <td>52735</td>\n",
       "      <td>52735.6 Miamor Feine Filets 6 x 100 g - Thunfi...</td>\n",
       "    </tr>\n",
       "    <tr>\n",
       "      <th>18450</th>\n",
       "      <td>52735</td>\n",
       "      <td>52735.10 Miamor Feine Filets 6 x 100 g - Huhn ...</td>\n",
       "    </tr>\n",
       "    <tr>\n",
       "      <th>44457</th>\n",
       "      <td>447409</td>\n",
       "      <td>447409.12 Vitakraft Cat Stick Mini - Ente &amp; Ka...</td>\n",
       "    </tr>\n",
       "    <tr>\n",
       "      <th>2484189</th>\n",
       "      <td>616867</td>\n",
       "      <td>616867.1 Getreidefreies Probierpaket 3 x 400 g...</td>\n",
       "    </tr>\n",
       "    <tr>\n",
       "      <th>3894790</th>\n",
       "      <td>616867</td>\n",
       "      <td>616867.2 Getreidefreies Probierpaket 3 x 400 g...</td>\n",
       "    </tr>\n",
       "    <tr>\n",
       "      <th>17271052</th>\n",
       "      <td>397041</td>\n",
       "      <td>397041.0 Felix \"So gut wie es aussieht\" Pouche...</td>\n",
       "    </tr>\n",
       "  </tbody>\n",
       "</table>\n",
       "</div>"
      ],
      "text/plain": [
       "          ART_C_PROD_NUMBER                              ART_V_ART_DESCRIPTION\n",
       "326                  397041  397041.3 Felix \"So gut wie es aussieht\" Pouche...\n",
       "536                  447409  447409.2 Vitakraft Cat Stick Mini - Lachs & Fo...\n",
       "540                  447409  447409.0 Vitakraft Cat Stick Mini - Ente & Kan...\n",
       "1245                 447409  447409.14 Vitakraft Cat Stick Mini - Truthahn ...\n",
       "1246                 447409  447409.15 Vitakraft Cat Stick Mini - Geflügel ...\n",
       "1541                 447409  447409.13 Vitakraft Cat Stick Mini - Lachs & F...\n",
       "1620                  52735  52735.12 Miamor Feine Filets 6 x 100 g - Thunf...\n",
       "1652                 447409  447409.10 Vitakraft Cat Stick Mini - Truthahn ...\n",
       "1653                 447409  447409.8 Vitakraft Cat Stick Mini - Lachs & Fo...\n",
       "1655                 447409  447409.11 Vitakraft Cat Stick Mini - Geflügel ...\n",
       "1656                 447409  447409.6 Vitakraft Cat Stick Mini - Ente & Kan...\n",
       "1927                 397041  397041.2 Felix \"So gut wie es aussieht\" Pouche...\n",
       "2262                  52735  52735.11 Miamor Feine Filets 6 x 100 g - Thunf...\n",
       "2686                 543556  543556.2 Felix ''So gut wie es aussieht'' Gemü...\n",
       "3444                 447409  447409.4 Vitakraft Cat Stick Mini - Truthahn &...\n",
       "3596                  52735  52735.0 Miamor Feine Filets 6 x 100 g - Huhn &...\n",
       "3870                 447409  447409.5 Vitakraft Cat Stick Mini - Geflügel &...\n",
       "4892                  52735  52735.3 Miamor Feine Filets 6 x 100 g - Thunfi...\n",
       "5177                  52735  52735.1 Miamor Feine Filets 6 x 100 g - Thunfi...\n",
       "7432                  52735  52735.2 Miamor Feine Filets 6 x 100 g - Thunfi...\n",
       "8105                 616867  616867.0 Getreidefreies Probierpaket 3 x 400 g...\n",
       "11801                 52735  52735.6 Miamor Feine Filets 6 x 100 g - Thunfi...\n",
       "18450                 52735  52735.10 Miamor Feine Filets 6 x 100 g - Huhn ...\n",
       "44457                447409  447409.12 Vitakraft Cat Stick Mini - Ente & Ka...\n",
       "2484189              616867  616867.1 Getreidefreies Probierpaket 3 x 400 g...\n",
       "3894790              616867  616867.2 Getreidefreies Probierpaket 3 x 400 g...\n",
       "17271052             397041  397041.0 Felix \"So gut wie es aussieht\" Pouche..."
      ]
     },
     "execution_count": 34,
     "metadata": {},
     "output_type": "execute_result"
    }
   ],
   "source": [
    "get_items_purchased(22, product_train, customers_arr, products_arr, item_lookup)"
   ]
  },
  {
   "cell_type": "code",
   "execution_count": 35,
   "metadata": {},
   "outputs": [],
   "source": [
    "from sklearn.preprocessing import MinMaxScaler"
   ]
  },
  {
   "cell_type": "code",
   "execution_count": 36,
   "metadata": {},
   "outputs": [],
   "source": [
    "def rec_items(customer_id, mf_train, user_vecs, item_vecs, customer_list, item_list, item_lookup, num_items = 10):\n",
    "    '''\n",
    "    This function will return the top recommended items to our users \n",
    "    \n",
    "    parameters:\n",
    "    \n",
    "    customer_id - Input the customer's id number that you want to get recommendations for\n",
    "    \n",
    "    mf_train - The training matrix you used for matrix factorization fitting\n",
    "    \n",
    "    user_vecs - the user vectors from your fitted matrix factorization\n",
    "    \n",
    "    item_vecs - the item vectors from your fitted matrix factorization\n",
    "    \n",
    "    customer_list - an array of the customer's ID numbers that make up the rows of your ratings matrix \n",
    "                    (in order of matrix)\n",
    "    \n",
    "    item_list - an array of the products that make up the columns of your ratings matrix\n",
    "                    (in order of matrix)\n",
    "    \n",
    "    item_lookup - A simple pandas dataframe of the unique product ID/product descriptions available\n",
    "    \n",
    "    num_items - The number of items you want to recommend in order of best recommendations. Default is 10. \n",
    "    \n",
    "    returns:\n",
    "    \n",
    "    - The top n recommendations chosen based on the user/item vectors for items never interacted with/purchased\n",
    "    '''\n",
    "    \n",
    "    cust_ind = np.where(customer_list == customer_id)[0][0] # Returns the index row of our customer id\n",
    "    pref_vec = mf_train[cust_ind,:].toarray() # Get the ratings from the training set ratings matrix\n",
    "    pref_vec = pref_vec.reshape(-1) + 1 # Add 1 to everything, so that items not purchased yet become equal to 1\n",
    "    pref_vec[pref_vec > 1] = 0 # Make everything already purchased zero\n",
    "    rec_vector = user_vecs[cust_ind,:].dot(item_vecs.T) # Get dot product of user vector and all item vectors\n",
    "    # Scale this recommendation vector between 0 and 1\n",
    "    min_max = MinMaxScaler()\n",
    "    rec_vector_scaled = min_max.fit_transform(rec_vector.reshape(-1,1))[:,0] \n",
    "    recommend_vector = pref_vec*rec_vector_scaled \n",
    "    # Items already purchased have their recommendation multiplied by zero\n",
    "    product_idx = np.argsort(recommend_vector)[::-1][:num_items] # Sort the indices of the items into order \n",
    "    # of best recommendations\n",
    "    rec_list = [] # start empty list to store items\n",
    "    for index in product_idx:\n",
    "        code = item_list[index]\n",
    "        # print(code)\n",
    "        rec_list.append([code, item_lookup.ART_V_ART_DESCRIPTION.loc[item_lookup.ART_C_PROD_NUMBER == code].iloc[0]]) \n",
    "        # Append our descriptions to the list\n",
    "    codes = [item[0] for item in rec_list]\n",
    "    descriptions = [item[1] for item in rec_list]\n",
    "    # print (descriptions)\n",
    "    final_frame = pd.DataFrame({'ART_C_PROD_NUMBER': codes, 'ART_V_ART_DESCRIPTION': descriptions}) # Create a dataframe \n",
    "    return final_frame[['ART_C_PROD_NUMBER', 'ART_V_ART_DESCRIPTION']], codes # Switch order of columns around\n",
    "    #return 0"
   ]
  },
  {
   "cell_type": "code",
   "execution_count": 37,
   "metadata": {
    "scrolled": true
   },
   "outputs": [
    {
     "data": {
      "text/html": [
       "<div>\n",
       "<style scoped>\n",
       "    .dataframe tbody tr th:only-of-type {\n",
       "        vertical-align: middle;\n",
       "    }\n",
       "\n",
       "    .dataframe tbody tr th {\n",
       "        vertical-align: top;\n",
       "    }\n",
       "\n",
       "    .dataframe thead th {\n",
       "        text-align: right;\n",
       "    }\n",
       "</style>\n",
       "<table border=\"1\" class=\"dataframe\">\n",
       "  <thead>\n",
       "    <tr style=\"text-align: right;\">\n",
       "      <th></th>\n",
       "      <th>ART_C_PROD_NUMBER</th>\n",
       "      <th>ART_V_ART_DESCRIPTION</th>\n",
       "    </tr>\n",
       "  </thead>\n",
       "  <tbody>\n",
       "    <tr>\n",
       "      <th>0</th>\n",
       "      <td>508482</td>\n",
       "      <td>508482.1 Royal Canin Veterinary Diet Feline Re...</td>\n",
       "    </tr>\n",
       "    <tr>\n",
       "      <th>1</th>\n",
       "      <td>531249</td>\n",
       "      <td>531249.2 Kattovit Niere/Renal Pouch 6 x 85 g -...</td>\n",
       "    </tr>\n",
       "    <tr>\n",
       "      <th>2</th>\n",
       "      <td>471676</td>\n",
       "      <td>471676.0 Royal Canin Veterinary Diet Feline Re...</td>\n",
       "    </tr>\n",
       "    <tr>\n",
       "      <th>3</th>\n",
       "      <td>479505</td>\n",
       "      <td>479505.2 Kattovit Gastro Pouch 6 x 85 g - 6 x ...</td>\n",
       "    </tr>\n",
       "    <tr>\n",
       "      <th>4</th>\n",
       "      <td>508454</td>\n",
       "      <td>508454.2 Royal Canin Veterinary Diet Feline Se...</td>\n",
       "    </tr>\n",
       "    <tr>\n",
       "      <th>5</th>\n",
       "      <td>206642</td>\n",
       "      <td>206642.4 Hill's Prescription Diet k/d Kidney C...</td>\n",
       "    </tr>\n",
       "    <tr>\n",
       "      <th>6</th>\n",
       "      <td>556340</td>\n",
       "      <td>556340.10 Sparpaket Kattovit Pouches 24 x 85 g...</td>\n",
       "    </tr>\n",
       "    <tr>\n",
       "      <th>7</th>\n",
       "      <td>508456</td>\n",
       "      <td>508456.0 Royal Canin Veterinary Diet Feline Ur...</td>\n",
       "    </tr>\n",
       "    <tr>\n",
       "      <th>8</th>\n",
       "      <td>529296</td>\n",
       "      <td>529296.1 Kattovit Sensitive 6 x 175 g - 12 x 1...</td>\n",
       "    </tr>\n",
       "    <tr>\n",
       "      <th>9</th>\n",
       "      <td>10350</td>\n",
       "      <td>10350.16 Animonda Carny Adult 6 x 400 g - Rind...</td>\n",
       "    </tr>\n",
       "  </tbody>\n",
       "</table>\n",
       "</div>"
      ],
      "text/plain": [
       "   ART_C_PROD_NUMBER                              ART_V_ART_DESCRIPTION\n",
       "0             508482  508482.1 Royal Canin Veterinary Diet Feline Re...\n",
       "1             531249  531249.2 Kattovit Niere/Renal Pouch 6 x 85 g -...\n",
       "2             471676  471676.0 Royal Canin Veterinary Diet Feline Re...\n",
       "3             479505  479505.2 Kattovit Gastro Pouch 6 x 85 g - 6 x ...\n",
       "4             508454  508454.2 Royal Canin Veterinary Diet Feline Se...\n",
       "5             206642  206642.4 Hill's Prescription Diet k/d Kidney C...\n",
       "6             556340  556340.10 Sparpaket Kattovit Pouches 24 x 85 g...\n",
       "7             508456  508456.0 Royal Canin Veterinary Diet Feline Ur...\n",
       "8             529296  529296.1 Kattovit Sensitive 6 x 175 g - 12 x 1...\n",
       "9              10350  10350.16 Animonda Carny Adult 6 x 400 g - Rind..."
      ]
     },
     "execution_count": 37,
     "metadata": {},
     "output_type": "execute_result"
    }
   ],
   "source": [
    "r_df, _ = rec_items(208, product_train, user_vecs, item_vecs, customers_arr, products_arr, item_lookup,\n",
    "                       num_items = 10)\n",
    "r_df"
   ]
  },
  {
   "cell_type": "markdown",
   "metadata": {},
   "source": [
    "These recommendations seem quite good! Remember that the recommendation system has no real understanding of what a kat food is. All it knows is the purchase history. It identified that people purchasing vet related cat food may also want to purchase sensitive cat food. "
   ]
  },
  {
   "cell_type": "markdown",
   "metadata": {},
   "source": [
    "Let us select some other user"
   ]
  },
  {
   "cell_type": "code",
   "execution_count": 213,
   "metadata": {},
   "outputs": [
    {
     "data": {
      "text/html": [
       "<div>\n",
       "<style scoped>\n",
       "    .dataframe tbody tr th:only-of-type {\n",
       "        vertical-align: middle;\n",
       "    }\n",
       "\n",
       "    .dataframe tbody tr th {\n",
       "        vertical-align: top;\n",
       "    }\n",
       "\n",
       "    .dataframe thead th {\n",
       "        text-align: right;\n",
       "    }\n",
       "</style>\n",
       "<table border=\"1\" class=\"dataframe\">\n",
       "  <thead>\n",
       "    <tr style=\"text-align: right;\">\n",
       "      <th></th>\n",
       "      <th>SCM_N_ORDER_POS_NR</th>\n",
       "      <th>SCM_N_ORDER_NR</th>\n",
       "      <th>SCM_N_ORDER_NR_NC</th>\n",
       "      <th>TDT_T_KEY_ORDER_DATE</th>\n",
       "      <th>ART_N_KEY_ARTICLE</th>\n",
       "      <th>PPR_N_KEY_PHYS_PRODUCT</th>\n",
       "      <th>CUS_N_KEY_CUSTOMER</th>\n",
       "      <th>SCM_D_QUANTITY</th>\n",
       "      <th>PPR_N_PHY_ARTICLE_ID</th>\n",
       "      <th>PPR_N_PHY_PRODUCT_ID</th>\n",
       "      <th>...</th>\n",
       "      <th>ART_V_ART_DESCRIPTION</th>\n",
       "      <th>ART_V_ART_DESCRIPTION_1</th>\n",
       "      <th>ART_V_PG_LEVEL3_DESC</th>\n",
       "      <th>ART_V_PG_LEVEL4_DESC</th>\n",
       "      <th>ART_V_PG_LEVEL5_DESC</th>\n",
       "      <th>ART_V_PG_LEVEL6_DESC</th>\n",
       "      <th>ART_V_MANUFACTURER_DESC</th>\n",
       "      <th>PPR_ART_CLASS_DESC</th>\n",
       "      <th>PPR_N_LEVEL2_ID</th>\n",
       "      <th>SCM_N_ORDER_NR_1</th>\n",
       "    </tr>\n",
       "  </thead>\n",
       "  <tbody>\n",
       "    <tr>\n",
       "      <th>1025086</th>\n",
       "      <td>345861938</td>\n",
       "      <td>81276553</td>\n",
       "      <td>0</td>\n",
       "      <td>23-JAN-17</td>\n",
       "      <td>1500488</td>\n",
       "      <td>74444244</td>\n",
       "      <td>221</td>\n",
       "      <td>1.0</td>\n",
       "      <td>64620</td>\n",
       "      <td>46372</td>\n",
       "      <td>...</td>\n",
       "      <td>447409.11 Vitakraft Cat Stick Mini - Geflügel ...</td>\n",
       "      <td>447409.11 Vitakraft Cat Stick Mini - Geflügel ...</td>\n",
       "      <td>Katzensnacks</td>\n",
       "      <td>Vitakraft</td>\n",
       "      <td>Vitakraft</td>\n",
       "      <td>Vitakraft</td>\n",
       "      <td>Vitakraft</td>\n",
       "      <td>snacks</td>\n",
       "      <td>3</td>\n",
       "      <td>81276553</td>\n",
       "    </tr>\n",
       "    <tr>\n",
       "      <th>1671583</th>\n",
       "      <td>345861932</td>\n",
       "      <td>81276553</td>\n",
       "      <td>0</td>\n",
       "      <td>23-JAN-17</td>\n",
       "      <td>1500466</td>\n",
       "      <td>74444252</td>\n",
       "      <td>221</td>\n",
       "      <td>1.0</td>\n",
       "      <td>64616</td>\n",
       "      <td>46372</td>\n",
       "      <td>...</td>\n",
       "      <td>447409.6 Vitakraft Cat Stick Mini - Ente &amp; Kan...</td>\n",
       "      <td>447409.6 Vitakraft Cat Stick Mini - Ente &amp; Kan...</td>\n",
       "      <td>Katzensnacks</td>\n",
       "      <td>Vitakraft</td>\n",
       "      <td>Vitakraft</td>\n",
       "      <td>Vitakraft</td>\n",
       "      <td>Vitakraft</td>\n",
       "      <td>snacks</td>\n",
       "      <td>3</td>\n",
       "      <td>81276553</td>\n",
       "    </tr>\n",
       "    <tr>\n",
       "      <th>1671899</th>\n",
       "      <td>345861928</td>\n",
       "      <td>81276553</td>\n",
       "      <td>0</td>\n",
       "      <td>23-JAN-17</td>\n",
       "      <td>1933976</td>\n",
       "      <td>107664472</td>\n",
       "      <td>221</td>\n",
       "      <td>1.0</td>\n",
       "      <td>69844</td>\n",
       "      <td>49693</td>\n",
       "      <td>...</td>\n",
       "      <td>565453.1 My Star is a Foodie - Gemischtes Pake...</td>\n",
       "      <td>565453.1 My Star is a Foodie - Gemischtes Pake...</td>\n",
       "      <td>Katzenfutter nass</td>\n",
       "      <td>★ My Star</td>\n",
       "      <td>My Star zarte Mousse</td>\n",
       "      <td>My Star zarte Mousse</td>\n",
       "      <td>MATINA</td>\n",
       "      <td>Canned Food Cat / Dog</td>\n",
       "      <td>3</td>\n",
       "      <td>81276553</td>\n",
       "    </tr>\n",
       "    <tr>\n",
       "      <th>1671900</th>\n",
       "      <td>345861929</td>\n",
       "      <td>81276553</td>\n",
       "      <td>0</td>\n",
       "      <td>23-JAN-17</td>\n",
       "      <td>1888821</td>\n",
       "      <td>55758654</td>\n",
       "      <td>221</td>\n",
       "      <td>1.0</td>\n",
       "      <td>58963</td>\n",
       "      <td>43981</td>\n",
       "      <td>...</td>\n",
       "      <td>52735.10 Miamor Feine Filets 6 x 100 g - Huhn ...</td>\n",
       "      <td>52735.10 Miamor Feine Filets 6 x 100 g - Huhn ...</td>\n",
       "      <td>Katzenfutter nass</td>\n",
       "      <td>Miamor</td>\n",
       "      <td>Miamor Feine Filets</td>\n",
       "      <td>Miamor Feine Filets</td>\n",
       "      <td>Finnern</td>\n",
       "      <td>Canned Food Cat / Dog</td>\n",
       "      <td>3</td>\n",
       "      <td>81276553</td>\n",
       "    </tr>\n",
       "    <tr>\n",
       "      <th>1671901</th>\n",
       "      <td>345861931</td>\n",
       "      <td>81276553</td>\n",
       "      <td>0</td>\n",
       "      <td>23-JAN-17</td>\n",
       "      <td>1742173</td>\n",
       "      <td>95004559</td>\n",
       "      <td>221</td>\n",
       "      <td>1.0</td>\n",
       "      <td>67798</td>\n",
       "      <td>48682</td>\n",
       "      <td>...</td>\n",
       "      <td>518433.2 Megapack Sheba Fresh &amp; Fine Frischebe...</td>\n",
       "      <td>518433.2 Megapack Sheba Fresh &amp; Fine Frischebe...</td>\n",
       "      <td>Katzenfutter nass</td>\n",
       "      <td>Sheba</td>\n",
       "      <td>Fresh &amp; Fine</td>\n",
       "      <td>Fresh &amp; Fine</td>\n",
       "      <td>Mars Petcare (Retail)</td>\n",
       "      <td>Canned Food Cat / Dog</td>\n",
       "      <td>3</td>\n",
       "      <td>81276553</td>\n",
       "    </tr>\n",
       "  </tbody>\n",
       "</table>\n",
       "<p>5 rows × 23 columns</p>\n",
       "</div>"
      ],
      "text/plain": [
       "         SCM_N_ORDER_POS_NR  SCM_N_ORDER_NR  SCM_N_ORDER_NR_NC  \\\n",
       "1025086           345861938        81276553                  0   \n",
       "1671583           345861932        81276553                  0   \n",
       "1671899           345861928        81276553                  0   \n",
       "1671900           345861929        81276553                  0   \n",
       "1671901           345861931        81276553                  0   \n",
       "\n",
       "        TDT_T_KEY_ORDER_DATE  ART_N_KEY_ARTICLE  PPR_N_KEY_PHYS_PRODUCT  \\\n",
       "1025086            23-JAN-17            1500488                74444244   \n",
       "1671583            23-JAN-17            1500466                74444252   \n",
       "1671899            23-JAN-17            1933976               107664472   \n",
       "1671900            23-JAN-17            1888821                55758654   \n",
       "1671901            23-JAN-17            1742173                95004559   \n",
       "\n",
       "         CUS_N_KEY_CUSTOMER  SCM_D_QUANTITY  PPR_N_PHY_ARTICLE_ID  \\\n",
       "1025086                 221             1.0                 64620   \n",
       "1671583                 221             1.0                 64616   \n",
       "1671899                 221             1.0                 69844   \n",
       "1671900                 221             1.0                 58963   \n",
       "1671901                 221             1.0                 67798   \n",
       "\n",
       "         PPR_N_PHY_PRODUCT_ID       ...         \\\n",
       "1025086                 46372       ...          \n",
       "1671583                 46372       ...          \n",
       "1671899                 49693       ...          \n",
       "1671900                 43981       ...          \n",
       "1671901                 48682       ...          \n",
       "\n",
       "                                     ART_V_ART_DESCRIPTION  \\\n",
       "1025086  447409.11 Vitakraft Cat Stick Mini - Geflügel ...   \n",
       "1671583  447409.6 Vitakraft Cat Stick Mini - Ente & Kan...   \n",
       "1671899  565453.1 My Star is a Foodie - Gemischtes Pake...   \n",
       "1671900  52735.10 Miamor Feine Filets 6 x 100 g - Huhn ...   \n",
       "1671901  518433.2 Megapack Sheba Fresh & Fine Frischebe...   \n",
       "\n",
       "                                   ART_V_ART_DESCRIPTION_1  \\\n",
       "1025086  447409.11 Vitakraft Cat Stick Mini - Geflügel ...   \n",
       "1671583  447409.6 Vitakraft Cat Stick Mini - Ente & Kan...   \n",
       "1671899  565453.1 My Star is a Foodie - Gemischtes Pake...   \n",
       "1671900  52735.10 Miamor Feine Filets 6 x 100 g - Huhn ...   \n",
       "1671901  518433.2 Megapack Sheba Fresh & Fine Frischebe...   \n",
       "\n",
       "         ART_V_PG_LEVEL3_DESC ART_V_PG_LEVEL4_DESC  ART_V_PG_LEVEL5_DESC  \\\n",
       "1025086          Katzensnacks            Vitakraft             Vitakraft   \n",
       "1671583          Katzensnacks            Vitakraft             Vitakraft   \n",
       "1671899     Katzenfutter nass            ★ My Star  My Star zarte Mousse   \n",
       "1671900     Katzenfutter nass               Miamor   Miamor Feine Filets   \n",
       "1671901     Katzenfutter nass                Sheba          Fresh & Fine   \n",
       "\n",
       "         ART_V_PG_LEVEL6_DESC ART_V_MANUFACTURER_DESC     PPR_ART_CLASS_DESC  \\\n",
       "1025086             Vitakraft               Vitakraft                 snacks   \n",
       "1671583             Vitakraft               Vitakraft                 snacks   \n",
       "1671899  My Star zarte Mousse                  MATINA  Canned Food Cat / Dog   \n",
       "1671900   Miamor Feine Filets                 Finnern  Canned Food Cat / Dog   \n",
       "1671901          Fresh & Fine   Mars Petcare (Retail)  Canned Food Cat / Dog   \n",
       "\n",
       "        PPR_N_LEVEL2_ID SCM_N_ORDER_NR_1  \n",
       "1025086               3         81276553  \n",
       "1671583               3         81276553  \n",
       "1671899               3         81276553  \n",
       "1671900               3         81276553  \n",
       "1671901               3         81276553  \n",
       "\n",
       "[5 rows x 23 columns]"
      ]
     },
     "execution_count": 213,
     "metadata": {},
     "output_type": "execute_result"
    }
   ],
   "source": [
    "raw_df[raw_df['CUS_N_KEY_CUSTOMER'] == 221].head()"
   ]
  },
  {
   "cell_type": "code",
   "execution_count": 39,
   "metadata": {},
   "outputs": [
    {
     "data": {
      "text/html": [
       "<div>\n",
       "<style scoped>\n",
       "    .dataframe tbody tr th:only-of-type {\n",
       "        vertical-align: middle;\n",
       "    }\n",
       "\n",
       "    .dataframe tbody tr th {\n",
       "        vertical-align: top;\n",
       "    }\n",
       "\n",
       "    .dataframe thead th {\n",
       "        text-align: right;\n",
       "    }\n",
       "</style>\n",
       "<table border=\"1\" class=\"dataframe\">\n",
       "  <thead>\n",
       "    <tr style=\"text-align: right;\">\n",
       "      <th></th>\n",
       "      <th>ART_C_PROD_NUMBER</th>\n",
       "      <th>ART_V_ART_DESCRIPTION</th>\n",
       "    </tr>\n",
       "  </thead>\n",
       "  <tbody>\n",
       "    <tr>\n",
       "      <th>0</th>\n",
       "      <td>3187</td>\n",
       "      <td>3187.13 Cat's Best Original Katzenstreu - 40 l...</td>\n",
       "    </tr>\n",
       "    <tr>\n",
       "      <th>1</th>\n",
       "      <td>276087</td>\n",
       "      <td>276087.4 Miamor Feine Filets Naturelle 6 x 80 ...</td>\n",
       "    </tr>\n",
       "    <tr>\n",
       "      <th>2</th>\n",
       "      <td>576075</td>\n",
       "      <td>576075.2 Multipack Sheba Classic Soup Frischeb...</td>\n",
       "    </tr>\n",
       "    <tr>\n",
       "      <th>3</th>\n",
       "      <td>174338</td>\n",
       "      <td>174338.9 Megapack Gourmet Perle 24 x 85 g - Er...</td>\n",
       "    </tr>\n",
       "    <tr>\n",
       "      <th>4</th>\n",
       "      <td>11429</td>\n",
       "      <td>11429.4 Almo Nature Jelly Pouch 6 x 70 g - Thu...</td>\n",
       "    </tr>\n",
       "    <tr>\n",
       "      <th>5</th>\n",
       "      <td>431494</td>\n",
       "      <td>431494.0 Almo Nature Daily Menu 6 x 85 g -  Hä...</td>\n",
       "    </tr>\n",
       "    <tr>\n",
       "      <th>6</th>\n",
       "      <td>7786</td>\n",
       "      <td>7786.7 Miamor Feine Filets 6 x 100 g - Thunfis...</td>\n",
       "    </tr>\n",
       "    <tr>\n",
       "      <th>7</th>\n",
       "      <td>145745</td>\n",
       "      <td>145745.1 Almo Nature Daily Menu Pouch 6 x 70 g...</td>\n",
       "    </tr>\n",
       "    <tr>\n",
       "      <th>8</th>\n",
       "      <td>370544</td>\n",
       "      <td>370544.12 6 x 70 g Almo Nature Probierpaket - ...</td>\n",
       "    </tr>\n",
       "    <tr>\n",
       "      <th>9</th>\n",
       "      <td>514134</td>\n",
       "      <td>514134.4 Schesir Jelly Pouch 6 x 100 g - Thunf...</td>\n",
       "    </tr>\n",
       "  </tbody>\n",
       "</table>\n",
       "</div>"
      ],
      "text/plain": [
       "   ART_C_PROD_NUMBER                              ART_V_ART_DESCRIPTION\n",
       "0               3187  3187.13 Cat's Best Original Katzenstreu - 40 l...\n",
       "1             276087  276087.4 Miamor Feine Filets Naturelle 6 x 80 ...\n",
       "2             576075  576075.2 Multipack Sheba Classic Soup Frischeb...\n",
       "3             174338  174338.9 Megapack Gourmet Perle 24 x 85 g - Er...\n",
       "4              11429  11429.4 Almo Nature Jelly Pouch 6 x 70 g - Thu...\n",
       "5             431494  431494.0 Almo Nature Daily Menu 6 x 85 g -  Hä...\n",
       "6               7786  7786.7 Miamor Feine Filets 6 x 100 g - Thunfis...\n",
       "7             145745  145745.1 Almo Nature Daily Menu Pouch 6 x 70 g...\n",
       "8             370544  370544.12 6 x 70 g Almo Nature Probierpaket - ...\n",
       "9             514134  514134.4 Schesir Jelly Pouch 6 x 100 g - Thunf..."
      ]
     },
     "execution_count": 39,
     "metadata": {},
     "output_type": "execute_result"
    }
   ],
   "source": [
    "r_df , _ = rec_items(221, product_train, user_vecs, item_vecs, customers_arr, products_arr, item_lookup,\n",
    "                       num_items = 10)\n",
    "r_df"
   ]
  },
  {
   "cell_type": "markdown",
   "metadata": {},
   "source": [
    "# Let us see how it all works!\n",
    "## Add visuals to recommendations"
   ]
  },
  {
   "cell_type": "code",
   "execution_count": 40,
   "metadata": {},
   "outputs": [
    {
     "data": {
      "text/html": [
       "\n",
       "<style>\n",
       "    div#notebook-container    { width: 95%; }\n",
       "    div#menubar-container     { width: 65%; }\n",
       "    div#maintoolbar-container { width: 99%; }\n",
       "</style>\n"
      ],
      "text/plain": [
       "<IPython.core.display.HTML object>"
      ]
     },
     "metadata": {},
     "output_type": "display_data"
    }
   ],
   "source": [
    "##\n",
    "display(HTML(data=\"\"\"\n",
    "<style>\n",
    "    div#notebook-container    { width: 95%; }\n",
    "    div#menubar-container     { width: 65%; }\n",
    "    div#maintoolbar-container { width: 99%; }\n",
    "</style>\n",
    "\"\"\"))"
   ]
  },
  {
   "cell_type": "markdown",
   "metadata": {},
   "source": [
    "In order to visualize the items that were consumed by the user and visualize the corresponding recommendations I have exported additional data form the SNAP DB and reversed the function that generates direct links to the imeages"
   ]
  },
  {
   "cell_type": "code",
   "execution_count": 41,
   "metadata": {},
   "outputs": [],
   "source": [
    "# load the exported data\n",
    "img_df = pd.read_csv('ps_id_to_img.csv', encoding = \"utf-8\")#, nrows = 100000)"
   ]
  },
  {
   "cell_type": "code",
   "execution_count": 42,
   "metadata": {},
   "outputs": [],
   "source": [
    "# define a lambda function that constructs the url from the image name\n",
    "name_to_url_lambda = lambda x: 'https://media.zooplus.com/bilder/' + x[x.find('.')-1] + '/140/'+ x\n",
    "\n",
    "img_df['img_url'] = img_df['IMG_NAME'].apply(name_to_url_lambda)"
   ]
  },
  {
   "cell_type": "code",
   "execution_count": 151,
   "metadata": {},
   "outputs": [
    {
     "data": {
      "text/plain": [
       "[3187, 276087, 576075, 174338, 11429, 431494, 7786, 145745, 370544, 514134]"
      ]
     },
     "execution_count": 151,
     "metadata": {},
     "output_type": "execute_result"
    }
   ],
   "source": [
    "# use the model that we have traine above to generate recomendations\n",
    "recommendations_df , recommended_art_c_prod_numbers = rec_items(221, product_train, user_vecs, item_vecs, customers_arr, products_arr, item_lookup,\n",
    "                       num_items = 10)\n",
    "recommended_art_c_prod_numbers"
   ]
  },
  {
   "cell_type": "markdown",
   "metadata": {},
   "source": [
    "# ----- This seciton uses factorization obtained with the deprecated API-----\n",
    "## Dsiplay the items that User has bougth"
   ]
  },
  {
   "cell_type": "code",
   "execution_count": 56,
   "metadata": {},
   "outputs": [],
   "source": [
    "## DEFINE USER_ID\n",
    "user_id = 10823\n",
    "\n",
    "## get user items\n",
    "user_bought_items = raw_df[raw_df['CUS_N_KEY_CUSTOMER'] == user_id]['ART_C_PROD_NUMBER'].unique()\n",
    "\n",
    "## get recommendations \n",
    "recommendations_df , recommended_art_c_prod_numbers = rec_items(user_id, product_train, user_vecs, item_vecs, customers_arr, products_arr, item_lookup,\n",
    "                       num_items = 15)"
   ]
  },
  {
   "cell_type": "code",
   "execution_count": 145,
   "metadata": {
    "scrolled": false
   },
   "outputs": [
    {
     "data": {
      "text/html": [
       "<font size=5>User Items</font>"
      ],
      "text/plain": [
       "<IPython.core.display.HTML object>"
      ]
     },
     "metadata": {},
     "output_type": "display_data"
    },
    {
     "data": {
      "text/html": [
       "<img style='width: 160px; margin: 0px;               float: left; border: 1px solid black;' src='https://media.zooplus.com/bilder/7/140/599072_corwex_promo_ente_7.jpg' /><img style='width: 160px; margin: 0px;               float: left; border: 1px solid black;' src='https://media.zooplus.com/bilder/5/140/68024_pla_puppy_pink_s_hs_01_5.jpg' /><img style='width: 160px; margin: 0px;               float: left; border: 1px solid black;' src='https://media.zooplus.com/bilder/1/140/576715_little_wolf_of_wilderness_junior_welpenpaket_07_16_copy_1.jpg' /><img style='width: 160px; margin: 0px;               float: left; border: 1px solid black;' src='https://media.zooplus.com/bilder/9/140/65428_pla_kauknochen_pferd_9.jpg' /><img style='width: 160px; margin: 0px;               float: left; border: 1px solid black;' src='https://media.zooplus.com/bilder/0/140/_pla_terracanis_welpen_rind_400g_0.jpg' /><img style='width: 160px; margin: 0px;               float: left; border: 1px solid black;' src='https://media.zooplus.com/bilder/9/140/catz_finefood_6_x_400g__9.jpg' /><img style='width: 160px; margin: 0px;               float: left; border: 1px solid black;' src='https://media.zooplus.com/bilder/4/140/67609_pla_feliway_classic_start_set_hs_01_4.jpg' /><img style='width: 160px; margin: 0px;               float: left; border: 1px solid black;' src='https://media.zooplus.com/bilder/3/140/597294_10_2_gratis_12_x_100_g_animonda_integra_protect_adult_3.jpg' /><img style='width: 160px; margin: 0px;               float: left; border: 1px solid black;' src='https://media.zooplus.com/bilder/1/140/64152_pla_rinti_gold_mp_12_x_185_g_ringpull_dose___huhnstueckchen_6_1.jpg' /><img style='width: 160px; margin: 0px;               float: left; border: 1px solid black;' src='https://media.zooplus.com/bilder/4/140/472321__wow_trockenfutter_jetzttesten_30082017_4.jpg' /><img style='width: 160px; margin: 0px;               float: left; border: 1px solid black;' src='https://media.zooplus.com/bilder/2/140/619304_2.jpg' /><img style='width: 160px; margin: 0px;               float: left; border: 1px solid black;' src='https://media.zooplus.com/bilder/3/140/30591__PLA_rgb_Miamor_Cat_Confect_Mini_Sticks_Huhn_Ente_50g_3.jpg' /><img style='width: 160px; margin: 0px;               float: left; border: 1px solid black;' src='https://media.zooplus.com/bilder/2/140/573898_littlewolfofwilderness_5_1gratis_6x400g_2.jpg' /><img style='width: 160px; margin: 0px;               float: left; border: 1px solid black;' src='https://media.zooplus.com/bilder/4/140/515248_5_1_gratis_6_x_200_g_o_canis_for_cats_copy_4.jpg' /><img style='width: 160px; margin: 0px;               float: left; border: 1px solid black;' src='https://media.zooplus.com/bilder/1/140/_pla_delibest_light_pferdefleisch_200g_1.jpg' /><img style='width: 160px; margin: 0px;               float: left; border: 1px solid black;' src='https://media.zooplus.com/bilder/1/140/wolf_nass_6x800g_transpaerent_pyramide_jetzt_testen_1.jpg' /><img style='width: 160px; margin: 0px;               float: left; border: 1px solid black;' src='https://media.zooplus.com/bilder/1/140/wow_kaninchenohren_web_1.jpg' /><img style='width: 160px; margin: 0px;               float: left; border: 1px solid black;' src='https://media.zooplus.com/bilder/4/140/199688_rocco_naturohren_4.jpg' /><img style='width: 160px; margin: 0px;               float: left; border: 1px solid black;' src='https://media.zooplus.com/bilder/4/140/13857_pla_trixie_zeckenzange_hs_01_4.jpg' /><img style='width: 160px; margin: 0px;               float: left; border: 1px solid black;' src='https://media.zooplus.com/bilder/4/140/wow_classic_greenfield_400g_1000x1000_4.jpg' /><img style='width: 160px; margin: 0px;               float: left; border: 1px solid black;' src='https://media.zooplus.com/bilder/7/140/492023_kong_oktopus_7.jpg' /><img style='width: 160px; margin: 0px;               float: left; border: 1px solid black;' src='https://media.zooplus.com/bilder/4/140/199737_rocco_doerrfleisch_4.jpg' /><img style='width: 160px; margin: 0px;               float: left; border: 1px solid black;' src='https://media.zooplus.com/bilder/6/140/5_1_6x400g_green_fields_6.jpg' /><img style='width: 160px; margin: 0px;               float: left; border: 1px solid black;' src='https://media.zooplus.com/bilder/0/140/71964_pla_animondaintergraprotect_katze_sensitive_1200g_0.jpg' /><img style='width: 160px; margin: 0px;               float: left; border: 1px solid black;' src='https://media.zooplus.com/bilder/3/140/71955_pla_animondaintergraprotect_sensitive_huhnpur_100g_3.jpg' /><img style='width: 160px; margin: 0px;               float: left; border: 1px solid black;' src='https://media.zooplus.com/bilder/1/140/178346_tetra_8in1_kauringe__1.jpg' /><img style='width: 160px; margin: 0px;               float: left; border: 1px solid black;' src='https://media.zooplus.com/bilder/7/140/1plus1_gratis_oben_unten_1000x1000_copy_7.jpg' /><img style='width: 160px; margin: 0px;               float: left; border: 1px solid black;' src='https://media.zooplus.com/bilder/4/140/633109_lily_s_kitchen_adult_cat_19_x_85g_200_g_lily_s_kitchen_complete_trockenfutter_mit_huhn_gratis__4.jpg' /><img style='width: 160px; margin: 0px;               float: left; border: 1px solid black;' src='https://media.zooplus.com/bilder/3/140/366927_lilyskitchen12x400_3.jpg' /><img style='width: 160px; margin: 0px;               float: left; border: 1px solid black;' src='https://media.zooplus.com/bilder/0/140/378533_barkoo_schweineknoch_0.jpg' /><img style='width: 160px; margin: 0px;               float: left; border: 1px solid black;' src='https://media.zooplus.com/bilder/9/140/74398_savic_katzentoilette_oscar_cold_grey_9.jpg' /><img style='width: 160px; margin: 0px;               float: left; border: 1px solid black;' src='https://media.zooplus.com/bilder/4/140/199737_rocco_doerrfleisch_4.jpg' /><img style='width: 160px; margin: 0px;               float: left; border: 1px solid black;' src='https://media.zooplus.com/bilder/0/140/la_pla_royalcanin_adult_per_0.jpg' /><img style='width: 160px; margin: 0px;               float: left; border: 1px solid black;' src='https://media.zooplus.com/bilder/4/140/1403_federwedel_la59841_02_2014_fg_dsc3702_4.jpg' /><img style='width: 160px; margin: 0px;               float: left; border: 1px solid black;' src='https://media.zooplus.com/bilder/5/140/57305_PLA_Barkoo_Kauschuh_6_x_12_cm_90_g_5.jpg' /><img style='width: 160px; margin: 0px;               float: left; border: 1px solid black;' src='https://media.zooplus.com/bilder/1/140/13777_karlie_kratzbaum_spielzeug_1.jpg' /><img style='width: 160px; margin: 0px;               float: left; border: 1px solid black;' src='https://media.zooplus.com/bilder/5/140/73911_pla_lily_skitchen_multipack_adultcat_8x85g_5.jpg' /><img style='width: 160px; margin: 0px;               float: left; border: 1px solid black;' src='https://media.zooplus.com/bilder/9/140/wow_hirschohren_web_9.jpg' /><img style='width: 160px; margin: 0px;               float: left; border: 1px solid black;' src='https://media.zooplus.com/bilder/8/140/mai_mix_22_gedreht_8.jpg' /><img style='width: 160px; margin: 0px;               float: left; border: 1px solid black;' src='https://media.zooplus.com/bilder/7/140/313523_kumar_hundebar_inklusive_2_edelstahln_pfe_01_dsc5827_7.jpg' /><img style='width: 160px; margin: 0px;               float: left; border: 1px solid black;' src='https://media.zooplus.com/bilder/0/140/331070_katzenspielzeug_maus_mit_katzenminze_und_stimme_06_2013_dsc0500_0.jpg' /><img style='width: 160px; margin: 0px;               float: left; border: 1px solid black;' src='https://media.zooplus.com/bilder/5/140/35150_pla_yumeez_lamm_5.jpg' /><img style='width: 160px; margin: 0px;               float: left; border: 1px solid black;' src='https://media.zooplus.com/bilder/0/140/371933_sparpake_herrmannsbio_men__08_2013_0.jpg' /><img style='width: 160px; margin: 0px;               float: left; border: 1px solid black;' src='https://media.zooplus.com/bilder/7/140/1_44154_pla_tigeria_sticklettis_ente_50_g_7.jpg' /><img style='width: 160px; margin: 0px;               float: left; border: 1px solid black;' src='https://media.zooplus.com/bilder/4/140/70135_pla_catz_finefood_purrrr_multipacki_4.jpg' /><img style='width: 160px; margin: 0px;               float: left; border: 1px solid black;' src='https://media.zooplus.com/bilder/2/140/334444_massage_schweinchen_g01_dsc0180_2.jpg' /><img style='width: 160px; margin: 0px;               float: left; border: 1px solid black;' src='https://media.zooplus.com/bilder/2/140/434035_katzenspielzeug_jumping_stars_2.jpg' /><img style='width: 160px; margin: 0px;               float: left; border: 1px solid black;' src='https://media.zooplus.com/bilder/1/140/77217_pla_delights_190g_rind_35stk_1.jpg' />"
      ],
      "text/plain": [
       "<IPython.core.display.HTML object>"
      ]
     },
     "metadata": {},
     "output_type": "display_data"
    }
   ],
   "source": [
    "thumb_html = \"<img style='width: 160px; margin: 0px; \\\n",
    "              float: left; border: 1px solid black;' src='{}' />\"\n",
    "images = ''\n",
    "display(HTML('<font size=5>'+'User Items'+'</font>'))\n",
    "\n",
    "for code in user_bought_items:\n",
    "    try:\n",
    "        img_url = img_df[img_df['PS_SHOP_IDENTIFIER'] == code]['img_url'].iloc[0]\n",
    "    except:\n",
    "        img_url = ''\n",
    "    images += thumb_html.format(img_url)\n",
    "    # print(img_url)\n",
    "\n",
    "display(HTML(images))"
   ]
  },
  {
   "cell_type": "markdown",
   "metadata": {},
   "source": [
    "## Display Recos for the user"
   ]
  },
  {
   "cell_type": "code",
   "execution_count": 146,
   "metadata": {
    "scrolled": false
   },
   "outputs": [
    {
     "data": {
      "text/html": [
       "<font size=5>Recommended</font>"
      ],
      "text/plain": [
       "<IPython.core.display.HTML object>"
      ]
     },
     "metadata": {},
     "output_type": "display_data"
    },
    {
     "data": {
      "text/html": [
       "<img style='width: 160px; margin: 0px;               float: left; border: 1px solid black;' src='https://media.zooplus.com/bilder/2/140/felix_44x_pack_2.jpg' /><img style='width: 160px; margin: 0px;               float: left; border: 1px solid black;' src='https://media.zooplus.com/bilder/4/140/552740_wolf_of_wilderness_wild_hills_ente_zum_probierpreis_jetzt_testen_copy_4.jpg' /><img style='width: 160px; margin: 0px;               float: left; border: 1px solid black;' src='https://media.zooplus.com/bilder/3/140/prozentzeichen_400x400_copy_3.jpg' /><img style='width: 160px; margin: 0px;               float: left; border: 1px solid black;' src='https://media.zooplus.com/bilder/0/140/65186_pla_wolf_of_wilderness_trockenfutter_wild_hills_12kg_0.jpg' /><img style='width: 160px; margin: 0px;               float: left; border: 1px solid black;' src='https://media.zooplus.com/bilder/7/140/1plus1_gratis_oben_unten_1000x1000_copy_7.jpg' /><img style='width: 160px; margin: 0px;               float: left; border: 1px solid black;' src='https://media.zooplus.com/bilder/6/140/20342_pla_catsbest_original_5l_6.jpg' /><img style='width: 160px; margin: 0px;               float: left; border: 1px solid black;' src='https://media.zooplus.com/bilder/8/140/577649_8.jpg' /><img style='width: 160px; margin: 0px;               float: left; border: 1px solid black;' src='https://media.zooplus.com/bilder/3/140/617649_1_1_gratis_2_x_400_g_rocco_nassnahrung_copy_3.jpg' /><img style='width: 160px; margin: 0px;               float: left; border: 1px solid black;' src='https://media.zooplus.com/bilder/3/140/1_471692_rinti_3.jpg' /><img style='width: 160px; margin: 0px;               float: left; border: 1px solid black;' src='https://media.zooplus.com/bilder/3/140/2plus1_gratis_oben_unten_1000x1000_edited_1_3.jpg' /><img style='width: 160px; margin: 0px;               float: left; border: 1px solid black;' src='https://media.zooplus.com/bilder/0/140/400g_purebeef_1000x1000_0.jpg' /><img style='width: 160px; margin: 0px;               float: left; border: 1px solid black;' src='https://media.zooplus.com/bilder/0/140/595539_barkoo_testen_barkoo_dental_snacks_und_mini_bones_f_r_0_99_copy_0.jpg' /><img style='width: 160px; margin: 0px;               float: left; border: 1px solid black;' src='https://media.zooplus.com/bilder/0/140/617649_1_1_gratis_2_x_400_g_rocco_nassnahrung_copy_0.jpg' /><img style='width: 160px; margin: 0px;               float: left; border: 1px solid black;' src='https://media.zooplus.com/bilder/9/140/50_rabatt_kleinpackung_concept_for_life_xlarge_9.jpg' /><img style='width: 160px; margin: 0px;               float: left; border: 1px solid black;' src='https://media.zooplus.com/bilder/0/140/all_cats_jetzt_testen_0.jpg' />"
      ],
      "text/plain": [
       "<IPython.core.display.HTML object>"
      ]
     },
     "metadata": {},
     "output_type": "display_data"
    }
   ],
   "source": [
    "thumb_html = \"<img style='width: 160px; margin: 0px; \\\n",
    "              float: left; border: 1px solid black;' src='{}' />\"\n",
    "images = ''\n",
    "display(HTML('<font size=5>'+'Recommended'+'</font>'))\n",
    "\n",
    "for code in recommended_art_c_prod_numbers:\n",
    "    try:\n",
    "        img_url = img_df[img_df['PS_SHOP_IDENTIFIER'] == code]['img_url'].iloc[0]\n",
    "    except:\n",
    "        img_url = ''\n",
    "    images += thumb_html.format(img_url)\n",
    "    #print(img_url)\n",
    "\n",
    "display(HTML(images))"
   ]
  },
  {
   "cell_type": "code",
   "execution_count": null,
   "metadata": {},
   "outputs": [],
   "source": []
  },
  {
   "cell_type": "markdown",
   "metadata": {},
   "source": [
    "# Testing multithreaded approach\n",
    "> the Implicit matrix factorization is an embarrassingly parallel task and could be parallelized to multiple CPU cores as well as to GPU. The model that is used below was trained on CPU cores without the GPU usage"
   ]
  },
  {
   "cell_type": "markdown",
   "metadata": {},
   "source": [
    "## Results are presented in the following way:\n",
    "1. We will start with some random selected user. Display the history of his/her purchases and display the correspoinding recommendations for this user.\n",
    "2. We will select cat specific user and display the history of his/her purchases and display the correspoinding recommendations for this user.\n",
    "3. We will select Dog and Cat mixed user and display the history of his/her purchases and display the correspoinding recommendations for this user.\n",
    "4. We will select Dog specific user with a slight bias towards cat purchases and display the history of his/her purchases and display the correspoinding recommendations for this user.\n",
    "5. We will select Dpg specific user and display the history of his/her purchases and display the correspoinding recommendations for this user."
   ]
  },
  {
   "cell_type": "code",
   "execution_count": 141,
   "metadata": {},
   "outputs": [
    {
     "name": "stdout",
     "output_type": "stream",
     "text": [
      "58705\n"
     ]
    },
    {
     "data": {
      "text/html": [
       "<font size=5>User Items</font>"
      ],
      "text/plain": [
       "<IPython.core.display.HTML object>"
      ]
     },
     "metadata": {},
     "output_type": "display_data"
    },
    {
     "data": {
      "text/html": [
       "<img style='width: 160px; margin: 0px;               float: left; border: 1px solid black;' src='https://media.zooplus.com/bilder/7/140/599072_corwex_promo_ente_7.jpg' /><img style='width: 160px; margin: 0px;               float: left; border: 1px solid black;' src='https://media.zooplus.com/bilder/5/140/68024_pla_puppy_pink_s_hs_01_5.jpg' /><img style='width: 160px; margin: 0px;               float: left; border: 1px solid black;' src='https://media.zooplus.com/bilder/1/140/576715_little_wolf_of_wilderness_junior_welpenpaket_07_16_copy_1.jpg' /><img style='width: 160px; margin: 0px;               float: left; border: 1px solid black;' src='https://media.zooplus.com/bilder/9/140/65428_pla_kauknochen_pferd_9.jpg' /><img style='width: 160px; margin: 0px;               float: left; border: 1px solid black;' src='https://media.zooplus.com/bilder/0/140/_pla_terracanis_welpen_rind_400g_0.jpg' /><img style='width: 160px; margin: 0px;               float: left; border: 1px solid black;' src='https://media.zooplus.com/bilder/9/140/catz_finefood_6_x_400g__9.jpg' /><img style='width: 160px; margin: 0px;               float: left; border: 1px solid black;' src='https://media.zooplus.com/bilder/4/140/67609_pla_feliway_classic_start_set_hs_01_4.jpg' /><img style='width: 160px; margin: 0px;               float: left; border: 1px solid black;' src='https://media.zooplus.com/bilder/3/140/597294_10_2_gratis_12_x_100_g_animonda_integra_protect_adult_3.jpg' /><img style='width: 160px; margin: 0px;               float: left; border: 1px solid black;' src='https://media.zooplus.com/bilder/1/140/64152_pla_rinti_gold_mp_12_x_185_g_ringpull_dose___huhnstueckchen_6_1.jpg' /><img style='width: 160px; margin: 0px;               float: left; border: 1px solid black;' src='https://media.zooplus.com/bilder/4/140/472321__wow_trockenfutter_jetzttesten_30082017_4.jpg' /><img style='width: 160px; margin: 0px;               float: left; border: 1px solid black;' src='https://media.zooplus.com/bilder/2/140/619304_2.jpg' /><img style='width: 160px; margin: 0px;               float: left; border: 1px solid black;' src='https://media.zooplus.com/bilder/3/140/30591__PLA_rgb_Miamor_Cat_Confect_Mini_Sticks_Huhn_Ente_50g_3.jpg' /><img style='width: 160px; margin: 0px;               float: left; border: 1px solid black;' src='https://media.zooplus.com/bilder/2/140/573898_littlewolfofwilderness_5_1gratis_6x400g_2.jpg' /><img style='width: 160px; margin: 0px;               float: left; border: 1px solid black;' src='https://media.zooplus.com/bilder/4/140/515248_5_1_gratis_6_x_200_g_o_canis_for_cats_copy_4.jpg' /><img style='width: 160px; margin: 0px;               float: left; border: 1px solid black;' src='https://media.zooplus.com/bilder/1/140/_pla_delibest_light_pferdefleisch_200g_1.jpg' /><img style='width: 160px; margin: 0px;               float: left; border: 1px solid black;' src='https://media.zooplus.com/bilder/1/140/wolf_nass_6x800g_transpaerent_pyramide_jetzt_testen_1.jpg' /><img style='width: 160px; margin: 0px;               float: left; border: 1px solid black;' src='https://media.zooplus.com/bilder/1/140/wow_kaninchenohren_web_1.jpg' /><img style='width: 160px; margin: 0px;               float: left; border: 1px solid black;' src='https://media.zooplus.com/bilder/4/140/199688_rocco_naturohren_4.jpg' /><img style='width: 160px; margin: 0px;               float: left; border: 1px solid black;' src='https://media.zooplus.com/bilder/4/140/13857_pla_trixie_zeckenzange_hs_01_4.jpg' /><img style='width: 160px; margin: 0px;               float: left; border: 1px solid black;' src='https://media.zooplus.com/bilder/4/140/wow_classic_greenfield_400g_1000x1000_4.jpg' /><img style='width: 160px; margin: 0px;               float: left; border: 1px solid black;' src='https://media.zooplus.com/bilder/7/140/492023_kong_oktopus_7.jpg' /><img style='width: 160px; margin: 0px;               float: left; border: 1px solid black;' src='https://media.zooplus.com/bilder/4/140/199737_rocco_doerrfleisch_4.jpg' /><img style='width: 160px; margin: 0px;               float: left; border: 1px solid black;' src='https://media.zooplus.com/bilder/6/140/5_1_6x400g_green_fields_6.jpg' /><img style='width: 160px; margin: 0px;               float: left; border: 1px solid black;' src='https://media.zooplus.com/bilder/0/140/71964_pla_animondaintergraprotect_katze_sensitive_1200g_0.jpg' /><img style='width: 160px; margin: 0px;               float: left; border: 1px solid black;' src='https://media.zooplus.com/bilder/3/140/71955_pla_animondaintergraprotect_sensitive_huhnpur_100g_3.jpg' /><img style='width: 160px; margin: 0px;               float: left; border: 1px solid black;' src='https://media.zooplus.com/bilder/1/140/178346_tetra_8in1_kauringe__1.jpg' /><img style='width: 160px; margin: 0px;               float: left; border: 1px solid black;' src='https://media.zooplus.com/bilder/7/140/1plus1_gratis_oben_unten_1000x1000_copy_7.jpg' /><img style='width: 160px; margin: 0px;               float: left; border: 1px solid black;' src='https://media.zooplus.com/bilder/4/140/633109_lily_s_kitchen_adult_cat_19_x_85g_200_g_lily_s_kitchen_complete_trockenfutter_mit_huhn_gratis__4.jpg' /><img style='width: 160px; margin: 0px;               float: left; border: 1px solid black;' src='https://media.zooplus.com/bilder/3/140/366927_lilyskitchen12x400_3.jpg' /><img style='width: 160px; margin: 0px;               float: left; border: 1px solid black;' src='https://media.zooplus.com/bilder/0/140/378533_barkoo_schweineknoch_0.jpg' /><img style='width: 160px; margin: 0px;               float: left; border: 1px solid black;' src='https://media.zooplus.com/bilder/9/140/74398_savic_katzentoilette_oscar_cold_grey_9.jpg' /><img style='width: 160px; margin: 0px;               float: left; border: 1px solid black;' src='https://media.zooplus.com/bilder/4/140/199737_rocco_doerrfleisch_4.jpg' /><img style='width: 160px; margin: 0px;               float: left; border: 1px solid black;' src='https://media.zooplus.com/bilder/0/140/la_pla_royalcanin_adult_per_0.jpg' /><img style='width: 160px; margin: 0px;               float: left; border: 1px solid black;' src='https://media.zooplus.com/bilder/4/140/1403_federwedel_la59841_02_2014_fg_dsc3702_4.jpg' /><img style='width: 160px; margin: 0px;               float: left; border: 1px solid black;' src='https://media.zooplus.com/bilder/5/140/57305_PLA_Barkoo_Kauschuh_6_x_12_cm_90_g_5.jpg' /><img style='width: 160px; margin: 0px;               float: left; border: 1px solid black;' src='https://media.zooplus.com/bilder/1/140/13777_karlie_kratzbaum_spielzeug_1.jpg' /><img style='width: 160px; margin: 0px;               float: left; border: 1px solid black;' src='https://media.zooplus.com/bilder/5/140/73911_pla_lily_skitchen_multipack_adultcat_8x85g_5.jpg' /><img style='width: 160px; margin: 0px;               float: left; border: 1px solid black;' src='https://media.zooplus.com/bilder/9/140/wow_hirschohren_web_9.jpg' /><img style='width: 160px; margin: 0px;               float: left; border: 1px solid black;' src='https://media.zooplus.com/bilder/8/140/mai_mix_22_gedreht_8.jpg' /><img style='width: 160px; margin: 0px;               float: left; border: 1px solid black;' src='https://media.zooplus.com/bilder/7/140/313523_kumar_hundebar_inklusive_2_edelstahln_pfe_01_dsc5827_7.jpg' /><img style='width: 160px; margin: 0px;               float: left; border: 1px solid black;' src='https://media.zooplus.com/bilder/0/140/331070_katzenspielzeug_maus_mit_katzenminze_und_stimme_06_2013_dsc0500_0.jpg' /><img style='width: 160px; margin: 0px;               float: left; border: 1px solid black;' src='https://media.zooplus.com/bilder/5/140/35150_pla_yumeez_lamm_5.jpg' /><img style='width: 160px; margin: 0px;               float: left; border: 1px solid black;' src='https://media.zooplus.com/bilder/0/140/371933_sparpake_herrmannsbio_men__08_2013_0.jpg' /><img style='width: 160px; margin: 0px;               float: left; border: 1px solid black;' src='https://media.zooplus.com/bilder/7/140/1_44154_pla_tigeria_sticklettis_ente_50_g_7.jpg' /><img style='width: 160px; margin: 0px;               float: left; border: 1px solid black;' src='https://media.zooplus.com/bilder/4/140/70135_pla_catz_finefood_purrrr_multipacki_4.jpg' /><img style='width: 160px; margin: 0px;               float: left; border: 1px solid black;' src='https://media.zooplus.com/bilder/2/140/334444_massage_schweinchen_g01_dsc0180_2.jpg' /><img style='width: 160px; margin: 0px;               float: left; border: 1px solid black;' src='https://media.zooplus.com/bilder/2/140/434035_katzenspielzeug_jumping_stars_2.jpg' /><img style='width: 160px; margin: 0px;               float: left; border: 1px solid black;' src='https://media.zooplus.com/bilder/1/140/77217_pla_delights_190g_rind_35stk_1.jpg' />"
      ],
      "text/plain": [
       "<IPython.core.display.HTML object>"
      ]
     },
     "metadata": {},
     "output_type": "display_data"
    }
   ],
   "source": [
    "## DEFINE USER_ID\n",
    "#user_id = 2016\n",
    "print(customer_id)\n",
    "## get user items\n",
    "user_bought_items = raw_df[raw_df['CUS_N_KEY_CUSTOMER'] == customer_id]['ART_C_PROD_NUMBER'].unique()\n",
    "\n",
    "thumb_html = \"<img style='width: 160px; margin: 0px; \\\n",
    "              float: left; border: 1px solid black;' src='{}' />\"\n",
    "images = ''\n",
    "display(HTML('<font size=5>'+'User Items'+'</font>'))\n",
    "\n",
    "for code in user_bought_items:\n",
    "    try:\n",
    "        img_url = img_df[img_df['PS_SHOP_IDENTIFIER'] == code]['img_url'].iloc[0]\n",
    "    except:\n",
    "        img_url = ''\n",
    "    images += thumb_html.format(img_url)\n",
    "   # print(img_url)\n",
    "\n",
    "display(HTML(images))"
   ]
  },
  {
   "cell_type": "markdown",
   "metadata": {},
   "source": [
    "## Display the recommended items"
   ]
  },
  {
   "cell_type": "code",
   "execution_count": 142,
   "metadata": {},
   "outputs": [
    {
     "data": {
      "text/html": [
       "<font size=5>Recommended</font>"
      ],
      "text/plain": [
       "<IPython.core.display.HTML object>"
      ]
     },
     "metadata": {},
     "output_type": "display_data"
    },
    {
     "data": {
      "text/html": [
       "<img style='width: 160px; margin: 0px;               float: left; border: 1px solid black;' src='https://media.zooplus.com/bilder/6/140/20342_pla_catsbest_original_5l_6.jpg' /><img style='width: 160px; margin: 0px;               float: left; border: 1px solid black;' src='https://media.zooplus.com/bilder/1/140/64616_pla_vitakraft_catstic_1.jpg' /><img style='width: 160px; margin: 0px;               float: left; border: 1px solid black;' src='https://media.zooplus.com/bilder/5/140/27936_pla_dokas_kaninchengetrocknet_5.jpg' /><img style='width: 160px; margin: 0px;               float: left; border: 1px solid black;' src='https://media.zooplus.com/bilder/5/140/57352_PLA_Catz_Finefood_Gefluegel_200g_5.jpg' /><img style='width: 160px; margin: 0px;               float: left; border: 1px solid black;' src='https://media.zooplus.com/bilder/8/140/1_32418_rocco_chings_h_hnerbrust_in_streifen_250_g_8.jpg' /><img style='width: 160px; margin: 0px;               float: left; border: 1px solid black;' src='https://media.zooplus.com/bilder/6/140/48617_pla_catsbest_smallpellets_10kg_6.jpg' /><img style='width: 160px; margin: 0px;               float: left; border: 1px solid black;' src='https://media.zooplus.com/bilder/0/140/82610_pla_animonda_adult_mitgeflu_0.jpg' /><img style='width: 160px; margin: 0px;               float: left; border: 1px solid black;' src='https://media.zooplus.com/bilder/4/140/26911_pla_dokas_huehnerbrust_fisch_4.jpg' /><img style='width: 160px; margin: 0px;               float: left; border: 1px solid black;' src='https://media.zooplus.com/bilder/5/140/_pla_leonardo_huhn_85g_5.jpg' /><img style='width: 160px; margin: 0px;               float: left; border: 1px solid black;' src='https://media.zooplus.com/bilder/5/140/55912_PLA_Rinti_Extra_Mini_Bits_100_g___Ente_mit_Ananas___Kiwi_5.jpg' />"
      ],
      "text/plain": [
       "<IPython.core.display.HTML object>"
      ]
     },
     "metadata": {},
     "output_type": "display_data"
    }
   ],
   "source": [
    "thumb_html = \"<img style='width: 160px; margin: 0px; \\\n",
    "              float: left; border: 1px solid black;' src='{}' />\"\n",
    "images = ''\n",
    "display(HTML('<font size=5>'+'Recommended'+'</font>'))\n",
    "\n",
    "for code in fast_recommended:\n",
    "    try:\n",
    "        img_url = img_df[img_df['PS_SHOP_IDENTIFIER'] == code]['img_url'].iloc[0]\n",
    "    except:\n",
    "        img_url = ''\n",
    "    images += thumb_html.format(img_url)\n",
    "   # print(img_url)\n",
    "\n",
    "display(HTML(images))"
   ]
  },
  {
   "cell_type": "markdown",
   "metadata": {},
   "source": [
    "> One can see that our procedure has managed to capture tha fact that user was bying items for cat and for dog! The recommendation list contains both. "
   ]
  },
  {
   "cell_type": "markdown",
   "metadata": {},
   "source": [
    "### Let us try cat specific user"
   ]
  },
  {
   "cell_type": "code",
   "execution_count": 169,
   "metadata": {},
   "outputs": [
    {
     "name": "stdout",
     "output_type": "stream",
     "text": [
      "75848\n"
     ]
    },
    {
     "data": {
      "text/html": [
       "<font size=15>User Items</font>"
      ],
      "text/plain": [
       "<IPython.core.display.HTML object>"
      ]
     },
     "metadata": {},
     "output_type": "display_data"
    },
    {
     "data": {
      "text/html": [
       "<img style='width: 160px; margin: 0px;               float: left; border: 1px solid black;' src='https://media.zooplus.com/bilder/7/140/61709_pla_sheba_delicato_gelee_variation_8_x_85_g_7.jpg' /><img style='width: 160px; margin: 0px;               float: left; border: 1px solid black;' src='https://media.zooplus.com/bilder/4/140/68238_pla_miamor_haeppchen__4.jpg' /><img style='width: 160px; margin: 0px;               float: left; border: 1px solid black;' src='https://media.zooplus.com/bilder/2/140/402702_miamor_ragout_royale_mit_lachs_in_joghurtcream_2.jpg' /><img style='width: 160px; margin: 0px;               float: left; border: 1px solid black;' src='https://media.zooplus.com/bilder/8/140/35464_felix_so_gut_24x100_n_8.jpg' /><img style='width: 160px; margin: 0px;               float: left; border: 1px solid black;' src='https://media.zooplus.com/bilder/9/140/76804_pla_animondaadult_multipack_sauce_12x100g_9.jpg' /><img style='width: 160px; margin: 0px;               float: left; border: 1px solid black;' src='https://media.zooplus.com/bilder/3/140/71102_pla_biokat_sdiamondcare_freshkatzenstreu_3.jpg' /><img style='width: 160px; margin: 0px;               float: left; border: 1px solid black;' src='https://media.zooplus.com/bilder/9/140/63025_purina_gourmet_gold_gravycollection_chunkscravy_12x85g_9.jpg' /><img style='width: 160px; margin: 0px;               float: left; border: 1px solid black;' src='https://media.zooplus.com/bilder/6/140/71352_pla_fleecedecke_pawty_fg_8058_6.jpg' /><img style='width: 160px; margin: 0px;               float: left; border: 1px solid black;' src='https://media.zooplus.com/bilder/2/140/569602_2.jpg' /><img style='width: 160px; margin: 0px;               float: left; border: 1px solid black;' src='https://media.zooplus.com/bilder/2/140/219231_felixsogu_12doleflei_2.jpg' /><img style='width: 160px; margin: 0px;               float: left; border: 1px solid black;' src='https://media.zooplus.com/bilder/7/140/605294_6_2_gratis_sheba_variet_ten_multipack_sch_lchen_8_x_85_g_7.jpg' /><img style='width: 160px; margin: 0px;               float: left; border: 1px solid black;' src='https://media.zooplus.com/bilder/4/140/7511_pla_miamor_mm_gefluegel_schinken_4.jpg' /><img style='width: 160px; margin: 0px;               float: left; border: 1px solid black;' src='https://media.zooplus.com/bilder/6/140/71052_pla_biokat_sdiamondcare_classickatzenstreu_6.jpg' /><img style='width: 160px; margin: 0px;               float: left; border: 1px solid black;' src='https://media.zooplus.com/bilder/2/140/77474_sheba_multipack_lover_12x85g_2.jpg' /><img style='width: 160px; margin: 0px;               float: left; border: 1px solid black;' src='https://media.zooplus.com/bilder/6/140/66008_pla_delikates_duo_mit_6.jpg' /><img style='width: 160px; margin: 0px;               float: left; border: 1px solid black;' src='https://media.zooplus.com/bilder/6/140/71060_pla_purinarone7_huhn_800g_6.jpg' /><img style='width: 160px; margin: 0px;               float: left; border: 1px solid black;' src='https://media.zooplus.com/bilder/2/140/24370_PLA_Felix_SGWEA_in_Gelee_Koestliche_Fischvielfalt_12_x_100g_2.jpg' /><img style='width: 160px; margin: 0px;               float: left; border: 1px solid black;' src='https://media.zooplus.com/bilder/1/140/556274_800_g_purina_one_zum_probierpreis__1.jpg' /><img style='width: 160px; margin: 0px;               float: left; border: 1px solid black;' src='https://media.zooplus.com/bilder/0/140/69860_pla_animonda_vf_schle_0.jpg' /><img style='width: 160px; margin: 0px;               float: left; border: 1px solid black;' src='https://media.zooplus.com/bilder/6/140/451643_6x400g_felix_alle_dosen_092014_6.jpg' /><img style='width: 160px; margin: 0px;               float: left; border: 1px solid black;' src='https://media.zooplus.com/bilder/3/140/32432_PLA_Felix_Sensations_in_Gelee_Fleischmix_12_x_100g_3.jpg' /><img style='width: 160px; margin: 0px;               float: left; border: 1px solid black;' src='https://media.zooplus.com/bilder/2/140/68965_pla_gourmetgold_raffiniertesragout_rind_85g_2.jpg' /><img style='width: 160px; margin: 0px;               float: left; border: 1px solid black;' src='https://media.zooplus.com/bilder/8/140/50345_pla_purina_gourmet_rindhuhntomaten_85g_8.jpg' /><img style='width: 160px; margin: 0px;               float: left; border: 1px solid black;' src='https://media.zooplus.com/bilder/8/140/70757_pla_sheba_classicsoup_huehnchenbrustfilets_8.jpg' /><img style='width: 160px; margin: 0px;               float: left; border: 1px solid black;' src='https://media.zooplus.com/bilder/3/140/46676_pla_perfectfit_8_seniorhuhn_3.jpg' /><img style='width: 160px; margin: 0px;               float: left; border: 1px solid black;' src='https://media.zooplus.com/bilder/6/140/567417_6.jpg' /><img style='width: 160px; margin: 0px;               float: left; border: 1px solid black;' src='https://media.zooplus.com/bilder/3/140/69844_pla_mystar_variety_10x90g_3.jpg' /><img style='width: 160px; margin: 0px;               float: left; border: 1px solid black;' src='https://media.zooplus.com/bilder/2/140/dre_sample_15g_0000000058851_0117_21814_00_web_large_path_2.jpg' /><img style='width: 160px; margin: 0px;               float: left; border: 1px solid black;' src='https://media.zooplus.com/bilder/8/140/73400_pla_biokats_diamondcaremulticatfresh_8l_8.jpg' /><img style='width: 160px; margin: 0px;               float: left; border: 1px solid black;' src='https://media.zooplus.com/bilder/6/140/59046_pla_miamor_sensibel_rindreis_6.jpg' /><img style='width: 160px; margin: 0px;               float: left; border: 1px solid black;' src='https://media.zooplus.com/bilder/1/140/605292_mp_sheba_schaelchen_48x85g_1.jpg' /><img style='width: 160px; margin: 0px;               float: left; border: 1px solid black;' src='https://media.zooplus.com/bilder/7/140/1_66982_animonda_milkiesselec_7.jpg' /><img style='width: 160px; margin: 0px;               float: left; border: 1px solid black;' src='https://media.zooplus.com/bilder/7/140/605354_sonder_sheba_schaelchen_96x85g_7.jpg' /><img style='width: 160px; margin: 0px;               float: left; border: 1px solid black;' src='https://media.zooplus.com/bilder/4/140/624654_4.jpg' /><img style='width: 160px; margin: 0px;               float: left; border: 1px solid black;' src='https://media.zooplus.com/bilder/5/140/ente_geflugel_sardine_and_forelle_4x85_g_a_la_carte_5.jpg' /><img style='width: 160px; margin: 0px;               float: left; border: 1px solid black;' src='https://media.zooplus.com/bilder/3/140/69859_pla_animonda_vf_grain_3.jpg' /><img style='width: 160px; margin: 0px;               float: left; border: 1px solid black;' src='https://media.zooplus.com/bilder/6/140/62496_PLA_Smilla_Multi_Vitamin_Paste_200_g_6.jpg' /><img style='width: 160px; margin: 0px;               float: left; border: 1px solid black;' src='https://media.zooplus.com/bilder/6/140/598798_6.jpg' /><img style='width: 160px; margin: 0px;               float: left; border: 1px solid black;' src='https://media.zooplus.com/bilder/4/140/73763_pla_biokats_active_pearls_700ml_4.jpg' /><img style='width: 160px; margin: 0px;               float: left; border: 1px solid black;' src='https://media.zooplus.com/bilder/7/140/611638_1_kg_perfect_fit_trockenfutter_400_g_gratis__7.jpg' /><img style='width: 160px; margin: 0px;               float: left; border: 1px solid black;' src='https://media.zooplus.com/bilder/2/140/75189_pla_perfectfit_sample_50g_2.jpg' /><img style='width: 160px; margin: 0px;               float: left; border: 1px solid black;' src='https://media.zooplus.com/bilder/3/140/607272_3.jpg' /><img style='width: 160px; margin: 0px;               float: left; border: 1px solid black;' src='https://media.zooplus.com/bilder/6/140/22185_pla_tigerino_crystals_silikatstreu_classic_5l_6.jpg' /><img style='width: 160px; margin: 0px;               float: left; border: 1px solid black;' src='https://media.zooplus.com/bilder/2/140/id_10646_pla_beaphar_multivitaminpaste_taurin_2.jpg' /><img style='width: 160px; margin: 0px;               float: left; border: 1px solid black;' src='https://media.zooplus.com/bilder/6/140/442347_probierpaket_kattovit_gastro_6.jpg' /><img style='width: 160px; margin: 0px;               float: left; border: 1px solid black;' src='https://media.zooplus.com/bilder/7/140/7811_PLA_Animonda_vom_Feinsten_Senior_100_g_7.jpg' /><img style='width: 160px; margin: 0px;               float: left; border: 1px solid black;' src='https://media.zooplus.com/bilder/3/140/73026_pla_sheba_selectionsauce_12x85g_3.jpg' /><img style='width: 160px; margin: 0px;               float: left; border: 1px solid black;' src='https://media.zooplus.com/bilder/1/140/1_230350_animonda_vom_feinsten_multi_fleisch_4_1.jpg' /><img style='width: 160px; margin: 0px;               float: left; border: 1px solid black;' src='https://media.zooplus.com/bilder/2/140/66237_kattovit_gastro_2.jpg' /><img style='width: 160px; margin: 0px;               float: left; border: 1px solid black;' src='https://media.zooplus.com/bilder/0/140/63614_pla_royalcanin_instinctivein_sosse_0.jpg' /><img style='width: 160px; margin: 0px;               float: left; border: 1px solid black;' src='https://media.zooplus.com/bilder/2/140/60582_pla_royalcanin_intensebeauty_gelee_2.jpg' /><img style='width: 160px; margin: 0px;               float: left; border: 1px solid black;' src='https://media.zooplus.com/bilder/1/140/61224_pla_royalcanin_ageing12__1.jpg' /><img style='width: 160px; margin: 0px;               float: left; border: 1px solid black;' src='https://media.zooplus.com/bilder/8/140/61269_pla_royalcanin_intensebeauty_sosse_8.jpg' /><img style='width: 160px; margin: 0px;               float: left; border: 1px solid black;' src='https://media.zooplus.com/bilder/5/140/56963_PLA_Gourmet_Gold_mit_Huhn__Karotten_Zucchini_85g_5.jpg' /><img style='width: 160px; margin: 0px;               float: left; border: 1px solid black;' src='https://media.zooplus.com/bilder/0/140/9848_felix_haeppchen_in_gel_0.jpg' /><img style='width: 160px; margin: 0px;               float: left; border: 1px solid black;' src='https://media.zooplus.com/bilder/4/140/75259_pla_perfectfit_adult_huhntrockenbeutel_750g_4.jpg' /><img style='width: 160px; margin: 0px;               float: left; border: 1px solid black;' src='https://media.zooplus.com/bilder/7/140/588576_7.jpg' /><img style='width: 160px; margin: 0px;               float: left; border: 1px solid black;' src='https://media.zooplus.com/bilder/9/140/76486_pla_animonda_adult_rind_gans_apfel_100g_9.jpg' /><img style='width: 160px; margin: 0px;               float: left; border: 1px solid black;' src='https://media.zooplus.com/bilder/9/140/80671_pla_animonda_vomfeinsten_kastriertekatzen_putepur_100g_9.jpg' /><img style='width: 160px; margin: 0px;               float: left; border: 1px solid black;' src='https://media.zooplus.com/bilder/0/140/646293_0.jpg' /><img style='width: 160px; margin: 0px;               float: left; border: 1px solid black;' src='https://media.zooplus.com/bilder/1/140/72409_pla_perfectfit_sensitive1_truthahn_1.jpg' /><img style='width: 160px; margin: 0px;               float: left; border: 1px solid black;' src='https://media.zooplus.com/bilder/1/140/12_gratis_kuscheldecke_1.jpg' />"
      ],
      "text/plain": [
       "<IPython.core.display.HTML object>"
      ]
     },
     "metadata": {},
     "output_type": "display_data"
    },
    {
     "data": {
      "text/html": [
       "<font size=15>Recommended</font>"
      ],
      "text/plain": [
       "<IPython.core.display.HTML object>"
      ]
     },
     "metadata": {},
     "output_type": "display_data"
    },
    {
     "data": {
      "text/html": [
       "<img style='width: 160px; margin: 0px;               float: left; border: 1px solid black;' src='https://media.zooplus.com/bilder/0/140/66014_animondamilkesselecti_0.jpg' /><img style='width: 160px; margin: 0px;               float: left; border: 1px solid black;' src='https://media.zooplus.com/bilder/1/140/13912_miamor_jetzt_testen_probierpack_ragout_royale_kan_huhn_thun_12_x_100_g_1.jpg' /><img style='width: 160px; margin: 0px;               float: left; border: 1px solid black;' src='https://media.zooplus.com/bilder/6/140/69052_pla_nestle_gourmet_turkeyducklambtuna_4x85g_6.jpg' /><img style='width: 160px; margin: 0px;               float: left; border: 1px solid black;' src='https://media.zooplus.com/bilder/0/140/all_cats_jetzt_testen_0.jpg' /><img style='width: 160px; margin: 0px;               float: left; border: 1px solid black;' src='https://media.zooplus.com/bilder/6/140/567417_6.jpg' /><img style='width: 160px; margin: 0px;               float: left; border: 1px solid black;' src='https://media.zooplus.com/bilder/3/140/32220_nestle_gourment_huhn_24x85g_3.jpg' /><img style='width: 160px; margin: 0px;               float: left; border: 1px solid black;' src='https://media.zooplus.com/bilder/1/140/75288_pla_knuspertaschenmeeresfr_chte20_1.jpg' /><img style='width: 160px; margin: 0px;               float: left; border: 1px solid black;' src='https://media.zooplus.com/bilder/3/140/597424_3_x_60_g_felix_knabbermix_zum_sonderpreis__3.jpg' /><img style='width: 160px; margin: 0px;               float: left; border: 1px solid black;' src='https://media.zooplus.com/bilder/6/140/52416_pla_felix_knabbermix_original_6.jpg' /><img style='width: 160px; margin: 0px;               float: left; border: 1px solid black;' src='https://media.zooplus.com/bilder/3/140/50790_pla_megapack_zartehaeppchen_4x85g_3.jpg' />"
      ],
      "text/plain": [
       "<IPython.core.display.HTML object>"
      ]
     },
     "metadata": {},
     "output_type": "display_data"
    }
   ],
   "source": [
    "## DEFINE USER_ID\n",
    "#user_id = 2016\n",
    "print(customer_id)\n",
    "## get user items\n",
    "user_bought_items = raw_df[raw_df['CUS_N_KEY_CUSTOMER'] == customer_id]['ART_C_PROD_NUMBER'].unique()\n",
    "\n",
    "thumb_html = \"<img style='width: 160px; margin: 0px; \\\n",
    "              float: left; border: 1px solid black;' src='{}' />\"\n",
    "images = ''\n",
    "display(HTML('<font size=15>'+'User Items'+'</font>'))\n",
    "\n",
    "for code in user_bought_items:\n",
    "    try:\n",
    "        img_url = img_df[img_df['PS_SHOP_IDENTIFIER'] == code]['img_url'].iloc[0]\n",
    "    except:\n",
    "        img_url = ''\n",
    "    images += thumb_html.format(img_url)\n",
    "   # print(img_url)\n",
    "\n",
    "display(HTML(images))\n",
    "\n",
    "thumb_html = \"<img style='width: 160px; margin: 0px; \\\n",
    "              float: left; border: 1px solid black;' src='{}' />\"\n",
    "images = ''\n",
    "display(HTML('<font size=15>'+'Recommended'+'</font>'))\n",
    "\n",
    "for code in fast_recommended:\n",
    "    try:\n",
    "        img_url = img_df[img_df['PS_SHOP_IDENTIFIER'] == code]['img_url'].iloc[0]\n",
    "    except:\n",
    "        img_url = ''\n",
    "    images += thumb_html.format(img_url)\n",
    "   # print(img_url)\n",
    "\n",
    "display(HTML(images))"
   ]
  },
  {
   "cell_type": "markdown",
   "metadata": {},
   "source": [
    "> One can see that in this case the model has captured the fact that user is a cat-ony owner and reoomends only cat related products!"
   ]
  },
  {
   "cell_type": "markdown",
   "metadata": {},
   "source": [
    "### Let us try a primary dog and a bit of cat"
   ]
  },
  {
   "cell_type": "code",
   "execution_count": 204,
   "metadata": {},
   "outputs": [
    {
     "name": "stderr",
     "output_type": "stream",
     "text": [
      "100%|██████████| 10.0/10 [00:58<00:00,  5.07s/it, loss=0.027] \n"
     ]
    }
   ],
   "source": [
    "alpha = 15\n",
    "\n",
    "# changing deprecated \n",
    "# user_vecs, item_vecs = implicit.alternating_least_squares((product_train*alpha).astype('double'), \n",
    "#                                                           factors=20, \n",
    "#                                                           regularization = 0.1, \n",
    "#                                                          iterations = 50)\n",
    "model = implicit.als.AlternatingLeastSquares(factors=30, \n",
    "                                             regularization = 0.1, \n",
    "                                             iterations=10, \n",
    "                                             calculate_training_loss=True)\n",
    "model.fit(((product_train*alpha).T).astype('double'))\n",
    "user_items = (product_train*alpha).tocsr()"
   ]
  },
  {
   "cell_type": "code",
   "execution_count": 209,
   "metadata": {},
   "outputs": [
    {
     "name": "stdout",
     "output_type": "stream",
     "text": [
      "[604690, 319126, 207547, 307551, 169477, 93017, 637392, 183455, 468133, 304808, 467812, 482659, 104133, 136559, 305296, 468138, 102113, 537514, 348285, 586055, 533689, 497462, 220858, 604857, 586392, 320715, 579175, 3756, 590863, 59413]\n"
     ]
    }
   ],
   "source": [
    "user_id = 1996\n",
    "## 1996 heavily dog\n",
    "## 123 mixed user\n",
    "## 512 mixed user\n",
    "## 712 cat specific\n",
    "customer_id = customers_arr[user_id]\n",
    "# print(customer_id)\n",
    "recommendations = model.recommend(user_id, user_items, N =30)\n",
    "# recommendations\n",
    "fast_recommended = []\n",
    "for index in recommendations:\n",
    "    code = products_arr[index[0]]\n",
    "    fast_recommended.append(code)\n",
    "print(fast_recommended)"
   ]
  },
  {
   "cell_type": "code",
   "execution_count": 210,
   "metadata": {},
   "outputs": [
    {
     "name": "stdout",
     "output_type": "stream",
     "text": [
      "194397\n"
     ]
    },
    {
     "data": {
      "text/html": [
       "<font size=15>User Items</font>"
      ],
      "text/plain": [
       "<IPython.core.display.HTML object>"
      ]
     },
     "metadata": {},
     "output_type": "display_data"
    },
    {
     "data": {
      "text/html": [
       "<img style='width: 160px; margin: 0px;               float: left; border: 1px solid black;' src='https://media.zooplus.com/bilder/9/140/546304_2_1_gratis_3_x_60_g_dreamies_mixpaket_9.jpg' /><img style='width: 160px; margin: 0px;               float: left; border: 1px solid black;' src='https://media.zooplus.com/bilder/4/140/26913_pla_dokas_huehnerbrust_kaurolle_4.jpg' /><img style='width: 160px; margin: 0px;               float: left; border: 1px solid black;' src='https://media.zooplus.com/bilder/1/140/566960_1.jpg' /><img style='width: 160px; margin: 0px;               float: left; border: 1px solid black;' src='https://media.zooplus.com/bilder/4/140/_dsc5570_4.jpg' /><img style='width: 160px; margin: 0px;               float: left; border: 1px solid black;' src='https://media.zooplus.com/bilder/4/140/1452_trixiekatzenmalz_4.jpg' /><img style='width: 160px; margin: 0px;               float: left; border: 1px solid black;' src='https://media.zooplus.com/bilder/4/140/cookies_4.jpg' /><img style='width: 160px; margin: 0px;               float: left; border: 1px solid black;' src='https://media.zooplus.com/bilder/3/140/34259_PLA_8in1_Delights_Pro_Dental_Kauknochen_M_3.jpg' /><img style='width: 160px; margin: 0px;               float: left; border: 1px solid black;' src='https://media.zooplus.com/bilder/4/140/578844_2_5_kg_earthborn_holistic_50_rabatt__4.jpg' /><img style='width: 160px; margin: 0px;               float: left; border: 1px solid black;' src='https://media.zooplus.com/bilder/6/140/64524_PLA_Chewies_Knoechelchen_Multipack_3x200g_6.jpg' /><img style='width: 160px; margin: 0px;               float: left; border: 1px solid black;' src='https://media.zooplus.com/bilder/5/140/27936_pla_dokas_kaninchengetrocknet_5.jpg' /><img style='width: 160px; margin: 0px;               float: left; border: 1px solid black;' src='https://media.zooplus.com/bilder/6/140/60987_PLA_Gimpet_Malt_Soft_Extra_6.jpg' /><img style='width: 160px; margin: 0px;               float: left; border: 1px solid black;' src='https://media.zooplus.com/bilder/7/140/524836_best_of_paket_8in1_snacks_copy_7.jpg' /><img style='width: 160px; margin: 0px;               float: left; border: 1px solid black;' src='https://media.zooplus.com/bilder/1/140/1_23302_pla_dreamies_katzensnack_mit_k_se_60g_1.jpg' /><img style='width: 160px; margin: 0px;               float: left; border: 1px solid black;' src='https://media.zooplus.com/bilder/0/140/586339_0.jpg' /><img style='width: 160px; margin: 0px;               float: left; border: 1px solid black;' src='https://media.zooplus.com/bilder/6/140/26913_pla_dokas_huehnerbrust_kaurolle_4_6.jpg' /><img style='width: 160px; margin: 0px;               float: left; border: 1px solid black;' src='https://media.zooplus.com/bilder/3/140/94686_8in1_delights_kauknochen_xs_7_st_ck_3.jpg' /><img style='width: 160px; margin: 0px;               float: left; border: 1px solid black;' src='https://media.zooplus.com/bilder/8/140/71388_pla_nutrivet_friandisechat_boulespoil_8.jpg' /><img style='width: 160px; margin: 0px;               float: left; border: 1px solid black;' src='https://media.zooplus.com/bilder/1/140/greenwoods_nuggets_sonderpreis_copy_1.jpg' /><img style='width: 160px; margin: 0px;               float: left; border: 1px solid black;' src='https://media.zooplus.com/bilder/6/140/71379_pla_nutrivet_friandisechien_boeuf_6.jpg' /><img style='width: 160px; margin: 0px;               float: left; border: 1px solid black;' src='https://media.zooplus.com/bilder/3/140/71412_pla_nutrivet_friandisechien_poulet_3.jpg' /><img style='width: 160px; margin: 0px;               float: left; border: 1px solid black;' src='https://media.zooplus.com/bilder/3/140/1_588677_14_l_golden_grey_master_katzenstreu_zum_sonderpreis_3.jpg' /><img style='width: 160px; margin: 0px;               float: left; border: 1px solid black;' src='https://media.zooplus.com/bilder/0/140/2xbp_nuggies_5_x_100_g_copy_0.jpg' /><img style='width: 160px; margin: 0px;               float: left; border: 1px solid black;' src='https://media.zooplus.com/bilder/1/140/579339_sparpaket_grau_schlemmert_pfchen_getreidefrei_12_x_400_g_1.jpg' /><img style='width: 160px; margin: 0px;               float: left; border: 1px solid black;' src='https://media.zooplus.com/bilder/4/140/_icon_1000x1000_copy_4.jpg' /><img style='width: 160px; margin: 0px;               float: left; border: 1px solid black;' src='https://media.zooplus.com/bilder/6/140/jetzt_testen_xxl_6.jpg' /><img style='width: 160px; margin: 0px;               float: left; border: 1px solid black;' src='https://media.zooplus.com/bilder/5/140/00092001_hokamix30_520_g_5.jpg' /><img style='width: 160px; margin: 0px;               float: left; border: 1px solid black;' src='https://media.zooplus.com/bilder/2/140/23285_pla_dreamies_katzensnack_mit_huhn_60g_2.jpg' /><img style='width: 160px; margin: 0px;               float: left; border: 1px solid black;' src='https://media.zooplus.com/bilder/4/140/446290_dreamies_probierpaket_icon_4.jpg' /><img style='width: 160px; margin: 0px;               float: left; border: 1px solid black;' src='https://media.zooplus.com/bilder/4/140/387682_4.jpg' /><img style='width: 160px; margin: 0px;               float: left; border: 1px solid black;' src='https://media.zooplus.com/bilder/0/140/_pla_goldengrey_greymaster_0.jpg' /><img style='width: 160px; margin: 0px;               float: left; border: 1px solid black;' src='https://media.zooplus.com/bilder/3/140/5_prozentzeichen_400x400_3.jpg' /><img style='width: 160px; margin: 0px;               float: left; border: 1px solid black;' src='https://media.zooplus.com/bilder/2/140/70360_pla_trixieflasher_blue_hs01_2.jpg' /><img style='width: 160px; margin: 0px;               float: left; border: 1px solid black;' src='https://media.zooplus.com/bilder/0/140/69662_pla_miezelinos_getrei_0.jpg' /><img style='width: 160px; margin: 0px;               float: left; border: 1px solid black;' src='https://media.zooplus.com/bilder/9/140/75396_pla_microfaser_trockenmantel_fg_4567_start_9.jpg' /><img style='width: 160px; margin: 0px;               float: left; border: 1px solid black;' src='https://media.zooplus.com/bilder/7/140/probierpaket_dreamies_mister_mix_7.jpg' /><img style='width: 160px; margin: 0px;               float: left; border: 1px solid black;' src='https://media.zooplus.com/bilder/2/140/297873_8in1_fillets_proskin_s_1_2.jpg' /><img style='width: 160px; margin: 0px;               float: left; border: 1px solid black;' src='https://media.zooplus.com/bilder/3/140/73993_pla_dokas_huehnerbrust_200g_3.jpg' /><img style='width: 160px; margin: 0px;               float: left; border: 1px solid black;' src='https://media.zooplus.com/bilder/3/140/528265_golden_katzenstreu_doppelpack_sparpaket_3.jpg' /><img style='width: 160px; margin: 0px;               float: left; border: 1px solid black;' src='https://media.zooplus.com/bilder/4/140/67667_hundehalsband_bones_fg_0965mitherz_4.jpg' /><img style='width: 160px; margin: 0px;               float: left; border: 1px solid black;' src='https://media.zooplus.com/bilder/0/140/68036_pla_barkoo_twister_15_cm_0.jpg' /><img style='width: 160px; margin: 0px;               float: left; border: 1px solid black;' src='https://media.zooplus.com/bilder/2/140/375893_sparpaket_kauknochen_geknotet_2.jpg' /><img style='width: 160px; margin: 0px;               float: left; border: 1px solid black;' src='https://media.zooplus.com/bilder/5/140/57305_PLA_Barkoo_Kauschuh_6_x_12_cm_90_g_5.jpg' /><img style='width: 160px; margin: 0px;               float: left; border: 1px solid black;' src='https://media.zooplus.com/bilder/8/140/65135_vital_natura_snack_gr_nlipp_meermuschelextrakt_200gr_mehrere_8.jpg' /><img style='width: 160px; margin: 0px;               float: left; border: 1px solid black;' src='https://media.zooplus.com/bilder/5/140/52397_PLA_8in1_Fillets_Pro_Digest_5.jpg' />"
      ],
      "text/plain": [
       "<IPython.core.display.HTML object>"
      ]
     },
     "metadata": {},
     "output_type": "display_data"
    },
    {
     "data": {
      "text/html": [
       "<font size=15>Recommended</font>"
      ],
      "text/plain": [
       "<IPython.core.display.HTML object>"
      ]
     },
     "metadata": {},
     "output_type": "display_data"
    },
    {
     "data": {
      "text/html": [
       "<img style='width: 160px; margin: 0px;               float: left; border: 1px solid black;' src='https://media.zooplus.com/bilder/0/140/ped_portionsbeutel_100g_5900951248726_0316_19178_01_web_large_path_2_0.jpg' /><img style='width: 160px; margin: 0px;               float: left; border: 1px solid black;' src='https://media.zooplus.com/bilder/2/140/54350_pla_hundekotbeutel_schwarz_ret_01_2.jpg' /><img style='width: 160px; margin: 0px;               float: left; border: 1px solid black;' src='https://media.zooplus.com/bilder/0/140/77023_pla_classic_baby_14kg_0.jpg' /><img style='width: 160px; margin: 0px;               float: left; border: 1px solid black;' src='https://media.zooplus.com/bilder/1/140/307551_herrmanns_einzeldose_1.jpg' /><img style='width: 160px; margin: 0px;               float: left; border: 1px solid black;' src='https://media.zooplus.com/bilder/4/140/67609_pla_feliway_classic_start_set_hs_01_4.jpg' /><img style='width: 160px; margin: 0px;               float: left; border: 1px solid black;' src='https://media.zooplus.com/bilder/5/140/23979_pla_litterlockerii_hs_01_5.jpg' /><img style='width: 160px; margin: 0px;               float: left; border: 1px solid black;' src='https://media.zooplus.com/bilder/0/140/637392_1_1_gratis_lukullus_kauspirale_0.jpg' /><img style='width: 160px; margin: 0px;               float: left; border: 1px solid black;' src='https://media.zooplus.com/bilder/2/140/24249_PLA_8in1_Delights_Kausticks_2.jpg' /><img style='width: 160px; margin: 0px;               float: left; border: 1px solid black;' src='https://media.zooplus.com/bilder/4/140/468133_4.jpg' /><img style='width: 160px; margin: 0px;               float: left; border: 1px solid black;' src='https://media.zooplus.com/bilder/8/140/304808_herrmanns_einzeldose_8.jpg' /><img style='width: 160px; margin: 0px;               float: left; border: 1px solid black;' src='https://media.zooplus.com/bilder/5/140/56852_PLA_Lukullus_Feine_Kauknochen_Ente_2_x_10_cm_5.jpg' /><img style='width: 160px; margin: 0px;               float: left; border: 1px solid black;' src='https://media.zooplus.com/bilder/9/140/65428_pla_kauknochen_pferd_9.jpg' /><img style='width: 160px; margin: 0px;               float: left; border: 1px solid black;' src='https://media.zooplus.com/bilder/1/140/25153_3_hunter_calcium_milk_1.jpg' /><img style='width: 160px; margin: 0px;               float: left; border: 1px solid black;' src='https://media.zooplus.com/bilder/4/140/26913_pla_dokas_huehnerbrust_kaurolle_4.jpg' /><img style='width: 160px; margin: 0px;               float: left; border: 1px solid black;' src='https://media.zooplus.com/bilder/8/140/1_73458_pla_tigerino_canada_sensitive_12kg_8.jpg' /><img style='width: 160px; margin: 0px;               float: left; border: 1px solid black;' src='https://media.zooplus.com/bilder/2/140/468138_2.jpg' /><img style='width: 160px; margin: 0px;               float: left; border: 1px solid black;' src='https://media.zooplus.com/bilder/1/140/102113_herrmannsrind400g_1.jpg' /><img style='width: 160px; margin: 0px;               float: left; border: 1px solid black;' src='https://media.zooplus.com/bilder/4/140/68197_pla_rocco_kaustange_geflochten_geraeuchert_4.jpg' /><img style='width: 160px; margin: 0px;               float: left; border: 1px solid black;' src='https://media.zooplus.com/bilder/1/140/57275_pla_dog_snagger_hirschfleisch_w_rstchen_75_g_ca_18_stueck__1.jpg' /><img style='width: 160px; margin: 0px;               float: left; border: 1px solid black;' src='https://media.zooplus.com/bilder/9/140/71530_pla_dokas_football_content_9.jpg' /><img style='width: 160px; margin: 0px;               float: left; border: 1px solid black;' src='https://media.zooplus.com/bilder/0/140/68036_pla_barkoo_twister_15_cm_0.jpg' /><img style='width: 160px; margin: 0px;               float: left; border: 1px solid black;' src='https://media.zooplus.com/bilder/8/140/75614_microfaser_handtuch_zoolove_icon_fg_5279_8.jpg' /><img style='width: 160px; margin: 0px;               float: left; border: 1px solid black;' src='https://media.zooplus.com/bilder/3/140/68913_pla_dreamies_katzensn_3.jpg' /><img style='width: 160px; margin: 0px;               float: left; border: 1px solid black;' src='https://media.zooplus.com/bilder/1/140/69167_pla_hotdogs_chicken_4p_1.jpg' /><img style='width: 160px; margin: 0px;               float: left; border: 1px solid black;' src='https://media.zooplus.com/bilder/1/140/pla_70743_wolf_of_wilderness_gefriergetrocknete_premium_snacks_1.jpg' /><img style='width: 160px; margin: 0px;               float: left; border: 1px solid black;' src='https://media.zooplus.com/bilder/6/140/47047_terra_canis_sensitiv_wild_mit_kartoffeln_apfel_preiselbeeren_400g_einzeldose_6.jpg' /><img style='width: 160px; margin: 0px;               float: left; border: 1px solid black;' src='https://media.zooplus.com/bilder/1/140/70868_pla_dokas_kaustange_entenbrust_1.jpg' /><img style='width: 160px; margin: 0px;               float: left; border: 1px solid black;' src='https://media.zooplus.com/bilder/4/140/4710_PLA_Trixie_Gefuellte_Kaurolle_2St_4.jpg' /><img style='width: 160px; margin: 0px;               float: left; border: 1px solid black;' src='https://media.zooplus.com/bilder/4/140/71439_pla_catzfinefoodmeatz_huhn_4.jpg' /><img style='width: 160px; margin: 0px;               float: left; border: 1px solid black;' src='https://media.zooplus.com/bilder/1/140/59413_biokatsmicro_1.jpg' />"
      ],
      "text/plain": [
       "<IPython.core.display.HTML object>"
      ]
     },
     "metadata": {},
     "output_type": "display_data"
    }
   ],
   "source": [
    "## DEFINE USER_ID\n",
    "#user_id = 2016\n",
    "print(customer_id)\n",
    "## get user items\n",
    "user_bought_items = raw_df[raw_df['CUS_N_KEY_CUSTOMER'] == customer_id]['ART_C_PROD_NUMBER'].unique()\n",
    "\n",
    "thumb_html = \"<img style='width: 160px; margin: 0px; \\\n",
    "              float: left; border: 1px solid black;' src='{}' />\"\n",
    "images = ''\n",
    "display(HTML('<font size=15>'+'User Items'+'</font>'))\n",
    "\n",
    "for code in user_bought_items:\n",
    "    try:\n",
    "        img_url = img_df[img_df['PS_SHOP_IDENTIFIER'] == code]['img_url'].iloc[0]\n",
    "    except:\n",
    "        img_url = ''\n",
    "    images += thumb_html.format(img_url)\n",
    "   # print(img_url)\n",
    "\n",
    "display(HTML(images))\n",
    "\n",
    "thumb_html = \"<img style='width: 160px; margin: 0px; \\\n",
    "              float: left; border: 1px solid black;' src='{}' />\"\n",
    "images = ''\n",
    "display(HTML('<font size=15>'+'Recommended'+'</font>'))\n",
    "\n",
    "for code in fast_recommended:\n",
    "    try:\n",
    "        img_url = img_df[img_df['PS_SHOP_IDENTIFIER'] == code]['img_url'].iloc[0]\n",
    "    except:\n",
    "        img_url = ''\n",
    "    images += thumb_html.format(img_url)\n",
    "   # print(img_url)\n",
    "\n",
    "display(HTML(images))"
   ]
  },
  {
   "cell_type": "markdown",
   "metadata": {},
   "source": [
    "> we can see that the model captured the fact that this is primarely dog biased buyer, that it likes snacks and that it has a bit of a cat-related products!"
   ]
  },
  {
   "cell_type": "markdown",
   "metadata": {},
   "source": [
    "### Purely Dog related one"
   ]
  },
  {
   "cell_type": "code",
   "execution_count": 211,
   "metadata": {
    "scrolled": false
   },
   "outputs": [
    {
     "name": "stdout",
     "output_type": "stream",
     "text": [
      "[604690, 199688, 525558, 97648, 525680, 106179, 568382, 199684, 443556, 199736, 9650, 284568, 586674, 464268, 10344, 136547, 468133, 556050, 467686, 160389, 172956, 101516, 405292, 348285, 467812, 102952, 190513, 173310, 306751, 136559]\n",
      "194453\n"
     ]
    },
    {
     "data": {
      "text/html": [
       "<font size=15>User Items</font>"
      ],
      "text/plain": [
       "<IPython.core.display.HTML object>"
      ]
     },
     "metadata": {},
     "output_type": "display_data"
    },
    {
     "data": {
      "text/html": [
       "<img style='width: 160px; margin: 0px;               float: left; border: 1px solid black;' src='https://media.zooplus.com/bilder/0/140/106079_cookies_haehnchen_0.jpg' /><img style='width: 160px; margin: 0px;               float: left; border: 1px solid black;' src='https://media.zooplus.com/bilder/1/140/15149_PLA_Hundespielzeug_Latex_Pop_Up_Ei_mit_Squeaker_HS_45359_1.jpg' /><img style='width: 160px; margin: 0px;               float: left; border: 1px solid black;' src='https://media.zooplus.com/bilder/1/140/383518_2_fach_bonuspunkte_1500_g_rinderkopfhaut_1.jpg' /><img style='width: 160px; margin: 0px;               float: left; border: 1px solid black;' src='https://media.zooplus.com/bilder/2/140/pitti_24_2.jpg' /><img style='width: 160px; margin: 0px;               float: left; border: 1px solid black;' src='https://media.zooplus.com/bilder/2/140/24949_PLA_Dibo_Premium_Doerrfleisch_250g_2.jpg' /><img style='width: 160px; margin: 0px;               float: left; border: 1px solid black;' src='https://media.zooplus.com/bilder/4/140/277294_3_1_gratis_rocco_chings_neu_edited_1_4.jpg' /><img style='width: 160px; margin: 0px;               float: left; border: 1px solid black;' src='https://media.zooplus.com/bilder/2/140/218239_rinderkopfhaut_2.jpg' /><img style='width: 160px; margin: 0px;               float: left; border: 1px solid black;' src='https://media.zooplus.com/bilder/1/140/22076_hunter_peppermint_sna_1.jpg' /><img style='width: 160px; margin: 0px;               float: left; border: 1px solid black;' src='https://media.zooplus.com/bilder/7/140/65558_pla_barkoo_kauknochen_mit_ochsenziemerf_llung_12_cm_7.jpg' /><img style='width: 160px; margin: 0px;               float: left; border: 1px solid black;' src='https://media.zooplus.com/bilder/4/140/26911_pla_dokas_huehnerbrust_fisch_4.jpg' /><img style='width: 160px; margin: 0px;               float: left; border: 1px solid black;' src='https://media.zooplus.com/bilder/6/140/63084_PLA_Dibo_Lachshaut_50g_6.jpg' /><img style='width: 160px; margin: 0px;               float: left; border: 1px solid black;' src='https://media.zooplus.com/bilder/6/140/71097_pla_trixie_shaun_das_schaf_hundespielzeug_shaun_hs_04_6.jpg' /><img style='width: 160px; margin: 0px;               float: left; border: 1px solid black;' src='https://media.zooplus.com/bilder/6/140/64516_PLA_Aumueller_oeko_Spielzeug_Eule_HS_Eule_hell_6.jpg' /><img style='width: 160px; margin: 0px;               float: left; border: 1px solid black;' src='https://media.zooplus.com/bilder/5/140/25360_cookieskaurollen_5.jpg' /><img style='width: 160px; margin: 0px;               float: left; border: 1px solid black;' src='https://media.zooplus.com/bilder/2/140/25330_PLA_Cookies_Snacks_Seaside_Bone_2.jpg' /><img style='width: 160px; margin: 0px;               float: left; border: 1px solid black;' src='https://media.zooplus.com/bilder/6/140/10143_dotti_aus_pluesch_top_seller_fg_7741_6.jpg' /><img style='width: 160px; margin: 0px;               float: left; border: 1px solid black;' src='https://media.zooplus.com/bilder/0/140/53903_pla_kong_cozie_ali_0.jpg' /><img style='width: 160px; margin: 0px;               float: left; border: 1px solid black;' src='https://media.zooplus.com/bilder/9/140/136547_dokas_huhn_fisch_9.jpg' /><img style='width: 160px; margin: 0px;               float: left; border: 1px solid black;' src='https://media.zooplus.com/bilder/0/140/_dsc2550_0.jpg' /><img style='width: 160px; margin: 0px;               float: left; border: 1px solid black;' src='https://media.zooplus.com/bilder/9/140/75115_pla_rosewood_whippy_hs_01_9.jpg' /><img style='width: 160px; margin: 0px;               float: left; border: 1px solid black;' src='https://media.zooplus.com/bilder/0/140/cookies_0.jpg' /><img style='width: 160px; margin: 0px;               float: left; border: 1px solid black;' src='https://media.zooplus.com/bilder/1/140/74331_pla_kong_floppyknotsfox_1.jpg' /><img style='width: 160px; margin: 0px;               float: left; border: 1px solid black;' src='https://media.zooplus.com/bilder/6/140/75284_pla_perfectfit_dog_sample_50g_6.jpg' /><img style='width: 160px; margin: 0px;               float: left; border: 1px solid black;' src='https://media.zooplus.com/bilder/4/140/cookies_4.jpg' /><img style='width: 160px; margin: 0px;               float: left; border: 1px solid black;' src='https://media.zooplus.com/bilder/0/140/609619_dogmio_rolls_mix_zum_sonderpreis_02_2017_copy_0.jpg' /><img style='width: 160px; margin: 0px;               float: left; border: 1px solid black;' src='https://media.zooplus.com/bilder/1/140/25153_3_hunter_calcium_milk_1.jpg' /><img style='width: 160px; margin: 0px;               float: left; border: 1px solid black;' src='https://media.zooplus.com/bilder/9/140/75116_rosewood_twister__hs_02_9.jpg' /><img style='width: 160px; margin: 0px;               float: left; border: 1px solid black;' src='https://media.zooplus.com/bilder/6/140/37428_pla_dog_snagger_schlundstangen_500g_6.jpg' /><img style='width: 160px; margin: 0px;               float: left; border: 1px solid black;' src='https://media.zooplus.com/bilder/2/140/24941_PLA_Dibo_Premium_Huehnchenhaelse_250g_2.jpg' /><img style='width: 160px; margin: 0px;               float: left; border: 1px solid black;' src='https://media.zooplus.com/bilder/2/140/74917_pla_hundespielzeug_latexball_fg_1213_2.jpg' /><img style='width: 160px; margin: 0px;               float: left; border: 1px solid black;' src='https://media.zooplus.com/bilder/7/140/75117_rosewood_grilledchicken_7.jpg' /><img style='width: 160px; margin: 0px;               float: left; border: 1px solid black;' src='https://media.zooplus.com/bilder/7/140/71881_pla_hansepet_fish_nchew_kaurolle_lachshaut_200g_7.jpg' /><img style='width: 160px; margin: 0px;               float: left; border: 1px solid black;' src='https://media.zooplus.com/bilder/3/140/75393_pla_affe_mit_tau_fg_1364_3.jpg' />"
      ],
      "text/plain": [
       "<IPython.core.display.HTML object>"
      ]
     },
     "metadata": {},
     "output_type": "display_data"
    },
    {
     "data": {
      "text/html": [
       "<font size=15>Recommended</font>"
      ],
      "text/plain": [
       "<IPython.core.display.HTML object>"
      ]
     },
     "metadata": {},
     "output_type": "display_data"
    },
    {
     "data": {
      "text/html": [
       "<img style='width: 160px; margin: 0px;               float: left; border: 1px solid black;' src='https://media.zooplus.com/bilder/0/140/ped_portionsbeutel_100g_5900951248726_0316_19178_01_web_large_path_2_0.jpg' /><img style='width: 160px; margin: 0px;               float: left; border: 1px solid black;' src='https://media.zooplus.com/bilder/4/140/199688_rocco_naturohren_4.jpg' /><img style='width: 160px; margin: 0px;               float: left; border: 1px solid black;' src='https://media.zooplus.com/bilder/8/140/1_32418_rocco_chings_h_hnerbrust_in_streifen_250_g_8.jpg' /><img style='width: 160px; margin: 0px;               float: left; border: 1px solid black;' src='https://media.zooplus.com/bilder/3/140/nyla_chewies_bob_88_3.jpg' /><img style='width: 160px; margin: 0px;               float: left; border: 1px solid black;' src='https://media.zooplus.com/bilder/5/140/525680_rocco_sparpaket_chings_snack_5.jpg' /><img style='width: 160px; margin: 0px;               float: left; border: 1px solid black;' src='https://media.zooplus.com/bilder/5/140/25360_cookieskaurollen_5.jpg' /><img style='width: 160px; margin: 0px;               float: left; border: 1px solid black;' src='https://media.zooplus.com/bilder/0/140/cookies_0.jpg' /><img style='width: 160px; margin: 0px;               float: left; border: 1px solid black;' src='https://media.zooplus.com/bilder/8/140/37549_pla_rocco_ochsenzieme_8.jpg' /><img style='width: 160px; margin: 0px;               float: left; border: 1px solid black;' src='https://media.zooplus.com/bilder/8/140/64485_pla_dog_snagger_huehnerfuesse_5_stueck_8.jpg' /><img style='width: 160px; margin: 0px;               float: left; border: 1px solid black;' src='https://media.zooplus.com/bilder/6/140/199736_5rocco_rinderpansen__6.jpg' /><img style='width: 160px; margin: 0px;               float: left; border: 1px solid black;' src='https://media.zooplus.com/bilder/1/140/10047_pla_dentastix_7stk_kleinehunde_1.jpg' /><img style='width: 160px; margin: 0px;               float: left; border: 1px solid black;' src='https://media.zooplus.com/bilder/3/140/68365_3_pla_razas_serrano_s_3.jpg' /><img style='width: 160px; margin: 0px;               float: left; border: 1px solid black;' src='https://media.zooplus.com/bilder/1/140/greenwoods_nuggets_sonderpreis_copy_1.jpg' /><img style='width: 160px; margin: 0px;               float: left; border: 1px solid black;' src='https://media.zooplus.com/bilder/8/140/65135_vital_natura_snack_gr_nlipp_meermuschelextrakt_200gr_mehrere_8.jpg' /><img style='width: 160px; margin: 0px;               float: left; border: 1px solid black;' src='https://media.zooplus.com/bilder/0/140/31086_pla_animonda_grancarn_0.jpg' /><img style='width: 160px; margin: 0px;               float: left; border: 1px solid black;' src='https://media.zooplus.com/bilder/4/140/26911_pla_dokas_huehnerbrust_fisch_4.jpg' /><img style='width: 160px; margin: 0px;               float: left; border: 1px solid black;' src='https://media.zooplus.com/bilder/4/140/468133_4.jpg' /><img style='width: 160px; margin: 0px;               float: left; border: 1px solid black;' src='https://media.zooplus.com/bilder/2/140/68970_pla_vitakraft_treaties_bits_leberwurst_2.jpg' /><img style='width: 160px; margin: 0px;               float: left; border: 1px solid black;' src='https://media.zooplus.com/bilder/6/140/64800_PLA_Lukullus_Feine_Kauknochen__Lachs_12_x_5_cm_7_stueck_6.jpg' /><img style='width: 160px; margin: 0px;               float: left; border: 1px solid black;' src='https://media.zooplus.com/bilder/4/140/29072_pla_tubidog_leberwurst_hs_01_4.jpg' /><img style='width: 160px; margin: 0px;               float: left; border: 1px solid black;' src='https://media.zooplus.com/bilder/2/140/31385_pla_dokas_1m_kaurolle_huhn_2.jpg' /><img style='width: 160px; margin: 0px;               float: left; border: 1px solid black;' src='https://media.zooplus.com/bilder/2/140/24942_PLA_Dibo_Premium_Rinderschlund_250g_2.jpg' /><img style='width: 160px; margin: 0px;               float: left; border: 1px solid black;' src='https://media.zooplus.com/bilder/5/140/62406_pla_dokas_kaustange_huehnerbrust_5.jpg' /><img style='width: 160px; margin: 0px;               float: left; border: 1px solid black;' src='https://media.zooplus.com/bilder/1/140/57275_pla_dog_snagger_hirschfleisch_w_rstchen_75_g_ca_18_stueck__1.jpg' /><img style='width: 160px; margin: 0px;               float: left; border: 1px solid black;' src='https://media.zooplus.com/bilder/5/140/56852_PLA_Lukullus_Feine_Kauknochen_Ente_2_x_10_cm_5.jpg' /><img style='width: 160px; margin: 0px;               float: left; border: 1px solid black;' src='https://media.zooplus.com/bilder/2/140/pitti_24_2.jpg' /><img style='width: 160px; margin: 0px;               float: left; border: 1px solid black;' src='https://media.zooplus.com/bilder/5/140/55912_PLA_Rinti_Extra_Mini_Bits_100_g___Ente_mit_Ananas___Kiwi_5.jpg' /><img style='width: 160px; margin: 0px;               float: left; border: 1px solid black;' src='https://media.zooplus.com/bilder/2/140/62544_pla_rinti_chicko_mini_huhn_80g_2.jpg' /><img style='width: 160px; margin: 0px;               float: left; border: 1px solid black;' src='https://media.zooplus.com/bilder/5/140/_dsc6323_5.jpg' /><img style='width: 160px; margin: 0px;               float: left; border: 1px solid black;' src='https://media.zooplus.com/bilder/4/140/26913_pla_dokas_huehnerbrust_kaurolle_4.jpg' />"
      ],
      "text/plain": [
       "<IPython.core.display.HTML object>"
      ]
     },
     "metadata": {},
     "output_type": "display_data"
    }
   ],
   "source": [
    "user_id = 1997\n",
    "## 1997 dog\n",
    "## 1996 heavily dog\n",
    "## 123 mixed user\n",
    "## 512 mixed user\n",
    "## 712 cat specific\n",
    "customer_id = customers_arr[user_id]\n",
    "# print(customer_id)\n",
    "recommendations = model.recommend(user_id, user_items, N =30)\n",
    "# recommendations\n",
    "fast_recommended = []\n",
    "for index in recommendations:\n",
    "    code = products_arr[index[0]]\n",
    "    fast_recommended.append(code)\n",
    "print(fast_recommended)\n",
    "\n",
    "## DEFINE USER_ID\n",
    "#user_id = 2016\n",
    "print(customer_id)\n",
    "## get user items\n",
    "user_bought_items = raw_df[raw_df['CUS_N_KEY_CUSTOMER'] == customer_id]['ART_C_PROD_NUMBER'].unique()\n",
    "\n",
    "thumb_html = \"<img style='width: 160px; margin: 0px; \\\n",
    "              float: left; border: 1px solid black;' src='{}' />\"\n",
    "images = ''\n",
    "display(HTML('<font size=15>'+'User Items'+'</font>'))\n",
    "\n",
    "for code in user_bought_items:\n",
    "    try:\n",
    "        img_url = img_df[img_df['PS_SHOP_IDENTIFIER'] == code]['img_url'].iloc[0]\n",
    "    except:\n",
    "        img_url = ''\n",
    "    images += thumb_html.format(img_url)\n",
    "   # print(img_url)\n",
    "\n",
    "display(HTML(images))\n",
    "\n",
    "thumb_html = \"<img style='width: 160px; margin: 0px; \\\n",
    "              float: left; border: 1px solid black;' src='{}' />\"\n",
    "images = ''\n",
    "display(HTML('<font size=15>'+'Recommended'+'</font>'))\n",
    "\n",
    "for code in fast_recommended:\n",
    "    try:\n",
    "        img_url = img_df[img_df['PS_SHOP_IDENTIFIER'] == code]['img_url'].iloc[0]\n",
    "    except:\n",
    "        img_url = ''\n",
    "    images += thumb_html.format(img_url)\n",
    "   # print(img_url)\n",
    "\n",
    "display(HTML(images))"
   ]
  },
  {
   "cell_type": "markdown",
   "metadata": {},
   "source": [
    "> The model captured the fact that is a dog one :)"
   ]
  },
  {
   "cell_type": "markdown",
   "metadata": {},
   "source": [
    "# Future work"
   ]
  },
  {
   "cell_type": "markdown",
   "metadata": {},
   "source": [
    "1. ### Parameter Opitimizion of the latent factor model:\n",
    "    1. Standard approach:\n",
    "        a. Run a hyperparameter swipe/grid search (simply requires a couple of day of my CPU time. Easily doable)\n",
    "\n",
    "1. ### Scaling\n",
    "    1. Scalability to massive datasets (not a super important due to relatively 'normal' amounts of data per shop)\n",
    "        * Potential problem: build a scalable recommender system that is capable of iterative update as new data is being recieved\n",
    "        * Potential solution: \n",
    "            1. Due to its scalability, low memory overhead and extensibility, matrix factorization with stochastic gradient descent is our of choice (this is already the case).\n",
    "            2. Paper by Rendle and Schmidt-Thieme experimentally shows that updating the latent factor vectors for only the user and item that the new rating is for, does almost as well as retraining the entire model (they report an error of at most 1%) from scratch. But they show this for explicit data, where a new rating from an exist user-item pair does mean that it over writes any previous data that we may have had for the same. This is not the case for implicit data, where, if a user buys an item a second time, we should not be ignoring the first purchase/view/like, but adding to it. - TODO\n",
    "\n",
    "3. ### Incorporating Context features\n",
    "\n",
    "\n",
    "4. ### Going wide and deep (Google paper)\n",
    "[Ho Wide & Deep Learning works](https://arxiv.org/abs/1606.07792)\n",
    "\n",
    "<p align=\"center\">\n",
    "    <img src=\"https://www.tensorflow.org/images/wide_n_deep.svg\"/>\n",
    "</p>\n",
    "\n",
    "5. ### Implementing autoencoder for recommender system (Nvidia paper)\n",
    "The [model](https://arxiv.org/abs/1708.01715), developed by NVIDIA folks, is a Deep autoencoder with 6 layers with non-linear activation function SELU (scaled exponential linear units), dropout and iterative dense refeeding.\n",
    "\n",
    "An autoencoder is a network which implements two transformations: $encode(x): R^n \\Rightarrow R^d$ and $decoder(z): R^d \\Rightarrow R^n$. The “goal” of autoencoder is to obtain a $d$ dimensional representation of data such that an error measure between $x$ and $f(x) = decode(encode(x))$ is minimized. In the next figure, the autocoder architecture proposed in the [paper](https://arxiv.org/abs/1708.01715) is showed. Encoder has 2 layers $e_1$ and $e_2$ and decoder has 2 layers $d_1$ and $d_2$. Dropout may be applied to coding layer $z$. In the paper, the authors show experiments with different number of layers, from 2 to 12 (see Table 2 in the original paper).\n",
    "\n",
    "<p align=\"center\">\n",
    "    <img src=\"./data/AutoEncoder.png\" width=350px/>\n",
    "</p>\n",
    "\n",
    "During the forward pass the model takes a user representation by his vector of ratings from the training set $x \\in R^n$, where $n$ is number of items. Note that $x$ is very sparse, while the output of the decoder, $y=f(x) \\in R^n$ is dense and contains the rating predictions for all items in the corpus. The loss is the root mean squared error (RMSE).\n",
    "\n",
    "One of the key ideas of the paper is dense re-feeding. Let's consider an idealized scenario with a perfect $f$. Then $f(x)_i = x_i ,\\forall i : x_i \\ne 0$ and $f(x)_i$ accurately predicts all user's future ratings. This means that if a user rates a new item $k$ (thereby creating a new vector $x'$) then $f(x)_k = x'_k$ and $f(x) = f(x')$. Therefore, the authors refeed the input in the autoencoder to augment the dataset. The method consists of the following steps:\n",
    "\n",
    "1. Given a sparse $x$, compute the forward pass to get $f(x)$ and the loss.\n",
    "\n",
    "2. Backpropagate the loss and update the weights.\n",
    "\n",
    "3. Treat $f(x)$ as a new example and compute $f(f(x))$\n",
    "\n",
    "4. Compute a second backward pass.\n",
    "\n",
    "Steps 3 and 4 can be repeated several times.\n",
    "\n",
    "Finally, the authors explore different non-linear [activation functions](https://github.com/pytorch/pytorch/blob/master/torch/nn/functional.py). They found that on this task ELU, SELU and LRELU, which have non-zero negative parts, perform much better than SIGMOID, RELU, RELU6, and TANH.\n",
    "\n",
    "6. ### Comparing/Ansambling various models"
   ]
  },
  {
   "cell_type": "code",
   "execution_count": null,
   "metadata": {},
   "outputs": [],
   "source": []
  }
 ],
 "metadata": {
  "kernelspec": {
   "display_name": "Python 3",
   "language": "python",
   "name": "python3"
  },
  "language_info": {
   "codemirror_mode": {
    "name": "ipython",
    "version": 3
   },
   "file_extension": ".py",
   "mimetype": "text/x-python",
   "name": "python",
   "nbconvert_exporter": "python",
   "pygments_lexer": "ipython3",
   "version": "3.6.5"
  }
 },
 "nbformat": 4,
 "nbformat_minor": 2
}
