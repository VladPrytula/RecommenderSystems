{
 "cells": [
  {
   "cell_type": "markdown",
   "metadata": {},
   "source": [
    "# Rules mining v2"
   ]
  },
  {
   "cell_type": "code",
   "execution_count": 1,
   "metadata": {},
   "outputs": [],
   "source": [
    "import pandas as pd\n",
    "import scipy.sparse as sparse\n",
    "import numpy as np\n",
    "from scipy.sparse.linalg import spsolve\n",
    "from IPython.display import display, HTML\n",
    "import sys\n",
    "from itertools import combinations, groupby\n",
    "from collections import Counter"
   ]
  },
  {
   "cell_type": "code",
   "execution_count": 36,
   "metadata": {
    "scrolled": true
   },
   "outputs": [
    {
     "data": {
      "text/plain": [
       "7514"
      ]
     },
     "execution_count": 36,
     "metadata": {},
     "output_type": "execute_result"
    }
   ],
   "source": [
    "# load the data\n",
    "raw_df = pd.read_csv('export_with_basket_2017.csv', encoding = \"utf-8\")\n",
    "raw_df['ART_C_PROD_NUMBER'].unique().size"
   ]
  },
  {
   "cell_type": "code",
   "execution_count": 37,
   "metadata": {},
   "outputs": [],
   "source": [
    "### let us dump the contents of the groups to the file\n",
    "transactions_df = raw_df[['SCM_N_ORDER_NR_1', 'ART_C_PROD_NUMBER']]"
   ]
  },
  {
   "cell_type": "code",
   "execution_count": 38,
   "metadata": {},
   "outputs": [
    {
     "data": {
      "text/html": [
       "<div>\n",
       "<style scoped>\n",
       "    .dataframe tbody tr th:only-of-type {\n",
       "        vertical-align: middle;\n",
       "    }\n",
       "\n",
       "    .dataframe tbody tr th {\n",
       "        vertical-align: top;\n",
       "    }\n",
       "\n",
       "    .dataframe thead th {\n",
       "        text-align: right;\n",
       "    }\n",
       "</style>\n",
       "<table border=\"1\" class=\"dataframe\">\n",
       "  <thead>\n",
       "    <tr style=\"text-align: right;\">\n",
       "      <th></th>\n",
       "      <th>SCM_N_ORDER_NR_1</th>\n",
       "      <th>ART_C_PROD_NUMBER</th>\n",
       "    </tr>\n",
       "  </thead>\n",
       "  <tbody>\n",
       "    <tr>\n",
       "      <th>0</th>\n",
       "      <td>80391417</td>\n",
       "      <td>139428</td>\n",
       "    </tr>\n",
       "    <tr>\n",
       "      <th>1</th>\n",
       "      <td>81849313</td>\n",
       "      <td>523432</td>\n",
       "    </tr>\n",
       "    <tr>\n",
       "      <th>2</th>\n",
       "      <td>81849313</td>\n",
       "      <td>468126</td>\n",
       "    </tr>\n",
       "    <tr>\n",
       "      <th>3</th>\n",
       "      <td>83341895</td>\n",
       "      <td>445245</td>\n",
       "    </tr>\n",
       "    <tr>\n",
       "      <th>4</th>\n",
       "      <td>83341895</td>\n",
       "      <td>445245</td>\n",
       "    </tr>\n",
       "  </tbody>\n",
       "</table>\n",
       "</div>"
      ],
      "text/plain": [
       "   SCM_N_ORDER_NR_1  ART_C_PROD_NUMBER\n",
       "0          80391417             139428\n",
       "1          81849313             523432\n",
       "2          81849313             468126\n",
       "3          83341895             445245\n",
       "4          83341895             445245"
      ]
     },
     "execution_count": 38,
     "metadata": {},
     "output_type": "execute_result"
    }
   ],
   "source": [
    "transactions_df.head()"
   ]
  },
  {
   "cell_type": "code",
   "execution_count": 39,
   "metadata": {},
   "outputs": [],
   "source": [
    "transaction_groups = transactions_df.groupby('SCM_N_ORDER_NR_1')"
   ]
  },
  {
   "cell_type": "code",
   "execution_count": 41,
   "metadata": {},
   "outputs": [
    {
     "name": "stdout",
     "output_type": "stream",
     "text": [
      "        SCM_N_ORDER_NR_1  ART_C_PROD_NUMBER\n",
      "118194          80058730             572571\n",
      "118195          80058730             527508\n",
      "118196          80058730             451723\n",
      "118251          80058730             527508\n",
      "118252          80058730             497411\n",
      "118253          80058730             527508\n",
      "118254          80058730             207547\n",
      "118255          80058730             572571 \n",
      "\n",
      "\n",
      " 572571 527508 451723 527508 497411 527508 207547 572571\n"
     ]
    }
   ],
   "source": [
    "for key, item in transaction_groups:\n",
    "    print (transaction_groups.get_group(key), \"\\n\\n\")\n",
    "    line = \"\"\n",
    "    for prod_id in item.ART_C_PROD_NUMBER:\n",
    "        line += \" \" + str(prod_id)\n",
    "        \n",
    "    print(line)    \n",
    "    break"
   ]
  },
  {
   "cell_type": "code",
   "execution_count": 42,
   "metadata": {},
   "outputs": [],
   "source": [
    "### dump contents to the file\n",
    "with open('transactions2017.dat', 'a') as the_file:\n",
    "    for key, item in transaction_groups:\n",
    "        # print (transaction_groups.get_group(key), \"\\n\\n\")\n",
    "        line = \"\"\n",
    "        for prod_id in item.ART_C_PROD_NUMBER:\n",
    "            line += \" \" + str(prod_id)\n",
    "        the_file.write(line + \"\\n\")"
   ]
  },
  {
   "cell_type": "code",
   "execution_count": null,
   "metadata": {},
   "outputs": [],
   "source": []
  }
 ],
 "metadata": {
  "kernelspec": {
   "display_name": "Python 3",
   "language": "python",
   "name": "python3"
  },
  "language_info": {
   "codemirror_mode": {
    "name": "ipython",
    "version": 3
   },
   "file_extension": ".py",
   "mimetype": "text/x-python",
   "name": "python",
   "nbconvert_exporter": "python",
   "pygments_lexer": "ipython3",
   "version": "3.6.4"
  }
 },
 "nbformat": 4,
 "nbformat_minor": 2
}
