{
 "cells": [
  {
   "cell_type": "code",
   "execution_count": 1,
   "metadata": {},
   "outputs": [],
   "source": [
    "# Importing the libraries\n",
    "import numpy as np\n",
    "import pandas as pd\n",
    "import torch\n",
    "import torch.nn as nn\n",
    "import torch.nn.parallel\n",
    "import torch.optim as optim\n",
    "import torch.utils.data\n",
    "from torch.autograd import Variable"
   ]
  },
  {
   "cell_type": "code",
   "execution_count": 2,
   "metadata": {},
   "outputs": [],
   "source": [
    "# Importing the dataset\n",
    "movies = pd.read_csv('ml-latest/movies.csv',encoding = 'latin-1')\n",
    "users = pd.read_csv('ml-latest/tags.csv', encoding = 'latin-1')\n",
    "ratings = pd.read_csv('ml-latest/ratings.csv', encoding = 'latin-1')"
   ]
  },
  {
   "cell_type": "code",
   "execution_count": 3,
   "metadata": {},
   "outputs": [
    {
     "data": {
      "text/html": [
       "<div>\n",
       "<style scoped>\n",
       "    .dataframe tbody tr th:only-of-type {\n",
       "        vertical-align: middle;\n",
       "    }\n",
       "\n",
       "    .dataframe tbody tr th {\n",
       "        vertical-align: top;\n",
       "    }\n",
       "\n",
       "    .dataframe thead th {\n",
       "        text-align: right;\n",
       "    }\n",
       "</style>\n",
       "<table border=\"1\" class=\"dataframe\">\n",
       "  <thead>\n",
       "    <tr style=\"text-align: right;\">\n",
       "      <th></th>\n",
       "      <th>movieId</th>\n",
       "      <th>title</th>\n",
       "      <th>genres</th>\n",
       "    </tr>\n",
       "  </thead>\n",
       "  <tbody>\n",
       "    <tr>\n",
       "      <th>0</th>\n",
       "      <td>1</td>\n",
       "      <td>Toy Story (1995)</td>\n",
       "      <td>Adventure|Animation|Children|Comedy|Fantasy</td>\n",
       "    </tr>\n",
       "    <tr>\n",
       "      <th>1</th>\n",
       "      <td>2</td>\n",
       "      <td>Jumanji (1995)</td>\n",
       "      <td>Adventure|Children|Fantasy</td>\n",
       "    </tr>\n",
       "    <tr>\n",
       "      <th>2</th>\n",
       "      <td>3</td>\n",
       "      <td>Grumpier Old Men (1995)</td>\n",
       "      <td>Comedy|Romance</td>\n",
       "    </tr>\n",
       "    <tr>\n",
       "      <th>3</th>\n",
       "      <td>4</td>\n",
       "      <td>Waiting to Exhale (1995)</td>\n",
       "      <td>Comedy|Drama|Romance</td>\n",
       "    </tr>\n",
       "    <tr>\n",
       "      <th>4</th>\n",
       "      <td>5</td>\n",
       "      <td>Father of the Bride Part II (1995)</td>\n",
       "      <td>Comedy</td>\n",
       "    </tr>\n",
       "  </tbody>\n",
       "</table>\n",
       "</div>"
      ],
      "text/plain": [
       "   movieId                               title  \\\n",
       "0        1                    Toy Story (1995)   \n",
       "1        2                      Jumanji (1995)   \n",
       "2        3             Grumpier Old Men (1995)   \n",
       "3        4            Waiting to Exhale (1995)   \n",
       "4        5  Father of the Bride Part II (1995)   \n",
       "\n",
       "                                        genres  \n",
       "0  Adventure|Animation|Children|Comedy|Fantasy  \n",
       "1                   Adventure|Children|Fantasy  \n",
       "2                               Comedy|Romance  \n",
       "3                         Comedy|Drama|Romance  \n",
       "4                                       Comedy  "
      ]
     },
     "execution_count": 3,
     "metadata": {},
     "output_type": "execute_result"
    }
   ],
   "source": [
    "movies.head()"
   ]
  },
  {
   "cell_type": "code",
   "execution_count": 22,
   "metadata": {},
   "outputs": [
    {
     "data": {
      "text/plain": [
       "array([     1,     20,     49, ..., 270835, 270854, 270871])"
      ]
     },
     "execution_count": 22,
     "metadata": {},
     "output_type": "execute_result"
    }
   ],
   "source": [
    "users.userId.unique()"
   ]
  },
  {
   "cell_type": "code",
   "execution_count": 23,
   "metadata": {},
   "outputs": [
    {
     "data": {
      "text/plain": [
       "array([     1,      2,      3, ..., 270894, 270895, 270896])"
      ]
     },
     "execution_count": 23,
     "metadata": {},
     "output_type": "execute_result"
    }
   ],
   "source": [
    "ratings.userId.unique()"
   ]
  },
  {
   "cell_type": "code",
   "execution_count": null,
   "metadata": {},
   "outputs": [],
   "source": [
    "### this is important - so there are SOME users that are in the ratings , but not in the users table\n",
    "### so, not for all users and movies we have meta information\n",
    "\n",
    "\n",
    "### for basic model we will go with the ratings only dataframe"
   ]
  },
  {
   "cell_type": "code",
   "execution_count": 14,
   "metadata": {},
   "outputs": [
    {
     "data": {
      "text/html": [
       "<div>\n",
       "<style scoped>\n",
       "    .dataframe tbody tr th:only-of-type {\n",
       "        vertical-align: middle;\n",
       "    }\n",
       "\n",
       "    .dataframe tbody tr th {\n",
       "        vertical-align: top;\n",
       "    }\n",
       "\n",
       "    .dataframe thead th {\n",
       "        text-align: right;\n",
       "    }\n",
       "</style>\n",
       "<table border=\"1\" class=\"dataframe\">\n",
       "  <thead>\n",
       "    <tr style=\"text-align: right;\">\n",
       "      <th></th>\n",
       "      <th>userId</th>\n",
       "      <th>movieId</th>\n",
       "      <th>rating</th>\n",
       "      <th>timestamp</th>\n",
       "    </tr>\n",
       "  </thead>\n",
       "  <tbody>\n",
       "    <tr>\n",
       "      <th>0</th>\n",
       "      <td>1</td>\n",
       "      <td>110</td>\n",
       "      <td>1.0</td>\n",
       "      <td>1425941529</td>\n",
       "    </tr>\n",
       "    <tr>\n",
       "      <th>1</th>\n",
       "      <td>1</td>\n",
       "      <td>147</td>\n",
       "      <td>4.5</td>\n",
       "      <td>1425942435</td>\n",
       "    </tr>\n",
       "    <tr>\n",
       "      <th>2</th>\n",
       "      <td>1</td>\n",
       "      <td>858</td>\n",
       "      <td>5.0</td>\n",
       "      <td>1425941523</td>\n",
       "    </tr>\n",
       "    <tr>\n",
       "      <th>3</th>\n",
       "      <td>1</td>\n",
       "      <td>1221</td>\n",
       "      <td>5.0</td>\n",
       "      <td>1425941546</td>\n",
       "    </tr>\n",
       "    <tr>\n",
       "      <th>4</th>\n",
       "      <td>1</td>\n",
       "      <td>1246</td>\n",
       "      <td>5.0</td>\n",
       "      <td>1425941556</td>\n",
       "    </tr>\n",
       "    <tr>\n",
       "      <th>5</th>\n",
       "      <td>1</td>\n",
       "      <td>1968</td>\n",
       "      <td>4.0</td>\n",
       "      <td>1425942148</td>\n",
       "    </tr>\n",
       "    <tr>\n",
       "      <th>6</th>\n",
       "      <td>1</td>\n",
       "      <td>2762</td>\n",
       "      <td>4.5</td>\n",
       "      <td>1425941300</td>\n",
       "    </tr>\n",
       "    <tr>\n",
       "      <th>7</th>\n",
       "      <td>1</td>\n",
       "      <td>2918</td>\n",
       "      <td>5.0</td>\n",
       "      <td>1425941593</td>\n",
       "    </tr>\n",
       "    <tr>\n",
       "      <th>8</th>\n",
       "      <td>1</td>\n",
       "      <td>2959</td>\n",
       "      <td>4.0</td>\n",
       "      <td>1425941601</td>\n",
       "    </tr>\n",
       "    <tr>\n",
       "      <th>9</th>\n",
       "      <td>1</td>\n",
       "      <td>4226</td>\n",
       "      <td>4.0</td>\n",
       "      <td>1425942228</td>\n",
       "    </tr>\n",
       "    <tr>\n",
       "      <th>10</th>\n",
       "      <td>1</td>\n",
       "      <td>4878</td>\n",
       "      <td>5.0</td>\n",
       "      <td>1425941434</td>\n",
       "    </tr>\n",
       "    <tr>\n",
       "      <th>11</th>\n",
       "      <td>1</td>\n",
       "      <td>5577</td>\n",
       "      <td>5.0</td>\n",
       "      <td>1425941397</td>\n",
       "    </tr>\n",
       "    <tr>\n",
       "      <th>12</th>\n",
       "      <td>1</td>\n",
       "      <td>33794</td>\n",
       "      <td>4.0</td>\n",
       "      <td>1425942005</td>\n",
       "    </tr>\n",
       "    <tr>\n",
       "      <th>13</th>\n",
       "      <td>1</td>\n",
       "      <td>54503</td>\n",
       "      <td>3.5</td>\n",
       "      <td>1425941313</td>\n",
       "    </tr>\n",
       "    <tr>\n",
       "      <th>14</th>\n",
       "      <td>1</td>\n",
       "      <td>58559</td>\n",
       "      <td>4.0</td>\n",
       "      <td>1425942007</td>\n",
       "    </tr>\n",
       "    <tr>\n",
       "      <th>15</th>\n",
       "      <td>1</td>\n",
       "      <td>59315</td>\n",
       "      <td>5.0</td>\n",
       "      <td>1425941502</td>\n",
       "    </tr>\n",
       "    <tr>\n",
       "      <th>16</th>\n",
       "      <td>1</td>\n",
       "      <td>68358</td>\n",
       "      <td>5.0</td>\n",
       "      <td>1425941464</td>\n",
       "    </tr>\n",
       "    <tr>\n",
       "      <th>17</th>\n",
       "      <td>1</td>\n",
       "      <td>69844</td>\n",
       "      <td>5.0</td>\n",
       "      <td>1425942139</td>\n",
       "    </tr>\n",
       "    <tr>\n",
       "      <th>18</th>\n",
       "      <td>1</td>\n",
       "      <td>73017</td>\n",
       "      <td>5.0</td>\n",
       "      <td>1425942699</td>\n",
       "    </tr>\n",
       "    <tr>\n",
       "      <th>19</th>\n",
       "      <td>1</td>\n",
       "      <td>81834</td>\n",
       "      <td>5.0</td>\n",
       "      <td>1425942133</td>\n",
       "    </tr>\n",
       "    <tr>\n",
       "      <th>20</th>\n",
       "      <td>1</td>\n",
       "      <td>91500</td>\n",
       "      <td>2.5</td>\n",
       "      <td>1425942647</td>\n",
       "    </tr>\n",
       "    <tr>\n",
       "      <th>21</th>\n",
       "      <td>1</td>\n",
       "      <td>91542</td>\n",
       "      <td>5.0</td>\n",
       "      <td>1425942618</td>\n",
       "    </tr>\n",
       "    <tr>\n",
       "      <th>22</th>\n",
       "      <td>1</td>\n",
       "      <td>92439</td>\n",
       "      <td>5.0</td>\n",
       "      <td>1425941424</td>\n",
       "    </tr>\n",
       "    <tr>\n",
       "      <th>23</th>\n",
       "      <td>1</td>\n",
       "      <td>96821</td>\n",
       "      <td>5.0</td>\n",
       "      <td>1425941382</td>\n",
       "    </tr>\n",
       "    <tr>\n",
       "      <th>24</th>\n",
       "      <td>1</td>\n",
       "      <td>98809</td>\n",
       "      <td>0.5</td>\n",
       "      <td>1425942640</td>\n",
       "    </tr>\n",
       "    <tr>\n",
       "      <th>25</th>\n",
       "      <td>1</td>\n",
       "      <td>99114</td>\n",
       "      <td>4.0</td>\n",
       "      <td>1425941667</td>\n",
       "    </tr>\n",
       "    <tr>\n",
       "      <th>26</th>\n",
       "      <td>1</td>\n",
       "      <td>112552</td>\n",
       "      <td>5.0</td>\n",
       "      <td>1425941336</td>\n",
       "    </tr>\n",
       "    <tr>\n",
       "      <th>27</th>\n",
       "      <td>2</td>\n",
       "      <td>5</td>\n",
       "      <td>3.0</td>\n",
       "      <td>867039249</td>\n",
       "    </tr>\n",
       "    <tr>\n",
       "      <th>28</th>\n",
       "      <td>2</td>\n",
       "      <td>25</td>\n",
       "      <td>3.0</td>\n",
       "      <td>867039168</td>\n",
       "    </tr>\n",
       "    <tr>\n",
       "      <th>29</th>\n",
       "      <td>2</td>\n",
       "      <td>32</td>\n",
       "      <td>2.0</td>\n",
       "      <td>867039166</td>\n",
       "    </tr>\n",
       "  </tbody>\n",
       "</table>\n",
       "</div>"
      ],
      "text/plain": [
       "    userId  movieId  rating   timestamp\n",
       "0        1      110     1.0  1425941529\n",
       "1        1      147     4.5  1425942435\n",
       "2        1      858     5.0  1425941523\n",
       "3        1     1221     5.0  1425941546\n",
       "4        1     1246     5.0  1425941556\n",
       "5        1     1968     4.0  1425942148\n",
       "6        1     2762     4.5  1425941300\n",
       "7        1     2918     5.0  1425941593\n",
       "8        1     2959     4.0  1425941601\n",
       "9        1     4226     4.0  1425942228\n",
       "10       1     4878     5.0  1425941434\n",
       "11       1     5577     5.0  1425941397\n",
       "12       1    33794     4.0  1425942005\n",
       "13       1    54503     3.5  1425941313\n",
       "14       1    58559     4.0  1425942007\n",
       "15       1    59315     5.0  1425941502\n",
       "16       1    68358     5.0  1425941464\n",
       "17       1    69844     5.0  1425942139\n",
       "18       1    73017     5.0  1425942699\n",
       "19       1    81834     5.0  1425942133\n",
       "20       1    91500     2.5  1425942647\n",
       "21       1    91542     5.0  1425942618\n",
       "22       1    92439     5.0  1425941424\n",
       "23       1    96821     5.0  1425941382\n",
       "24       1    98809     0.5  1425942640\n",
       "25       1    99114     4.0  1425941667\n",
       "26       1   112552     5.0  1425941336\n",
       "27       2        5     3.0   867039249\n",
       "28       2       25     3.0   867039168\n",
       "29       2       32     2.0   867039166"
      ]
     },
     "execution_count": 14,
     "metadata": {},
     "output_type": "execute_result"
    }
   ],
   "source": [
    "ratings.head(30)"
   ]
  },
  {
   "cell_type": "code",
   "execution_count": 6,
   "metadata": {},
   "outputs": [],
   "source": [
    "# let us combine in one datastructure\n"
   ]
  },
  {
   "cell_type": "code",
   "execution_count": 7,
   "metadata": {},
   "outputs": [
    {
     "name": "stdout",
     "output_type": "stream",
     "text": [
      "min user id 1,\n",
      "max user id 270871,\n",
      "total number of users 18052,\n",
      "min movie id 1,\n",
      "max movie id 176279,\n",
      "total number of movies 45843,\n"
     ]
    }
   ],
   "source": [
    "print(\"min user id {},\".format(min(users.userId)))\n",
    "print(\"max user id {},\".format(max(users.userId)))\n",
    "print(\"total number of users {},\".format(len(users.userId.unique())))\n",
    "\n",
    "print(\"min movie id {},\".format(min(movies.movieId)))\n",
    "print(\"max movie id {},\".format(max(movies.movieId)))\n",
    "print(\"total number of movies {},\".format(len(movies.movieId.unique())))"
   ]
  },
  {
   "cell_type": "code",
   "execution_count": 56,
   "metadata": {},
   "outputs": [],
   "source": [
    "## looking at the ratings table"
   ]
  },
  {
   "cell_type": "code",
   "execution_count": 55,
   "metadata": {},
   "outputs": [
    {
     "name": "stdout",
     "output_type": "stream",
     "text": [
      "min user id 1,\n",
      "max user id 270896,\n",
      "total number of users 270896,\n"
     ]
    }
   ],
   "source": [
    "print(\"min user id {},\".format(min(ratings.userId)))\n",
    "print(\"max user id {},\".format(max(ratings.userId)))\n",
    "print(\"total number of users {},\".format(len(ratings.userId.unique())))"
   ]
  },
  {
   "cell_type": "code",
   "execution_count": 54,
   "metadata": {},
   "outputs": [
    {
     "name": "stdout",
     "output_type": "stream",
     "text": [
      "min movie id 1,\n",
      "max movie id 176275,\n",
      "total number of movies 45115,\n"
     ]
    }
   ],
   "source": [
    "print(\"min movie id {},\".format(min(ratings.movieId)))\n",
    "print(\"max movie id {},\".format(max(ratings.movieId)))\n",
    "print(\"total number of movies {},\".format(len(ratings.movieId.unique())))"
   ]
  },
  {
   "cell_type": "code",
   "execution_count": 8,
   "metadata": {},
   "outputs": [
    {
     "data": {
      "text/plain": [
       "userId       26024289\n",
       "movieId      26024289\n",
       "rating       26024289\n",
       "timestamp    26024289\n",
       "dtype: int64"
      ]
     },
     "execution_count": 8,
     "metadata": {},
     "output_type": "execute_result"
    }
   ],
   "source": [
    "ratings.count()"
   ]
  },
  {
   "cell_type": "code",
   "execution_count": 9,
   "metadata": {
    "scrolled": true
   },
   "outputs": [
    {
     "data": {
      "text/html": [
       "<div>\n",
       "<style scoped>\n",
       "    .dataframe tbody tr th:only-of-type {\n",
       "        vertical-align: middle;\n",
       "    }\n",
       "\n",
       "    .dataframe tbody tr th {\n",
       "        vertical-align: top;\n",
       "    }\n",
       "\n",
       "    .dataframe thead th {\n",
       "        text-align: right;\n",
       "    }\n",
       "</style>\n",
       "<table border=\"1\" class=\"dataframe\">\n",
       "  <thead>\n",
       "    <tr style=\"text-align: right;\">\n",
       "      <th></th>\n",
       "      <th>userId</th>\n",
       "      <th>movieId</th>\n",
       "      <th>rating</th>\n",
       "      <th>timestamp</th>\n",
       "    </tr>\n",
       "  </thead>\n",
       "  <tbody>\n",
       "    <tr>\n",
       "      <th>count</th>\n",
       "      <td>2.602429e+07</td>\n",
       "      <td>2.602429e+07</td>\n",
       "      <td>2.602429e+07</td>\n",
       "      <td>2.602429e+07</td>\n",
       "    </tr>\n",
       "    <tr>\n",
       "      <th>mean</th>\n",
       "      <td>1.350371e+05</td>\n",
       "      <td>1.584911e+04</td>\n",
       "      <td>3.528090e+00</td>\n",
       "      <td>1.171258e+09</td>\n",
       "    </tr>\n",
       "    <tr>\n",
       "      <th>std</th>\n",
       "      <td>7.817620e+04</td>\n",
       "      <td>3.108526e+04</td>\n",
       "      <td>1.065443e+00</td>\n",
       "      <td>2.052889e+08</td>\n",
       "    </tr>\n",
       "    <tr>\n",
       "      <th>min</th>\n",
       "      <td>1.000000e+00</td>\n",
       "      <td>1.000000e+00</td>\n",
       "      <td>5.000000e-01</td>\n",
       "      <td>7.896520e+08</td>\n",
       "    </tr>\n",
       "    <tr>\n",
       "      <th>25%</th>\n",
       "      <td>6.716400e+04</td>\n",
       "      <td>1.073000e+03</td>\n",
       "      <td>3.000000e+00</td>\n",
       "      <td>9.907545e+08</td>\n",
       "    </tr>\n",
       "    <tr>\n",
       "      <th>50%</th>\n",
       "      <td>1.351630e+05</td>\n",
       "      <td>2.583000e+03</td>\n",
       "      <td>3.500000e+00</td>\n",
       "      <td>1.151716e+09</td>\n",
       "    </tr>\n",
       "    <tr>\n",
       "      <th>75%</th>\n",
       "      <td>2.026930e+05</td>\n",
       "      <td>6.503000e+03</td>\n",
       "      <td>4.000000e+00</td>\n",
       "      <td>1.357578e+09</td>\n",
       "    </tr>\n",
       "    <tr>\n",
       "      <th>max</th>\n",
       "      <td>2.708960e+05</td>\n",
       "      <td>1.762750e+05</td>\n",
       "      <td>5.000000e+00</td>\n",
       "      <td>1.501830e+09</td>\n",
       "    </tr>\n",
       "  </tbody>\n",
       "</table>\n",
       "</div>"
      ],
      "text/plain": [
       "             userId       movieId        rating     timestamp\n",
       "count  2.602429e+07  2.602429e+07  2.602429e+07  2.602429e+07\n",
       "mean   1.350371e+05  1.584911e+04  3.528090e+00  1.171258e+09\n",
       "std    7.817620e+04  3.108526e+04  1.065443e+00  2.052889e+08\n",
       "min    1.000000e+00  1.000000e+00  5.000000e-01  7.896520e+08\n",
       "25%    6.716400e+04  1.073000e+03  3.000000e+00  9.907545e+08\n",
       "50%    1.351630e+05  2.583000e+03  3.500000e+00  1.151716e+09\n",
       "75%    2.026930e+05  6.503000e+03  4.000000e+00  1.357578e+09\n",
       "max    2.708960e+05  1.762750e+05  5.000000e+00  1.501830e+09"
      ]
     },
     "execution_count": 9,
     "metadata": {},
     "output_type": "execute_result"
    }
   ],
   "source": [
    "ratings.describe()"
   ]
  },
  {
   "cell_type": "code",
   "execution_count": 24,
   "metadata": {},
   "outputs": [],
   "source": [
    "userIdx_to_userId = {i: v for i, v in enumerate(ratings.userId.unique())}\n",
    "userId_to_userIdx = {v: i for i, v in enumerate(ratings.userId.unique())}"
   ]
  },
  {
   "cell_type": "code",
   "execution_count": 25,
   "metadata": {},
   "outputs": [],
   "source": [
    "movieIdx_to_movieId = {i: v for i, v in enumerate(ratings.movieId.unique())}\n",
    "movieId_to_movieIdx = {v: i for i, v in enumerate(ratings.movieId.unique())}"
   ]
  },
  {
   "cell_type": "code",
   "execution_count": 34,
   "metadata": {},
   "outputs": [
    {
     "name": "stdout",
     "output_type": "stream",
     "text": [
      "58559\n"
     ]
    }
   ],
   "source": [
    "print(movieIdx_to_movieId[14])"
   ]
  },
  {
   "cell_type": "code",
   "execution_count": 29,
   "metadata": {
    "scrolled": false
   },
   "outputs": [],
   "source": [
    "# now let us create a list of tuples from ratings. \n",
    "# The tuple will contain (user_idx, movie_idx, rating)\n",
    "def map_to_tuple(row):\n",
    "    #print(row.userId)\n",
    "    #print(row.movieId)\n",
    "    # print('userId is {}'.format(row.userId))\n",
    "    # print('movieId is {}'.format(row.movieId))\n",
    "    # print(userId_to_userIdx[row.userId])\n",
    "    # print(movieId_to_movieIdx[row.movieId])\n",
    "    # print(userId_to_userIdx[row.userId],movieId_to_movieIdx[row.movieId], row.rating)\n",
    "    return (userId_to_userIdx[row.userId],movieId_to_movieIdx[row.movieId], row.rating)\n",
    "\n",
    "ratings[\"mapped\"] = ratings.apply(map_to_tuple, axis=1)"
   ]
  },
  {
   "cell_type": "code",
   "execution_count": 30,
   "metadata": {},
   "outputs": [
    {
     "data": {
      "text/html": [
       "<div>\n",
       "<style scoped>\n",
       "    .dataframe tbody tr th:only-of-type {\n",
       "        vertical-align: middle;\n",
       "    }\n",
       "\n",
       "    .dataframe tbody tr th {\n",
       "        vertical-align: top;\n",
       "    }\n",
       "\n",
       "    .dataframe thead th {\n",
       "        text-align: right;\n",
       "    }\n",
       "</style>\n",
       "<table border=\"1\" class=\"dataframe\">\n",
       "  <thead>\n",
       "    <tr style=\"text-align: right;\">\n",
       "      <th></th>\n",
       "      <th>userId</th>\n",
       "      <th>movieId</th>\n",
       "      <th>rating</th>\n",
       "      <th>timestamp</th>\n",
       "      <th>mapped</th>\n",
       "    </tr>\n",
       "  </thead>\n",
       "  <tbody>\n",
       "    <tr>\n",
       "      <th>0</th>\n",
       "      <td>1</td>\n",
       "      <td>110</td>\n",
       "      <td>1.0</td>\n",
       "      <td>1425941529</td>\n",
       "      <td>(0, 0, 1.0)</td>\n",
       "    </tr>\n",
       "    <tr>\n",
       "      <th>1</th>\n",
       "      <td>1</td>\n",
       "      <td>147</td>\n",
       "      <td>4.5</td>\n",
       "      <td>1425942435</td>\n",
       "      <td>(0, 1, 4.5)</td>\n",
       "    </tr>\n",
       "    <tr>\n",
       "      <th>2</th>\n",
       "      <td>1</td>\n",
       "      <td>858</td>\n",
       "      <td>5.0</td>\n",
       "      <td>1425941523</td>\n",
       "      <td>(0, 2, 5.0)</td>\n",
       "    </tr>\n",
       "    <tr>\n",
       "      <th>3</th>\n",
       "      <td>1</td>\n",
       "      <td>1221</td>\n",
       "      <td>5.0</td>\n",
       "      <td>1425941546</td>\n",
       "      <td>(0, 3, 5.0)</td>\n",
       "    </tr>\n",
       "    <tr>\n",
       "      <th>4</th>\n",
       "      <td>1</td>\n",
       "      <td>1246</td>\n",
       "      <td>5.0</td>\n",
       "      <td>1425941556</td>\n",
       "      <td>(0, 4, 5.0)</td>\n",
       "    </tr>\n",
       "    <tr>\n",
       "      <th>5</th>\n",
       "      <td>1</td>\n",
       "      <td>1968</td>\n",
       "      <td>4.0</td>\n",
       "      <td>1425942148</td>\n",
       "      <td>(0, 5, 4.0)</td>\n",
       "    </tr>\n",
       "    <tr>\n",
       "      <th>6</th>\n",
       "      <td>1</td>\n",
       "      <td>2762</td>\n",
       "      <td>4.5</td>\n",
       "      <td>1425941300</td>\n",
       "      <td>(0, 6, 4.5)</td>\n",
       "    </tr>\n",
       "    <tr>\n",
       "      <th>7</th>\n",
       "      <td>1</td>\n",
       "      <td>2918</td>\n",
       "      <td>5.0</td>\n",
       "      <td>1425941593</td>\n",
       "      <td>(0, 7, 5.0)</td>\n",
       "    </tr>\n",
       "    <tr>\n",
       "      <th>8</th>\n",
       "      <td>1</td>\n",
       "      <td>2959</td>\n",
       "      <td>4.0</td>\n",
       "      <td>1425941601</td>\n",
       "      <td>(0, 8, 4.0)</td>\n",
       "    </tr>\n",
       "    <tr>\n",
       "      <th>9</th>\n",
       "      <td>1</td>\n",
       "      <td>4226</td>\n",
       "      <td>4.0</td>\n",
       "      <td>1425942228</td>\n",
       "      <td>(0, 9, 4.0)</td>\n",
       "    </tr>\n",
       "    <tr>\n",
       "      <th>10</th>\n",
       "      <td>1</td>\n",
       "      <td>4878</td>\n",
       "      <td>5.0</td>\n",
       "      <td>1425941434</td>\n",
       "      <td>(0, 10, 5.0)</td>\n",
       "    </tr>\n",
       "    <tr>\n",
       "      <th>11</th>\n",
       "      <td>1</td>\n",
       "      <td>5577</td>\n",
       "      <td>5.0</td>\n",
       "      <td>1425941397</td>\n",
       "      <td>(0, 11, 5.0)</td>\n",
       "    </tr>\n",
       "    <tr>\n",
       "      <th>12</th>\n",
       "      <td>1</td>\n",
       "      <td>33794</td>\n",
       "      <td>4.0</td>\n",
       "      <td>1425942005</td>\n",
       "      <td>(0, 12, 4.0)</td>\n",
       "    </tr>\n",
       "    <tr>\n",
       "      <th>13</th>\n",
       "      <td>1</td>\n",
       "      <td>54503</td>\n",
       "      <td>3.5</td>\n",
       "      <td>1425941313</td>\n",
       "      <td>(0, 13, 3.5)</td>\n",
       "    </tr>\n",
       "    <tr>\n",
       "      <th>14</th>\n",
       "      <td>1</td>\n",
       "      <td>58559</td>\n",
       "      <td>4.0</td>\n",
       "      <td>1425942007</td>\n",
       "      <td>(0, 14, 4.0)</td>\n",
       "    </tr>\n",
       "  </tbody>\n",
       "</table>\n",
       "</div>"
      ],
      "text/plain": [
       "    userId  movieId  rating   timestamp        mapped\n",
       "0        1      110     1.0  1425941529   (0, 0, 1.0)\n",
       "1        1      147     4.5  1425942435   (0, 1, 4.5)\n",
       "2        1      858     5.0  1425941523   (0, 2, 5.0)\n",
       "3        1     1221     5.0  1425941546   (0, 3, 5.0)\n",
       "4        1     1246     5.0  1425941556   (0, 4, 5.0)\n",
       "5        1     1968     4.0  1425942148   (0, 5, 4.0)\n",
       "6        1     2762     4.5  1425941300   (0, 6, 4.5)\n",
       "7        1     2918     5.0  1425941593   (0, 7, 5.0)\n",
       "8        1     2959     4.0  1425941601   (0, 8, 4.0)\n",
       "9        1     4226     4.0  1425942228   (0, 9, 4.0)\n",
       "10       1     4878     5.0  1425941434  (0, 10, 5.0)\n",
       "11       1     5577     5.0  1425941397  (0, 11, 5.0)\n",
       "12       1    33794     4.0  1425942005  (0, 12, 4.0)\n",
       "13       1    54503     3.5  1425941313  (0, 13, 3.5)\n",
       "14       1    58559     4.0  1425942007  (0, 14, 4.0)"
      ]
     },
     "execution_count": 30,
     "metadata": {},
     "output_type": "execute_result"
    }
   ],
   "source": [
    "ratings.head(15)"
   ]
  },
  {
   "cell_type": "code",
   "execution_count": 31,
   "metadata": {},
   "outputs": [],
   "source": [
    "# save the processed dataframe\n",
    "ratings.to_csv(\"ratings_mapped.csv\")"
   ]
  },
  {
   "cell_type": "code",
   "execution_count": 35,
   "metadata": {},
   "outputs": [],
   "source": [
    "## now we have should split in test and train set\n",
    "## first we have to create a list from \"mapped\" column and than do a split\n",
    "## the question for future if I should co mini-batches \n",
    "## (since GPU seems to be not very efficient in case of a minibatch of a size one / I have to get back to this)\n",
    "\n",
    "mapped_list = list(ratings.mapped)"
   ]
  },
  {
   "cell_type": "code",
   "execution_count": 36,
   "metadata": {},
   "outputs": [
    {
     "data": {
      "text/plain": [
       "234218712"
      ]
     },
     "execution_count": 36,
     "metadata": {},
     "output_type": "execute_result"
    }
   ],
   "source": [
    "import sys\n",
    "sys.getsizeof(mapped_list)"
   ]
  },
  {
   "cell_type": "code",
   "execution_count": 37,
   "metadata": {},
   "outputs": [
    {
     "name": "stderr",
     "output_type": "stream",
     "text": [
      "/anaconda3/lib/python3.6/site-packages/sklearn/cross_validation.py:41: DeprecationWarning: This module was deprecated in version 0.18 in favor of the model_selection module into which all the refactored classes and functions are moved. Also note that the interface of the new CV iterators are different from that of this module. This module will be removed in 0.20.\n",
      "  \"This module will be removed in 0.20.\", DeprecationWarning)\n"
     ]
    }
   ],
   "source": [
    "from sklearn.cross_validation import train_test_split\n",
    "train, test = train_test_split(mapped_list, test_size=0.2)"
   ]
  },
  {
   "cell_type": "code",
   "execution_count": 39,
   "metadata": {},
   "outputs": [
    {
     "data": {
      "text/plain": [
       "20819431"
      ]
     },
     "execution_count": 39,
     "metadata": {},
     "output_type": "execute_result"
    }
   ],
   "source": [
    "len(train)"
   ]
  },
  {
   "cell_type": "code",
   "execution_count": 46,
   "metadata": {},
   "outputs": [],
   "source": [
    "train_users = set([p[0] for p in train])\n",
    "train_items = set([p[1] for p in train])"
   ]
  },
  {
   "cell_type": "code",
   "execution_count": 59,
   "metadata": {},
   "outputs": [],
   "source": [
    "test_users = set([p[0] for p in test])\n",
    "test_items = set([p[1] for p in test])"
   ]
  },
  {
   "cell_type": "code",
   "execution_count": 60,
   "metadata": {},
   "outputs": [
    {
     "name": "stdout",
     "output_type": "stream",
     "text": [
      "269685\n",
      "43276\n"
     ]
    }
   ],
   "source": [
    "n_users_train = len(train_users)\n",
    "n_items_train = len(train_items)\n",
    "print(n_users_train)\n",
    "print(n_items_train)"
   ]
  },
  {
   "cell_type": "code",
   "execution_count": 61,
   "metadata": {},
   "outputs": [
    {
     "name": "stdout",
     "output_type": "stream",
     "text": [
      "252996\n",
      "31759\n"
     ]
    }
   ],
   "source": [
    "n_users_test = len(test_users)\n",
    "n_items_test = len(test_items)\n",
    "print(n_users_test)\n",
    "print(n_items_test)"
   ]
  },
  {
   "cell_type": "code",
   "execution_count": 64,
   "metadata": {},
   "outputs": [
    {
     "name": "stdout",
     "output_type": "stream",
     "text": [
      "252996\n"
     ]
    }
   ],
   "source": [
    "## we want to test only on those users that are present in train\n",
    "test_users_cleaned = train_users.intersection(test_users)\n",
    "print(len(test_users))"
   ]
  },
  {
   "cell_type": "code",
   "execution_count": 74,
   "metadata": {},
   "outputs": [],
   "source": [
    "full_users = set([p[0] for p in mapped_list])\n",
    "full_items = set([p[1] for p in mapped_list])"
   ]
  },
  {
   "cell_type": "code",
   "execution_count": 75,
   "metadata": {},
   "outputs": [],
   "source": [
    "n_users_full = len(full_users)\n",
    "n_items_full = len(full_items)"
   ]
  },
  {
   "cell_type": "code",
   "execution_count": 76,
   "metadata": {},
   "outputs": [
    {
     "name": "stdout",
     "output_type": "stream",
     "text": [
      "270896 45115\n"
     ]
    }
   ],
   "source": [
    "print(n_users_full, n_items_full)"
   ]
  },
  {
   "cell_type": "code",
   "execution_count": 77,
   "metadata": {},
   "outputs": [],
   "source": [
    "#### Define a baby model\n",
    "class BabyMatrixFactorization(torch.nn.Module):\n",
    "    \n",
    "    def __init__(self, n_users, n_items, n_factors=20):\n",
    "        super().__init__()\n",
    "        self.user_factors = torch.nn.Embedding(n_users, \n",
    "                                               n_factors,\n",
    "                                               sparse=True)\n",
    "        self.item_factors = torch.nn.Embedding(n_items, \n",
    "                                               n_factors,\n",
    "                                               sparse=True)\n",
    "        \n",
    "    def forward(self, user, item):\n",
    "        return (self.user_factors(user) * self.item_factors(item)).sum(1)"
   ]
  },
  {
   "cell_type": "code",
   "execution_count": 78,
   "metadata": {},
   "outputs": [],
   "source": [
    "model = BabyMatrixFactorization(n_users_full, n_items_full, n_factors=20)"
   ]
  },
  {
   "cell_type": "code",
   "execution_count": 79,
   "metadata": {},
   "outputs": [],
   "source": [
    "loss_func = torch.nn.MSELoss()"
   ]
  },
  {
   "cell_type": "code",
   "execution_count": 80,
   "metadata": {},
   "outputs": [],
   "source": [
    "optimizer = torch.optim.SGD(model.parameters(), \n",
    "                            lr=1e-6) # learning rate"
   ]
  },
  {
   "cell_type": "code",
   "execution_count": 82,
   "metadata": {},
   "outputs": [],
   "source": [
    "from tqdm import tqdm"
   ]
  },
  {
   "cell_type": "code",
   "execution_count": 81,
   "metadata": {},
   "outputs": [
    {
     "ename": "KeyboardInterrupt",
     "evalue": "",
     "output_type": "error",
     "traceback": [
      "\u001b[0;31m---------------------------------------------------------------------------\u001b[0m",
      "\u001b[0;31mKeyboardInterrupt\u001b[0m                         Traceback (most recent call last)",
      "\u001b[0;32m<ipython-input-81-a94d68b86c1d>\u001b[0m in \u001b[0;36m<module>\u001b[0;34m()\u001b[0m\n\u001b[1;32m     14\u001b[0m \u001b[0;34m\u001b[0m\u001b[0m\n\u001b[1;32m     15\u001b[0m     \u001b[0;31m# Update the parameters\u001b[0m\u001b[0;34m\u001b[0m\u001b[0;34m\u001b[0m\u001b[0m\n\u001b[0;32m---> 16\u001b[0;31m     \u001b[0moptimizer\u001b[0m\u001b[0;34m.\u001b[0m\u001b[0mstep\u001b[0m\u001b[0;34m(\u001b[0m\u001b[0;34m)\u001b[0m\u001b[0;34m\u001b[0m\u001b[0m\n\u001b[0m",
      "\u001b[0;32m/anaconda3/lib/python3.6/site-packages/torch/optim/sgd.py\u001b[0m in \u001b[0;36mstep\u001b[0;34m(self, closure)\u001b[0m\n\u001b[1;32m    105\u001b[0m                         \u001b[0md_p\u001b[0m \u001b[0;34m=\u001b[0m \u001b[0mbuf\u001b[0m\u001b[0;34m\u001b[0m\u001b[0m\n\u001b[1;32m    106\u001b[0m \u001b[0;34m\u001b[0m\u001b[0m\n\u001b[0;32m--> 107\u001b[0;31m                 \u001b[0mp\u001b[0m\u001b[0;34m.\u001b[0m\u001b[0mdata\u001b[0m\u001b[0;34m.\u001b[0m\u001b[0madd_\u001b[0m\u001b[0;34m(\u001b[0m\u001b[0;34m-\u001b[0m\u001b[0mgroup\u001b[0m\u001b[0;34m[\u001b[0m\u001b[0;34m'lr'\u001b[0m\u001b[0;34m]\u001b[0m\u001b[0;34m,\u001b[0m \u001b[0md_p\u001b[0m\u001b[0;34m)\u001b[0m\u001b[0;34m\u001b[0m\u001b[0m\n\u001b[0m\u001b[1;32m    108\u001b[0m \u001b[0;34m\u001b[0m\u001b[0m\n\u001b[1;32m    109\u001b[0m         \u001b[0;32mreturn\u001b[0m \u001b[0mloss\u001b[0m\u001b[0;34m\u001b[0m\u001b[0m\n",
      "\u001b[0;31mKeyboardInterrupt\u001b[0m: "
     ]
    }
   ],
   "source": [
    "## i have to shuffle the dataset\n",
    "from random import shuffle\n",
    "\n",
    "## now we want to converge\n",
    "for user, item, rating in tqdm(train):\n",
    "    # Turn data into variables\n",
    "    rating_tensor = Variable(torch.FloatTensor([rating]))\n",
    "    user_tensor = Variable(torch.LongTensor([user]))\n",
    "    item_tensor = Variable(torch.LongTensor([item]))\n",
    "    \n",
    "    # Predict and calculate loss\n",
    "    prediction = model(user_tensor, item_tensor)\n",
    "    loss = loss_func(prediction, rating_tensor)\n",
    "    \n",
    "    # Backpropagate\n",
    "    loss.backward()\n",
    "    print(loss.item())\n",
    "    \n",
    "    # Update the parameters\n",
    "    optimizer.step()"
   ]
  },
  {
   "cell_type": "code",
   "execution_count": null,
   "metadata": {},
   "outputs": [],
   "source": []
  },
  {
   "cell_type": "code",
   "execution_count": null,
   "metadata": {},
   "outputs": [],
   "source": []
  }
 ],
 "metadata": {
  "kernelspec": {
   "display_name": "Python 3",
   "language": "python",
   "name": "python3"
  },
  "language_info": {
   "codemirror_mode": {
    "name": "ipython",
    "version": 3
   },
   "file_extension": ".py",
   "mimetype": "text/x-python",
   "name": "python",
   "nbconvert_exporter": "python",
   "pygments_lexer": "ipython3",
   "version": "3.6.5"
  }
 },
 "nbformat": 4,
 "nbformat_minor": 2
}
